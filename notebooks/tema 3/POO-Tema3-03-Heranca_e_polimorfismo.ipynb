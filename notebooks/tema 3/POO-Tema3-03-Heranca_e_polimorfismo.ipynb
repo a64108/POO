{
 "cells": [
  {
   "cell_type": "markdown",
   "metadata": {
    "slideshow": {
     "slide_type": "slide"
    }
   },
   "source": [
    "# Programação Orientada a Objetos (POO)\n",
    "## Tema 3\n",
    "### Parte III\n",
    "Jaime A. Martins\n",
    "\n",
    "(CEOT/ISE/UAlg - jamartins@ualg.pt)"
   ]
  },
  {
   "cell_type": "markdown",
   "metadata": {
    "slideshow": {
     "slide_type": "skip"
    }
   },
   "source": [
    "###### Autores: Jaime Martins [v2]; Pedro Cardoso [v1]"
   ]
  },
  {
   "cell_type": "markdown",
   "metadata": {
    "slideshow": {
     "slide_type": "slide"
    }
   },
   "source": [
    "## Herança de Classes\n",
    "Suponhamos que pretendíamos representar vários tipos de veículos de transporte:\n",
    "* Terrestres\n",
    "   * Carros, motos, camiões, ...\n",
    "* Aquáticos\n",
    "   * Barcos sem/com motor, ...\n",
    "* Aéreos\n",
    "   * Aviões, helicópteros, drones, ...\n",
    "* ..."
   ]
  },
  {
   "cell_type": "markdown",
   "metadata": {
    "slideshow": {
     "slide_type": "subslide"
    }
   },
   "source": [
    "Sendo (quase sempre) **más soluções**, poderíamos:"
   ]
  },
  {
   "cell_type": "markdown",
   "metadata": {
    "slideshow": {
     "slide_type": "subslide"
    }
   },
   "source": [
    "1. Criar uma classe única para todos os meios de transporte, mantendo nela a marca, o modelo, o dono, número de passageiros, tamanho dos pneus, etc.\n",
    "   * **Problema:** se não existir valor para um determinado atributo (e.g., um barco não tem pneus!) deixaríamos esse atributo vazio.<br/><br/>"
   ]
  },
  {
   "cell_type": "markdown",
   "metadata": {
    "slideshow": {
     "slide_type": "subslide"
    }
   },
   "source": [
    "2. Reescrever tudo para cada tipo diferente de transporte, apesar de se repetir exatamente o mesmo código para funcionalidades comuns.\n",
    "   * **Problema:** se for necessário alterar o código base, tem de ser alterado em todas as classes!\n",
    "   * **Problema:** ao acrescentar alguma funcionalidade base, também é necessário adicioná-la a todas as classes!"
   ]
  },
  {
   "cell_type": "markdown",
   "metadata": {
    "slideshow": {
     "slide_type": "subslide"
    }
   },
   "source": [
    "3. E em relação aos métodos?\n",
    "   * **Problema:** Não faria sentido ter, para alguns dos veículos (e.g., barcos), métodos para definir o tamanho dos pneus... "
   ]
  },
  {
   "cell_type": "markdown",
   "metadata": {
    "slideshow": {
     "slide_type": "subslide"
    }
   },
   "source": [
    "Em POO podemos relacionar classes de tal maneira que uma delas **herda** o que a outra tem. \n",
    "* Isto é, uma relação de **classe mãe** e **classe filha**. \n",
    "* A classe original diz-se **super classe**\n",
    "* A classe estendida diz-se **sub classe**"
   ]
  },
  {
   "cell_type": "markdown",
   "metadata": {
    "slideshow": {
     "slide_type": "subslide"
    }
   },
   "source": [
    "Em resumo, se **B estende A** então\n",
    "* B **herda de A todas a variáveis e métodos** que não sejam *declarados como private* (_name mangling_)\n",
    "* B pode **redefinir as variáveis e métodos herdados**\n",
    "* B pode **definir novas variáveis e novos métodos**"
   ]
  },
  {
   "cell_type": "code",
   "execution_count": 1,
   "metadata": {
    "ExecuteTime": {
     "end_time": "2022-03-08T12:24:33.643760Z",
     "start_time": "2022-03-08T12:24:33.636032Z"
    },
    "slideshow": {
     "slide_type": "subslide"
    }
   },
   "outputs": [],
   "source": [
    "class Vehicle:\n",
    "    def __init__(self, brand, model, number_of_passengers=0, owner=None):\n",
    "        self.owner = owner\n",
    "        self.brand = brand\n",
    "        self.model = model\n",
    "        self.number_of_passengers = number_of_passengers\n",
    "\n",
    "    def vehicle_info(self):\n",
    "        return f\"\"\"Veiculo da marca {self.brand}, modelo {self.model}, com capacidade para {self.number_of_passengers}.\n",
    "        O dono é {self.owner}.\"\"\"\n",
    "\n",
    "    @property\n",
    "    def owner(self):\n",
    "        return self.__owner\n",
    "\n",
    "    @owner.setter\n",
    "    def owner(self, owner):\n",
    "        self.__owner = owner\n",
    "\n",
    "    @property\n",
    "    def brand(self):\n",
    "        return self.__brand\n",
    "\n",
    "    @brand.setter\n",
    "    def brand(self, brand):\n",
    "        self.__brand = brand\n",
    "\n",
    "    @property\n",
    "    def model(self):\n",
    "        return self.__model\n",
    "\n",
    "    @model.setter\n",
    "    def model(self, model):\n",
    "        self.__model = model\n",
    "\n",
    "    @property\n",
    "    def number_of_passengers(self):\n",
    "        return self.__number_of_passengers\n",
    "\n",
    "    @number_of_passengers.setter\n",
    "    def number_of_passengers(self, number_of_passengers):\n",
    "        self.__number_of_passengers = number_of_passengers"
   ]
  },
  {
   "cell_type": "markdown",
   "metadata": {
    "slideshow": {
     "slide_type": "subslide"
    }
   },
   "source": [
    "Exemplo de veículo"
   ]
  },
  {
   "cell_type": "code",
   "execution_count": 2,
   "metadata": {
    "ExecuteTime": {
     "end_time": "2022-03-08T12:27:23.800610Z",
     "start_time": "2022-03-08T12:27:23.797944Z"
    },
    "slideshow": {
     "slide_type": "-"
    }
   },
   "outputs": [
    {
     "name": "stdout",
     "output_type": "stream",
     "text": [
      "Veiculo da marca Fiat, modelo 500, com capacidade para 4.\n",
      "        O dono é Margarida.\n"
     ]
    }
   ],
   "source": [
    "v = Vehicle(owner=\"Margarida\", brand=\"Fiat\", model=\"500\", number_of_passengers=4)\n",
    "print(v.vehicle_info())"
   ]
  },
  {
   "cell_type": "markdown",
   "metadata": {
    "slideshow": {
     "slide_type": "subslide"
    }
   },
   "source": [
    "Agora podemos começar a particularizar, supondo que todos os veículos terrestres tem rodas...\n",
    "podemos juntar atributos/propriedades como sejam `land_velocity`, `number_of_wheels` e `wheels`\n",
    "\n",
    "Note-se ainda que o inicializador da nova classe irá chamar o inicializador de `Vehicle` para inicializar os atributos/propriedades de `Vehicle`"
   ]
  },
  {
   "cell_type": "code",
   "execution_count": 3,
   "metadata": {
    "ExecuteTime": {
     "end_time": "2022-03-08T12:26:43.906388Z",
     "start_time": "2022-03-08T12:26:43.900498Z"
    },
    "slideshow": {
     "slide_type": "subslide"
    }
   },
   "outputs": [],
   "source": [
    "class LandVehicle(Vehicle):\n",
    "    def __init__(\n",
    "        self,\n",
    "        land_velocity,\n",
    "        wheels,\n",
    "        number_of_wheels,\n",
    "        brand,\n",
    "        model,\n",
    "        number_of_passengers=0,\n",
    "        owner=None,\n",
    "    ):\n",
    "        # Chamar o construtor de Vehicle para inicializar os atributos/propriedades de Vehicle\n",
    "        super().__init__(\n",
    "            owner=owner,\n",
    "            brand=brand,\n",
    "            model=model,\n",
    "            number_of_passengers=number_of_passengers,\n",
    "        )\n",
    "        self.land_velocity = land_velocity\n",
    "        self.wheels = wheels\n",
    "        self.number_of_wheels = number_of_wheels\n",
    "\n",
    "    def vehicle_info(self):  # redefinição do método\n",
    "        return f\"\"\"{super().vehicle_info()} Tem {self.number_of_wheels} rodas com as especificações {self.wheels}. \n",
    "        A velocidade em terra é {self.land_velocity} Km/h\"\"\"\n",
    "\n",
    "    @property\n",
    "    def land_velocity(self):\n",
    "        return self.__land_velocity\n",
    "\n",
    "    @land_velocity.setter\n",
    "    def land_velocity(self, land_velocity):\n",
    "        assert land_velocity > 0 and isinstance(land_velocity, (int, float))\n",
    "        self.__land_velocity = land_velocity\n",
    "\n",
    "    @property\n",
    "    def number_of_wheels(self):\n",
    "        return self.__number_of_wheels\n",
    "\n",
    "    @number_of_wheels.setter\n",
    "    def number_of_wheels(self, number_of_wheels):\n",
    "        assert number_of_wheels > 0 and isinstance(number_of_wheels, int)\n",
    "        self.__number_of_wheels = number_of_wheels\n",
    "\n",
    "    @property\n",
    "    def wheels(self):\n",
    "        return self.__wheels\n",
    "\n",
    "    @wheels.setter\n",
    "    def wheels(self, wheels):\n",
    "        assert isinstance(wheels, str)\n",
    "        self.__wheels = wheels"
   ]
  },
  {
   "cell_type": "code",
   "execution_count": 4,
   "metadata": {
    "ExecuteTime": {
     "end_time": "2022-03-08T12:27:44.476469Z",
     "start_time": "2022-03-08T12:27:44.473536Z"
    },
    "slideshow": {
     "slide_type": "subslide"
    }
   },
   "outputs": [
    {
     "name": "stdout",
     "output_type": "stream",
     "text": [
      "Veiculo da marca Fiat, modelo 500, com capacidade para 4.\n",
      "        O dono é Margarida. Tem 4 rodas com as especificações 225/55 R 17 97 W. \n",
      "        A velocidade em terra é 180 Km/h\n"
     ]
    }
   ],
   "source": [
    "lv = LandVehicle(\n",
    "    land_velocity=180,\n",
    "    wheels=\"225/55 R 17 97 W\",\n",
    "    number_of_wheels=4,\n",
    "    owner=\"Margarida\",\n",
    "    brand=\"Fiat\",\n",
    "    model=\"500\",\n",
    "    number_of_passengers=4,\n",
    ")\n",
    "print(lv.vehicle_info())"
   ]
  },
  {
   "cell_type": "markdown",
   "metadata": {
    "slideshow": {
     "slide_type": "subslide"
    }
   },
   "source": [
    "O `LandVehicle` pode ser ainda mais particularizado como um `Car`, juntando os atributos/propriedades `engine` e `number_of_doors`\n",
    "\n",
    "Note-se que o inicilizador de `Car` irá chamar o inicializador de `LandVehicle` para inicializar os atributos/propriedades de `LandVehicle` (e implicitamente de `Vehicle`)"
   ]
  },
  {
   "cell_type": "code",
   "execution_count": 5,
   "metadata": {
    "ExecuteTime": {
     "end_time": "2022-03-08T12:27:45.496205Z",
     "start_time": "2022-03-08T12:27:45.491324Z"
    },
    "slideshow": {
     "slide_type": "subslide"
    }
   },
   "outputs": [],
   "source": [
    "class Car(LandVehicle):\n",
    "    def __init__(self, engine, number_of_doors, *args, **kwargs):\n",
    "        # Chama o construtor de LandVehicle para inicializar os atributos/propriedades de LandVehicle (e implicitamente de Vehicle)\n",
    "        # super().__init__(land_velocity=land_velocity, wheels=wheels, number_of_wheels=number_of_wheels, owner=owner, brand=brand, model=model, number_of_passengers=number_of_passengers)\n",
    "        super().__init__(*args, **kwargs)\n",
    "        self.engine = engine\n",
    "        self.number_of_doors = number_of_doors\n",
    "\n",
    "    def vehicle_info(self):  # Redefinição do método\n",
    "        return f\"\"\"{super().vehicle_info()} tem um motor com {self.engine} cc e {self.number_of_doors} portas.\"\"\"\n",
    "\n",
    "    @property\n",
    "    def engine(self):\n",
    "        return self.__engine\n",
    "\n",
    "    @engine.setter\n",
    "    def engine(self, engine):\n",
    "        self.__engine = engine\n",
    "\n",
    "    @property\n",
    "    def number_of_doors(self):\n",
    "        return self.__number_of_doors\n",
    "\n",
    "    @number_of_doors.setter\n",
    "    def number_of_doors(self, number_of_doors):\n",
    "        assert number_of_doors > 0 and isinstance(number_of_doors, int)\n",
    "        self.__number_of_doors = number_of_doors"
   ]
  },
  {
   "cell_type": "code",
   "execution_count": 6,
   "metadata": {
    "ExecuteTime": {
     "end_time": "2022-03-08T12:28:05.515558Z",
     "start_time": "2022-03-08T12:28:05.512691Z"
    },
    "slideshow": {
     "slide_type": "subslide"
    }
   },
   "outputs": [
    {
     "name": "stdout",
     "output_type": "stream",
     "text": [
      "Veiculo da marca Fiat, modelo 500, com capacidade para 4.\n",
      "        O dono é Margarida. Tem 4 rodas com as especificações 225/55 R 17 97 W. \n",
      "        A velocidade em terra é 200 Km/h tem um motor com 1500 cc e 5 portas.\n"
     ]
    }
   ],
   "source": [
    "c = Car(\n",
    "    engine=\"1500\",\n",
    "    number_of_doors=5,\n",
    "    land_velocity=200,\n",
    "    wheels=\"225/55 R 17 97 W\",\n",
    "    number_of_wheels=4,\n",
    "    owner=\"Margarida\",\n",
    "    brand=\"Fiat\",\n",
    "    model=\"500\",\n",
    "    number_of_passengers=4,\n",
    ")\n",
    "print(c.vehicle_info())"
   ]
  },
  {
   "cell_type": "markdown",
   "metadata": {
    "slideshow": {
     "slide_type": "subslide"
    }
   },
   "source": [
    "Quais são os atributos de uma instância de `Car` (dado o _name mangling_, métodos e atributos começados por '_' )?"
   ]
  },
  {
   "cell_type": "code",
   "execution_count": 7,
   "metadata": {
    "ExecuteTime": {
     "end_time": "2022-03-08T12:30:05.179043Z",
     "start_time": "2022-03-08T12:30:05.174232Z"
    },
    "slideshow": {
     "slide_type": "-"
    }
   },
   "outputs": [
    {
     "data": {
      "text/plain": [
       "['_Car__engine',\n",
       " '_Car__number_of_doors',\n",
       " '_LandVehicle__land_velocity',\n",
       " '_LandVehicle__number_of_wheels',\n",
       " '_LandVehicle__wheels',\n",
       " '_Vehicle__brand',\n",
       " '_Vehicle__model',\n",
       " '_Vehicle__number_of_passengers',\n",
       " '_Vehicle__owner']"
      ]
     },
     "execution_count": 7,
     "metadata": {},
     "output_type": "execute_result"
    }
   ],
   "source": [
    "list(\n",
    "    filter(lambda x: x[0] == \"_\" and x[1] != \"_\", dir(c))\n",
    ")  # ou através de list(c.__dict__.keys())"
   ]
  },
  {
   "cell_type": "markdown",
   "metadata": {
    "slideshow": {
     "slide_type": "subslide"
    }
   },
   "source": [
    "e podemos vê-los com os seus valores do seguinte modo"
   ]
  },
  {
   "cell_type": "code",
   "execution_count": 8,
   "metadata": {
    "ExecuteTime": {
     "end_time": "2022-03-08T12:31:40.074532Z",
     "start_time": "2022-03-08T12:31:40.071510Z"
    },
    "slideshow": {
     "slide_type": "-"
    }
   },
   "outputs": [
    {
     "data": {
      "text/plain": [
       "{'_Vehicle__owner': 'Margarida',\n",
       " '_Vehicle__brand': 'Fiat',\n",
       " '_Vehicle__model': '500',\n",
       " '_Vehicle__number_of_passengers': 4,\n",
       " '_LandVehicle__land_velocity': 200,\n",
       " '_LandVehicle__wheels': '225/55 R 17 97 W',\n",
       " '_LandVehicle__number_of_wheels': 4,\n",
       " '_Car__engine': '1500',\n",
       " '_Car__number_of_doors': 5}"
      ]
     },
     "execution_count": 8,
     "metadata": {},
     "output_type": "execute_result"
    }
   ],
   "source": [
    "c.__dict__"
   ]
  },
  {
   "cell_type": "markdown",
   "metadata": {
    "slideshow": {
     "slide_type": "subslide"
    }
   },
   "source": [
    "E que métodos e propriedades tem `Car`?"
   ]
  },
  {
   "cell_type": "code",
   "execution_count": 9,
   "metadata": {
    "ExecuteTime": {
     "end_time": "2022-03-08T12:31:40.889556Z",
     "start_time": "2022-03-08T12:31:40.886149Z"
    },
    "slideshow": {
     "slide_type": "-"
    }
   },
   "outputs": [
    {
     "data": {
      "text/plain": [
       "['brand',\n",
       " 'engine',\n",
       " 'land_velocity',\n",
       " 'model',\n",
       " 'number_of_doors',\n",
       " 'number_of_passengers',\n",
       " 'number_of_wheels',\n",
       " 'owner',\n",
       " 'vehicle_info',\n",
       " 'wheels']"
      ]
     },
     "execution_count": 9,
     "metadata": {},
     "output_type": "execute_result"
    }
   ],
   "source": [
    "[x for x in dir(c) if x[0] != \"_\"]  # o mesmo que list(filter(lambda x : x[0] != '_', dir(c)))"
   ]
  },
  {
   "cell_type": "markdown",
   "metadata": {
    "slideshow": {
     "slide_type": "subslide"
    }
   },
   "source": [
    "E obviamente podemos usar os métodos e propriedades herdados pela classe `Car`"
   ]
  },
  {
   "cell_type": "code",
   "execution_count": 10,
   "metadata": {
    "ExecuteTime": {
     "end_time": "2022-03-08T12:31:45.026346Z",
     "start_time": "2022-03-08T12:31:45.023132Z"
    },
    "slideshow": {
     "slide_type": "-"
    }
   },
   "outputs": [
    {
     "name": "stdout",
     "output_type": "stream",
     "text": [
      "Veiculo da marca Fiat, modelo 500, com capacidade para 4.\n",
      "        O dono é João Pedro. Tem 4 rodas com as especificações 225/55 R 17 97 W. \n",
      "        A velocidade em terra é 200 Km/h tem um motor com 1500 cc e 5 portas.\n"
     ]
    }
   ],
   "source": [
    "c.owner = \"João Pedro\"\n",
    "print(c.vehicle_info())"
   ]
  },
  {
   "cell_type": "markdown",
   "metadata": {
    "slideshow": {
     "slide_type": "subslide"
    }
   },
   "source": [
    "Note-se que `Car.__dict__` devolve um dicionário com \"o espaço de nomes\" (*namespace*) da classe"
   ]
  },
  {
   "cell_type": "code",
   "execution_count": 11,
   "metadata": {
    "ExecuteTime": {
     "end_time": "2022-03-08T12:32:36.269667Z",
     "start_time": "2022-03-08T12:32:36.265883Z"
    },
    "slideshow": {
     "slide_type": "-"
    }
   },
   "outputs": [
    {
     "data": {
      "text/plain": [
       "mappingproxy({'__module__': '__main__',\n",
       "              '__init__': <function __main__.Car.__init__(self, engine, number_of_doors, *args, **kwargs)>,\n",
       "              'vehicle_info': <function __main__.Car.vehicle_info(self)>,\n",
       "              'engine': <property at 0x2735f2c4b30>,\n",
       "              'number_of_doors': <property at 0x2735f2c48b0>,\n",
       "              '__doc__': None})"
      ]
     },
     "execution_count": 11,
     "metadata": {},
     "output_type": "execute_result"
    }
   ],
   "source": [
    "Car.__dict__"
   ]
  },
  {
   "cell_type": "markdown",
   "metadata": {
    "slideshow": {
     "slide_type": "subslide"
    }
   },
   "source": [
    "que é diferente de `dir()` que mostra também o que herdou"
   ]
  },
  {
   "cell_type": "code",
   "execution_count": 12,
   "metadata": {
    "ExecuteTime": {
     "end_time": "2022-03-08T12:32:38.638962Z",
     "start_time": "2022-03-08T12:32:38.636627Z"
    },
    "slideshow": {
     "slide_type": "-"
    }
   },
   "outputs": [
    {
     "name": "stdout",
     "output_type": "stream",
     "text": [
      "['__class__', '__delattr__', '__dict__', '__dir__', '__doc__', '__eq__', '__format__', '__ge__', '__getattribute__', '__getstate__', '__gt__', '__hash__', '__init__', '__init_subclass__', '__le__', '__lt__', '__module__', '__ne__', '__new__', '__reduce__', '__reduce_ex__', '__repr__', '__setattr__', '__sizeof__', '__str__', '__subclasshook__', '__weakref__', 'brand', 'engine', 'land_velocity', 'model', 'number_of_doors', 'number_of_passengers', 'number_of_wheels', 'owner', 'vehicle_info', 'wheels']\n"
     ]
    }
   ],
   "source": [
    "print(dir(Car))"
   ]
  },
  {
   "cell_type": "markdown",
   "metadata": {
    "slideshow": {
     "slide_type": "slide"
    }
   },
   "source": [
    "## Algumas notas\n",
    "### Sobreposição (Overriding) de métodos\n",
    "\n",
    "- Por vezes, no mecanismo de herança, uma classe herda métodos que não lhe servem diretamente.\n",
    "- Nesse caso podemos redefinir esses métodos (*Polimorfismo*)\n",
    "\n",
    "Nos exemplos anteriores vimos que o método `vehicle_info(self)` foi (re)definido em todas as classes."
   ]
  },
  {
   "cell_type": "markdown",
   "metadata": {
    "slideshow": {
     "slide_type": "subslide"
    }
   },
   "source": [
    "### Sobrecarga de funções\n",
    "\n",
    "* Na programação, a sobrecarga de funções é a criação de várias funções com o mesmo nome, mas com diferentes parâmetros de entrada.\n",
    "\n",
    "* Em linguagens estaticamente tipadas, como C++, C#, Java, entre outras, a seleção entre as diferentes funções com o mesmo nome ocorre em tempo de compilação, com base nos tipos dos parâmetros passados.\n",
    "\n",
    "* No entanto, em Python, que é uma linguagem dinamicamente tipada, a sobrecarga de funções não é possível devido à impossibilidade de discriminar tipos de dados em tempo de compilação.\n",
    "\n",
    "* Uma forma de emular a sobrecarga de funções em Python é utilizar argumentos opcionais, como `*args` e/ou `**kwargs`, que permitem que uma única função possa aceitar diferentes tipos de parâmetros de entrada.\n"
   ]
  },
  {
   "cell_type": "code",
   "execution_count": 13,
   "metadata": {
    "slideshow": {
     "slide_type": "subslide"
    }
   },
   "outputs": [
    {
     "data": {
      "text/plain": [
       "6"
      ]
     },
     "execution_count": 13,
     "metadata": {},
     "output_type": "execute_result"
    }
   ],
   "source": [
    "def soma(*args):\n",
    "    total = 0\n",
    "    for num in args:\n",
    "        total += num\n",
    "    return total\n",
    "\n",
    "\n",
    "soma(1, 2, 3)"
   ]
  },
  {
   "cell_type": "code",
   "execution_count": 14,
   "metadata": {
    "slideshow": {
     "slide_type": "fragment"
    }
   },
   "outputs": [
    {
     "data": {
      "text/plain": [
       "15"
      ]
     },
     "execution_count": 14,
     "metadata": {},
     "output_type": "execute_result"
    }
   ],
   "source": [
    "soma(1, 2, 3, 4, 5)"
   ]
  },
  {
   "cell_type": "markdown",
   "metadata": {
    "slideshow": {
     "slide_type": "-"
    }
   },
   "source": [
    "Neste exemplo, a função `soma` é capaz de receber qualquer número de argumentos, permitindo que ela possa ser usada para somar diferentes quantidades de números."
   ]
  }
 ],
 "metadata": {
  "kernelspec": {
   "display_name": "Python 3 (ipykernel)",
   "language": "python",
   "name": "python3"
  },
  "language_info": {
   "codemirror_mode": {
    "name": "ipython",
    "version": 3
   },
   "file_extension": ".py",
   "mimetype": "text/x-python",
   "name": "python",
   "nbconvert_exporter": "python",
   "pygments_lexer": "ipython3",
   "version": "3.11.8"
  },
  "nbTranslate": {
   "displayLangs": [
    "*"
   ],
   "hotkey": "alt-t",
   "langInMainMenu": true,
   "sourceLang": "en",
   "targetLang": "fr",
   "useGoogleTranslate": true
  },
  "toc": {
   "base_numbering": 1,
   "nav_menu": {},
   "number_sections": true,
   "sideBar": true,
   "skip_h1_title": false,
   "title_cell": "Table of Contents",
   "title_sidebar": "Contents",
   "toc_cell": false,
   "toc_position": {},
   "toc_section_display": true,
   "toc_window_display": false
  },
  "varInspector": {
   "cols": {
    "lenName": 16,
    "lenType": 16,
    "lenVar": 40
   },
   "kernels_config": {
    "python": {
     "delete_cmd_postfix": "",
     "delete_cmd_prefix": "del ",
     "library": "var_list.py",
     "varRefreshCmd": "print(var_dic_list())"
    },
    "r": {
     "delete_cmd_postfix": ") ",
     "delete_cmd_prefix": "rm(",
     "library": "var_list.r",
     "varRefreshCmd": "cat(var_dic_list()) "
    }
   },
   "types_to_exclude": [
    "module",
    "function",
    "builtin_function_or_method",
    "instance",
    "_Feature"
   ],
   "window_display": false
  },
  "vscode": {
   "interpreter": {
    "hash": "dac70e484b282149e9149389796fc0e2f03c9a36b836c2b3e99057cbd039886f"
   }
  }
 },
 "nbformat": 4,
 "nbformat_minor": 4
}
