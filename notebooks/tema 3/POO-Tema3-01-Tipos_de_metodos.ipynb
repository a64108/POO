{
 "cells": [
  {
   "cell_type": "markdown",
   "metadata": {
    "slideshow": {
     "slide_type": "slide"
    }
   },
   "source": [
    "# Programação Orientada a Objetos (POO)\n",
    "## Tema 3\n",
    "### Parte I\n",
    "Jaime A. Martins\n",
    "\n",
    "(CEOT/ISE/UAlg - jamartins@ualg.pt)\n",
    "\n",
    "<style>\n",
    ".CodeMirror pre, .CodeMirror-dialog, .CodeMirror-dialog .CodeMirror-search-field, .terminal-app .terminal {\n",
    "    font-family: Arial, Cascadia Code;\n",
    "    font-size: 12pt;\n",
    "}\n",
    "</style>"
   ]
  },
  {
   "cell_type": "markdown",
   "metadata": {
    "slideshow": {
     "slide_type": "skip"
    }
   },
   "source": [
    "###### Autores: Jaime Martins [v2]; Pedro Cardoso [v1]"
   ]
  },
  {
   "cell_type": "markdown",
   "metadata": {
    "slideshow": {
     "slide_type": "slide"
    }
   },
   "source": [
    "## Métodos de POO em Python\n",
    "\n",
    "* Os métodos **especiais** são identificados pelo padrão `__metodo__()` e definem como os objetos derivados da classe se irão comportar em situações particulares.\n",
    "       \n",
    "* Os métodos de **instância** podem interagir com atributos e outros métodos de um objeto instanciado. \n",
    "        \n",
    "    * Têm sempre uma primeira variável, por convenção **`self`**, que **representa o objeto instanciado**, que \"não conta\" na chamada ao método.<br/><br/>\n",
    "\n",
    "\n",
    "\n"
   ]
  },
  {
   "cell_type": "markdown",
   "metadata": {
    "slideshow": {
     "slide_type": "subslide"
    }
   },
   "source": [
    "* Os métodos de **classe** são decorados com  `@classmethod` e como primeiro argumento passam uma **referência à classe**, por convenção `cls`.\n",
    "\n",
    "    * Podem ser chamados diretamente através da classe, não é necessário criar uma instância.\n",
    "        \n",
    "    * Os métodos de classe apenas podem usar atributos e outros métodos de classe.\n",
    "\n",
    "    * Os métodos de classe podem funcionar como fábricas de objetos **(\"factories\")**."
   ]
  },
  {
   "cell_type": "markdown",
   "metadata": {
    "slideshow": {
     "slide_type": "subslide"
    }
   },
   "source": [
    "* Os métodos **estáticos** são aqueles que não tem ligação com atributos do objeto ou da classe (e.g., `math.sin()`). Funcionam como as funções comuns."
   ]
  },
  {
   "cell_type": "code",
   "execution_count": 1,
   "metadata": {
    "slideshow": {
     "slide_type": "subslide"
    }
   },
   "outputs": [],
   "source": [
    "class Classe:\n",
    "    \"\"\"Isto é uma classe\"\"\"\n",
    "\n",
    "    cls_var = []  # Variável de classe\n",
    "\n",
    "    def __init__(self, args):\n",
    "        \"\"\"Inicializador da classe\"\"\"\n",
    "        pass\n",
    "\n",
    "    def metodo(self, params):\n",
    "        \"\"\"Método de objeto\"\"\"\n",
    "        pass\n",
    "\n",
    "    @classmethod\n",
    "    def cls_metodo(cls, params):\n",
    "        \"\"\"Método de classe\"\"\"\n",
    "        pass\n",
    "\n",
    "    @staticmethod\n",
    "    def est_metodo(params):\n",
    "        \"\"\"Método estático\"\"\"\n",
    "        pass"
   ]
  },
  {
   "cell_type": "markdown",
   "metadata": {
    "slideshow": {
     "slide_type": "slide"
    }
   },
   "source": [
    "Vejamos um exemplo"
   ]
  },
  {
   "cell_type": "code",
   "execution_count": 2,
   "metadata": {
    "ExecuteTime": {
     "end_time": "2022-03-08T11:51:04.623136Z",
     "start_time": "2022-03-08T11:51:04.617087Z"
    },
    "slideshow": {
     "slide_type": "subslide"
    }
   },
   "outputs": [],
   "source": [
    "class Pizza:\n",
    "    # area de pizza por pessoa - variável de classe (comum a todas as instâncias)\n",
    "    area_por_pessoa = 750.0\n",
    "\n",
    "    def __init__(self, nome, ingredientes):\n",
    "        self.nome = nome\n",
    "        self.ingredientes = ingredientes\n",
    "\n",
    "    # __str__ Human-readable: devolve uma string user-friendly que representa o objeto\n",
    "    # print(objeto)\n",
    "    def __str__(self):\n",
    "        s = \", \".join(self.ingredientes)\n",
    "        return f\"Pizza {self.nome} com os seguintes ingredientes: {s}\"\n",
    "\n",
    "    # __repr__ Machine-readable: devolve uma string que pode ser usada para recriar o objeto\n",
    "    # print(repr(objeto))\n",
    "    def __repr__(self):\n",
    "        return f\"Pizza(nome={self.nome}, ingredientes={self.ingredientes})\"\n",
    "\n",
    "    def tem_ingrediente(self, ingrediente):\n",
    "        \"\"\"Verifica se a instância tem um dado ingrediente (True) ou não (False)\"\"\"\n",
    "        return ingrediente in self.ingredientes\n",
    "\n",
    "    @classmethod\n",
    "    def margherita(cls):\n",
    "        \"\"\"Devolve um objeto, instância de Pizza, com os ingredientes\n",
    "        da Pizza Margherita\"\"\"\n",
    "        return cls(\"Margherita\", [\"mozzarella\", \"tomate\"])\n",
    "\n",
    "    @classmethod\n",
    "    def prosciutto(cls):\n",
    "        \"\"\"Devolve um objeto, instância de Pizza, com os ingredientes\n",
    "        da Pizza Prosciutto\"\"\"\n",
    "        return cls(\"Prosciutto\", [\"mozzarella\", \"tomate\", \"fiambre\"])\n",
    "\n",
    "    @staticmethod\n",
    "    def para_quantas_pessoas(raio):\n",
    "        \"\"\"Método (estático) que estima e devolve para quantas pessoas\n",
    "        é uma pizza, sabendo o seu raio devolve area_pizza / area_por_pessoa\n",
    "        \"\"\"\n",
    "        area_pizza = 3.14159 * raio**2\n",
    "        return area_pizza / Pizza.area_por_pessoa\n",
    "\n",
    "    @staticmethod\n",
    "    def qual_o_raio(numero_pessoas):\n",
    "        \"\"\"Método (estático) que estima o raio que a pizza deve ter dado\n",
    "        o número de pessoas que se quer servir\n",
    "        \"\"\"\n",
    "        area_total = numero_pessoas * Pizza.area_por_pessoa\n",
    "        return (area_total / 3.14159) ** 0.5  # r = math.sqrt(A/pi)"
   ]
  },
  {
   "cell_type": "markdown",
   "metadata": {
    "slideshow": {
     "slide_type": "slide"
    }
   },
   "source": [
    "Podemos então criar uma pizza indicando os ingredientes, ao correr o construtor + inicializador"
   ]
  },
  {
   "cell_type": "code",
   "execution_count": 3,
   "metadata": {
    "ExecuteTime": {
     "end_time": "2022-03-08T11:51:04.693723Z",
     "start_time": "2022-03-08T11:51:04.686713Z"
    },
    "slideshow": {
     "slide_type": "-"
    }
   },
   "outputs": [
    {
     "data": {
      "text/plain": [
       "Pizza(nome=Quatro queijos, ingredientes=['mozzarella', 'gorgonzola', 'requeijão', 'parmesão'])"
      ]
     },
     "execution_count": 3,
     "metadata": {},
     "output_type": "execute_result"
    }
   ],
   "source": [
    "quatro_queijos = Pizza(\n",
    "    \"Quatro queijos\", [\"mozzarella\", \"gorgonzola\", \"requeijão\", \"parmesão\"]\n",
    ")\n",
    "quatro_queijos"
   ]
  },
  {
   "cell_type": "markdown",
   "metadata": {
    "slideshow": {
     "slide_type": "fragment"
    }
   },
   "source": [
    "e perguntar se a pizza tem \"mozzarella\""
   ]
  },
  {
   "cell_type": "code",
   "execution_count": 4,
   "metadata": {
    "ExecuteTime": {
     "end_time": "2022-03-08T11:51:04.751410Z",
     "start_time": "2022-03-08T11:51:04.748088Z"
    },
    "slideshow": {
     "slide_type": "-"
    }
   },
   "outputs": [
    {
     "data": {
      "text/plain": [
       "True"
      ]
     },
     "execution_count": 4,
     "metadata": {},
     "output_type": "execute_result"
    }
   ],
   "source": [
    "quatro_queijos.tem_ingrediente(\"mozzarella\")"
   ]
  },
  {
   "cell_type": "markdown",
   "metadata": {
    "slideshow": {
     "slide_type": "subslide"
    }
   },
   "source": [
    "Usando **métodos de classe**, podemos criar diretamente uma instância da pizza _margherita_ ou _prosciutto_"
   ]
  },
  {
   "cell_type": "code",
   "execution_count": 5,
   "metadata": {
    "ExecuteTime": {
     "end_time": "2022-03-08T11:51:04.821525Z",
     "start_time": "2022-03-08T11:51:04.817680Z"
    },
    "slideshow": {
     "slide_type": "-"
    }
   },
   "outputs": [
    {
     "data": {
      "text/plain": [
       "Pizza(nome=Margherita, ingredientes=['mozzarella', 'tomate'])"
      ]
     },
     "execution_count": 5,
     "metadata": {},
     "output_type": "execute_result"
    }
   ],
   "source": [
    "margherita = Pizza.margherita()\n",
    "margherita"
   ]
  },
  {
   "cell_type": "code",
   "execution_count": 6,
   "metadata": {
    "ExecuteTime": {
     "end_time": "2022-03-08T11:51:04.836418Z",
     "start_time": "2022-03-08T11:51:04.833342Z"
    },
    "slideshow": {
     "slide_type": "-"
    }
   },
   "outputs": [
    {
     "data": {
      "text/plain": [
       "Pizza(nome=Prosciutto, ingredientes=['mozzarella', 'tomate', 'fiambre'])"
      ]
     },
     "execution_count": 6,
     "metadata": {},
     "output_type": "execute_result"
    }
   ],
   "source": [
    "prosciutto = Pizza.prosciutto()\n",
    "prosciutto"
   ]
  },
  {
   "cell_type": "markdown",
   "metadata": {
    "slideshow": {
     "slide_type": "subslide"
    }
   },
   "source": [
    "Independente da instância e da classe, podemos usar os **métodos estáticos** para calcular a quantidade de pizza ou pessoas adequada"
   ]
  },
  {
   "cell_type": "code",
   "execution_count": 7,
   "metadata": {
    "ExecuteTime": {
     "end_time": "2022-03-08T11:51:04.897696Z",
     "start_time": "2022-03-08T11:51:04.894063Z"
    },
    "slideshow": {
     "slide_type": "-"
    }
   },
   "outputs": [
    {
     "data": {
      "text/plain": [
       "'Uma pizza com 27cm de raio dá para 3 pessoas (3.05 px)'"
      ]
     },
     "execution_count": 7,
     "metadata": {},
     "output_type": "execute_result"
    }
   ],
   "source": [
    "r = 27\n",
    "f\"Uma pizza com {r}cm de raio dá para {Pizza.para_quantas_pessoas(r).__floor__()} pessoas ({Pizza.para_quantas_pessoas(r):.2f} px)\""
   ]
  },
  {
   "cell_type": "code",
   "execution_count": 8,
   "metadata": {
    "ExecuteTime": {
     "end_time": "2022-03-08T11:51:04.911314Z",
     "start_time": "2022-03-08T11:51:04.908493Z"
    },
    "slideshow": {
     "slide_type": "-"
    }
   },
   "outputs": [
    {
     "data": {
      "text/plain": [
       "'Para 4 pessoas deve encomendar uma pizza com 31 cm de raio (30.90 cm)'"
      ]
     },
     "execution_count": 8,
     "metadata": {},
     "output_type": "execute_result"
    }
   ],
   "source": [
    "p = 4\n",
    "f\"Para {p} pessoas deve encomendar uma pizza com {Pizza.qual_o_raio(p).__ceil__()} cm de raio ({Pizza.qual_o_raio(p):.2f} cm)\""
   ]
  },
  {
   "cell_type": "markdown",
   "metadata": {
    "slideshow": {
     "slide_type": "slide"
    }
   },
   "source": [
    "Vejamos também a utilização dos métodos `__repr__()` e `__str__()`"
   ]
  },
  {
   "cell_type": "code",
   "execution_count": 9,
   "metadata": {
    "slideshow": {
     "slide_type": "-"
    }
   },
   "outputs": [
    {
     "name": "stdout",
     "output_type": "stream",
     "text": [
      "Pizza Prosciutto com os seguintes ingredientes: mozzarella, tomate, fiambre\n"
     ]
    }
   ],
   "source": [
    "print(prosciutto)  # Human-readable"
   ]
  },
  {
   "cell_type": "code",
   "execution_count": 10,
   "metadata": {
    "slideshow": {
     "slide_type": "-"
    }
   },
   "outputs": [
    {
     "data": {
      "text/plain": [
       "Pizza(nome=Prosciutto, ingredientes=['mozzarella', 'tomate', 'fiambre'])"
      ]
     },
     "execution_count": 10,
     "metadata": {},
     "output_type": "execute_result"
    }
   ],
   "source": [
    "prosciutto  # print(repr(prosciutto)) Machine-readable"
   ]
  }
 ],
 "metadata": {
  "kernelspec": {
   "display_name": "Python 3 (ipykernel)",
   "language": "python",
   "name": "python3"
  },
  "language_info": {
   "codemirror_mode": {
    "name": "ipython",
    "version": 3
   },
   "file_extension": ".py",
   "mimetype": "text/x-python",
   "name": "python",
   "nbconvert_exporter": "python",
   "pygments_lexer": "ipython3",
   "version": "3.11.8"
  },
  "nbTranslate": {
   "displayLangs": [
    "*"
   ],
   "hotkey": "alt-t",
   "langInMainMenu": true,
   "sourceLang": "en",
   "targetLang": "fr",
   "useGoogleTranslate": true
  },
  "toc": {
   "base_numbering": 1,
   "nav_menu": {},
   "number_sections": true,
   "sideBar": true,
   "skip_h1_title": false,
   "title_cell": "Table of Contents",
   "title_sidebar": "Contents",
   "toc_cell": false,
   "toc_position": {},
   "toc_section_display": true,
   "toc_window_display": false
  },
  "varInspector": {
   "cols": {
    "lenName": 16,
    "lenType": 16,
    "lenVar": 40
   },
   "kernels_config": {
    "python": {
     "delete_cmd_postfix": "",
     "delete_cmd_prefix": "del ",
     "library": "var_list.py",
     "varRefreshCmd": "print(var_dic_list())"
    },
    "r": {
     "delete_cmd_postfix": ") ",
     "delete_cmd_prefix": "rm(",
     "library": "var_list.r",
     "varRefreshCmd": "cat(var_dic_list()) "
    }
   },
   "types_to_exclude": [
    "module",
    "function",
    "builtin_function_or_method",
    "instance",
    "_Feature"
   ],
   "window_display": false
  },
  "vscode": {
   "interpreter": {
    "hash": "dac70e484b282149e9149389796fc0e2f03c9a36b836c2b3e99057cbd039886f"
   }
  }
 },
 "nbformat": 4,
 "nbformat_minor": 4
}
