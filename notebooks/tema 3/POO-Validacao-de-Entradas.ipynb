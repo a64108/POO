{
 "cells": [
  {
   "cell_type": "markdown",
   "metadata": {
    "slideshow": {
     "slide_type": "slide"
    }
   },
   "source": [
    "# Programação Orientada a Objetos (POO)\n",
    "## Validação de Entradas\n",
    "\n",
    "Jaime A. Martins\n",
    "\n",
    "(CEOT/ISE/UAlg - jamartins@ualg.pt)\n"
   ]
  },
  {
   "cell_type": "markdown",
   "metadata": {
    "slideshow": {
     "slide_type": "skip"
    }
   },
   "source": [
    "###### Autores: Jaime Martins [v1]"
   ]
  },
  {
   "cell_type": "markdown",
   "metadata": {
    "slideshow": {
     "slide_type": "slide"
    }
   },
   "source": [
    "### Validação de entradas com `.isdigit()`"
   ]
  },
  {
   "cell_type": "markdown",
   "metadata": {
    "slideshow": {
     "slide_type": "-"
    }
   },
   "source": [
    "* O método `.isdigit()` verifica se uma string contém apenas dígitos.\n",
    "\n",
    "* No entanto, não suporta sinais de mais (+) e menos (-) ou pontos decimais (.).\n",
    "   * Para contornar isso, temos de criar uma função personalizada.\n",
    "   * É um estilo de programação que devemos evitar."
   ]
  },
  {
   "cell_type": "code",
   "execution_count": null,
   "metadata": {
    "slideshow": {
     "slide_type": "subslide"
    }
   },
   "outputs": [],
   "source": [
    "def is_valid_float(input_str):\n",
    "    # Verifica se a string começa com um sinal + ou -\n",
    "    if input_str.startswith((\"+\", \"-\")):\n",
    "        input_str = input_str[1:]\n",
    "\n",
    "    # Verifica se a string contém um e apenas um ponto\n",
    "    if \".\" in input_str:\n",
    "        input_str = input_str.replace(\".\", \"\", 1)\n",
    "\n",
    "    return input_str.isdigit()\n",
    "\n",
    "\n",
    "while True:\n",
    "    user_input = input(\"Insira um número inteiro ou float (positivo ou negativo): \")\n",
    "    if is_valid_float(user_input):\n",
    "        break\n",
    "    else:\n",
    "        print(\"Entrada inválida. Por favor, insira um número válido.\")\n",
    "\n",
    "print(f\"O número {float(user_input)} é válido. Obrigado.\")"
   ]
  },
  {
   "cell_type": "markdown",
   "metadata": {
    "slideshow": {
     "slide_type": "slide"
    }
   },
   "source": [
    "### Validação entradas com Regular Expressions (RegEx) [Recomendado!]"
   ]
  },
  {
   "cell_type": "markdown",
   "metadata": {
    "slideshow": {
     "slide_type": "-"
    }
   },
   "source": [
    "Para validar entradas através de expressões regulares, primeiro temos de importar a biblioteca `re`."
   ]
  },
  {
   "cell_type": "code",
   "execution_count": null,
   "metadata": {
    "slideshow": {
     "slide_type": "subslide"
    }
   },
   "outputs": [],
   "source": [
    "import re\n",
    "\n",
    "\n",
    "def is_valid_float_regex(input_str):\n",
    "    pattern = r\"^[-+]?\\d+(\\.\\d+)?$\"\n",
    "    return bool(re.match(pattern, input_str))\n",
    "\n",
    "\n",
    "while True:\n",
    "    user_input = input(\"Insira um número inteiro ou float (positivo ou negativo): \")\n",
    "    if is_valid_float_regex(user_input):\n",
    "        break\n",
    "    else:\n",
    "        print(\"Entrada inválida. Por favor, insira um número válido.\")\n",
    "\n",
    "print(f\"O número {float(user_input)} é válido. Obrigado.\")"
   ]
  },
  {
   "cell_type": "markdown",
   "metadata": {
    "slideshow": {
     "slide_type": "subslide"
    }
   },
   "source": [
    "* A função `re.match()` é uma função da biblioteca `re` (Regular Expressions) do Python, usada para verificar se uma string corresponde a um padrão de expressão regular fornecido.\n",
    "* `re.match()` tenta corresponder a expressão regular a partir do início da string. Se houver correspondência, retorna um objeto `Match`, caso contrário, retorna `None`."
   ]
  },
  {
   "cell_type": "markdown",
   "metadata": {
    "slideshow": {
     "slide_type": "fragment"
    }
   },
   "source": [
    "Neste exemplo, a expressão regular `^[-+]?\\d+(\\.\\d+)?$` verifica se o input é um número inteiro ou float, positivo ou negativo.\n",
    "\n",
    "Explicação da expressão regular:\n",
    "\n",
    "* `^` indica o início da string.\n",
    "* `[-+]?` permite a presença opcional de um sinal de menos (-) ou mais (+) no início.\n",
    "* `\\d+` indica a presença de um ou mais dígitos.\n",
    "* `(\\.\\d+)?` permite a presença opcional de um ponto decimal seguido por um ou mais dígitos.\n",
    "* `$` indica o fim da string."
   ]
  },
  {
   "cell_type": "markdown",
   "metadata": {
    "slideshow": {
     "slide_type": "subslide"
    }
   },
   "source": [
    "Como podemos ver, a expressão regular é complexa. Para facilitar a sua criação, podemos utilizar o site [regex101.com](https://regex101.com/)."
   ]
  }
 ],
 "metadata": {
  "finalized": {
   "timestamp": 1647952932217,
   "trusted": true
  },
  "kernelspec": {
   "display_name": "Python 3 (ipykernel)",
   "language": "python",
   "name": "python3"
  },
  "language_info": {
   "codemirror_mode": {
    "name": "ipython",
    "version": 3
   },
   "file_extension": ".py",
   "mimetype": "text/x-python",
   "name": "python",
   "nbconvert_exporter": "python",
   "pygments_lexer": "ipython3",
   "version": "3.11.8"
  },
  "latex_envs": {
   "LaTeX_envs_menu_present": true,
   "autoclose": true,
   "autocomplete": true,
   "bibliofile": "references.bib",
   "cite_by": "apalike",
   "current_citInitial": 1,
   "eqLabelWithNumbers": false,
   "eqNumInitial": 1,
   "hotkeys": {
    "equation": "Ctrl-E",
    "itemize": "Ctrl-I"
   },
   "labels_anchors": false,
   "latex_user_defs": false,
   "report_style_numbering": true,
   "user_envs_cfg": false
  },
  "nbTranslate": {
   "displayLangs": [
    "*"
   ],
   "hotkey": "alt-t",
   "langInMainMenu": true,
   "sourceLang": "en",
   "targetLang": "fr",
   "useGoogleTranslate": true
  },
  "toc": {
   "base_numbering": 1,
   "nav_menu": {},
   "number_sections": true,
   "sideBar": true,
   "skip_h1_title": false,
   "title_cell": "Table of Contents",
   "title_sidebar": "Contents",
   "toc_cell": false,
   "toc_position": {},
   "toc_section_display": true,
   "toc_window_display": false
  },
  "varInspector": {
   "cols": {
    "lenName": 16,
    "lenType": 16,
    "lenVar": 40
   },
   "kernels_config": {
    "python": {
     "delete_cmd_postfix": "",
     "delete_cmd_prefix": "del ",
     "library": "var_list.py",
     "varRefreshCmd": "print(var_dic_list())"
    },
    "r": {
     "delete_cmd_postfix": ") ",
     "delete_cmd_prefix": "rm(",
     "library": "var_list.r",
     "varRefreshCmd": "cat(var_dic_list()) "
    }
   },
   "types_to_exclude": [
    "module",
    "function",
    "builtin_function_or_method",
    "instance",
    "_Feature"
   ],
   "window_display": false
  },
  "vscode": {
   "interpreter": {
    "hash": "514c66916f79f2e119b1c85bbea303f4e82df27fa4f8b079b28152a352dfbb6c"
   }
  }
 },
 "nbformat": 4,
 "nbformat_minor": 4
}
