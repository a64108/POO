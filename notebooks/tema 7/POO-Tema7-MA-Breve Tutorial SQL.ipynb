{
 "cells": [
  {
   "cell_type": "markdown",
   "metadata": {},
   "source": [
    "# Programação Orientada a Objetos (POO)\n",
    "## Tema 7 – Bases de Dados Relacionais\n",
    "\n",
    "### Material de Apoio – Breve Tutorial de SQL\n",
    "\n",
    "Jaime A. Martins\n",
    "\n",
    "(CEOT/ISE/UAlg - jamartins@ualg.pt)"
   ]
  },
  {
   "cell_type": "markdown",
   "metadata": {},
   "source": [
    "Este tutorial apresenta alguns conceitos fundamentais da linguagem SQL (Structured Query Language)."
   ]
  },
  {
   "cell_type": "markdown",
   "metadata": {},
   "source": [
    "### 1. Selecionar registos (`SELECT`)\n",
    "\n",
    "Para selecionar registos (linhas) de uma tabela, use a instrução `SELECT`, seguida das colunas desejadas (`*` significa *todas*) e do nome da tabela:\n",
    "\n",
    "``` sql\n",
    "SELECT coluna1, coluna2 FROM nome_tabela;\n",
    "SELECT * FROM nome_tabela;\n",
    "```"
   ]
  },
  {
   "cell_type": "markdown",
   "metadata": {},
   "source": [
    "### 2. Filtrar registos (`WHERE`)\n",
    "Para filtrar os resultados de uma consulta, utilize a cláusula `WHERE`, seguida de uma condição:\n",
    "\n",
    "``` sql\n",
    "SELECT coluna1, coluna2 FROM nome_tabela WHERE condicao;\n",
    "```\n",
    "\n",
    "As condições podem ser baseadas em **operadores de comparação**, **operadores lógicos** e/ou **funções**.\n",
    "\n",
    "##### 2.1. Operadores de comparação\n",
    "* Igual (`=`)\n",
    "* Diferente (`<>` ou `!=`)\n",
    "* Maior que (`>`)\n",
    "* Menor que (`<`)\n",
    "* Maior ou igual a (`>=`)\n",
    "* Menor ou igual a (`<=`)\n",
    "\n",
    "*Exemplos de condições com operadores de comparação:*\n",
    "\n",
    "``` sql\n",
    "-- Selecionar produtos com preço unitário maior que 50\n",
    "SELECT * FROM produtos WHERE preco_unitario > 50;\n",
    "\n",
    "-- Selecionar produtos cujo stock é diferente de 10 unidades\n",
    "SELECT * FROM produtos WHERE stock <> 10;\n",
    "```\n",
    "\n",
    "##### 2.2. Operadores lógicos\n",
    "\n",
    "* `AND`: Todas as condições devem ser verdadeiras para que a linha seja incluída no resultado.\n",
    "* `OR`: Pelo menos uma das condições deve ser verdadeira para que a linha seja incluída no resultado.\n",
    "* `IN`: Simplifica múltiplas condições `OR` numa única condição.\n",
    "* `NOT`: Inverte o resultado da condição.\n",
    "\n",
    "*Exemplos de condições com operadores lógicos:*\n",
    "\n",
    "``` sql\n",
    "-- Selecionar produtos com preço unitário entre 10 e 50\n",
    "SELECT * FROM produtos WHERE preco_unitario >= 10 AND preco_unitario <= 50;\n",
    "\n",
    "-- Selecionar produtos com stock menor que 5 unidades ou maior que 100 unidades\n",
    "SELECT * FROM produtos WHERE stock < 5 OR stock > 100;\n",
    "\n",
    "-- Selecionar produtos que pertencem às categorias 1, 3 ou 5\n",
    "SELECT * FROM produtos WHERE categoria_id IN (1, 3, 5);\n",
    "\n",
    "-- Selecionar produtos que não têm stock igual a 10 unidades\n",
    "SELECT * FROM produtos WHERE NOT (stock = 10);\n",
    "```\n",
    "\n",
    "##### 2.3. Condições usando funções\n",
    "\n",
    "``` sql\n",
    "-- Selecionar produtos cujo nome começa com a letra 'A'\n",
    "SELECT * FROM produtos WHERE LEFT(nome, 1) = 'A';\n",
    "\n",
    "-- Selecionar encomendas realizadas nos últimos 30 dias\n",
    "SELECT * FROM encomendas WHERE data_encomenda >= DATE_SUB(CURDATE(), INTERVAL 30 DAY);\n",
    "```\n",
    "\n",
    "As condições `WHERE` podem ser combinadas de várias maneiras usando operadores lógicos e parêntesis para criar consultas mais complexas.\n"
   ]
  },
  {
   "cell_type": "markdown",
   "metadata": {},
   "source": [
    "### 3. Ordenar registos (`ORDER BY`)\n",
    "Para ordenar registos, use a cláusula `ORDER BY` seguida das colunas pelas quais ordenar e a ordem desejada (`ASC` para ascendente, `DESC` para descendente).\n",
    "\n",
    "``` sql\n",
    "SELECT coluna1, coluna2 FROM nome_tabela ORDER BY coluna1 ASC, coluna2 DESC;\n",
    "```"
   ]
  },
  {
   "cell_type": "markdown",
   "metadata": {},
   "source": [
    "### 4. Agrupar registos (`GROUP BY`)\n",
    "Para agrupar resultados por uma ou mais colunas, use a cláusula `GROUP BY` seguida das colunas pelas quais agrupar.\n",
    "\n",
    "``` sql\n",
    "SELECT coluna1, COUNT(coluna2) FROM nome_tabela GROUP BY coluna1;\n",
    "```"
   ]
  },
  {
   "cell_type": "markdown",
   "metadata": {},
   "source": [
    "### 5. Juntar tabelas (`JOIN`)\n",
    "Para juntar tabelas, use a cláusula `JOIN` seguida do tipo de junção (`INNER`, `LEFT`, `RIGHT`, `FULL`) e a condição de junção.\n",
    "\n",
    "*Note-se a utilização de abreviaturas para os nomes das tabelas, para facilitar a escrita. A sintaxe é `tabela AS abreviatura` ou simplesmente `tabela abreviatura`.*\n",
    "\n",
    "``` sql\n",
    "SELECT t1.coluna1, t2.coluna2 FROM tabela1 t1 INNER JOIN tabela2 t2 ON t1.coluna_id = t2.coluna_id;\n",
    "```"
   ]
  },
  {
   "cell_type": "markdown",
   "metadata": {},
   "source": [
    "### 6. Inserir registos (`INSERT INTO`)\n",
    "Para inserir registos numa tabela, use a cláusula `INSERT INTO`, seguida do nome da tabela e, entre parêntesis, os nomes das colunas nas quais deseja inserir dados. Em seguida, use a palavra `VALUES`, seguida dos valores a serem inseridos, entre parêntesis.\n",
    "\n",
    "``` sql\n",
    "INSERT INTO nome_tabela (coluna1, coluna2) VALUES (valor1, valor2);\n",
    "```"
   ]
  },
  {
   "cell_type": "markdown",
   "metadata": {},
   "source": [
    "### 7. Atualizar registos (`UPDATE`)\n",
    "Para atualizar registos, use a cláusula `UPDATE`, seguida do nome da tabela e da palavra `SET`, seguida da coluna e do novo valor a atribuir. Utilize a cláusula `WHERE` para especificar a linha a ser atualizada.\n",
    "\n",
    "``` sql\n",
    "UPDATE nome_tabela SET coluna1 = valor1, coluna2 = valor2 WHERE condicao;\n",
    "```"
   ]
  },
  {
   "cell_type": "markdown",
   "metadata": {},
   "source": [
    "### 8. Eliminar registos (`DELETE FROM`)\n",
    "Para eliminar registos de uma tabela, use a instrução `DELETE FROM`, seguida do nome da tabela e da cláusula `WHERE` com a condição que especifica a(s) linha(s) a ser(em) apagada(s).\n",
    "\n",
    "``` sql\n",
    "DELETE FROM nome_tabela WHERE condicao;\n",
    "```"
   ]
  },
  {
   "cell_type": "markdown",
   "metadata": {},
   "source": [
    "### 9. Calcular agregações (`SUM`, `AVG`, `MIN`, `MAX`)\n",
    "Para calcular agregações, use funções como `SUM`, `AVG`, `MIN` ou `MAX`.\n",
    "\n",
    "``` sql\n",
    "SELECT SUM(coluna) FROM nome_tabela;\n",
    "SELECT AVG(coluna) FROM nome_tabela;\n",
    "SELECT MIN(coluna) FROM nome_tabela;\n",
    "SELECT MAX(coluna) FROM nome_tabela;\n",
    "SELECT MIN(coluna), MAX(coluna), AVG(coluna) FROM nome_tabela;\n",
    "```"
   ]
  },
  {
   "cell_type": "markdown",
   "metadata": {},
   "source": [
    "### 10. Operações com strings (`UPPER`, `CONCAT`, `LIKE`):\n",
    "Para manipular strings, use funções como `UPPER` (converter em maiúsculas), `CONCAT` (concatenar strings) e o operador `LIKE` (para comparar strings com um padrão).\n",
    "\n",
    "``` sql\n",
    "SELECT UPPER(coluna), CONCAT(coluna1, coluna2) FROM nome_tabela WHERE coluna1 LIKE '%pattern%';\n",
    "```"
   ]
  },
  {
   "cell_type": "markdown",
   "metadata": {},
   "source": [
    "### 11. Contar registos (`COUNT`):\n",
    "Para contar o número de registos numa tabela ou conjunto de registos filtrados, use a função `COUNT`.\n",
    "\n",
    "``` sql\n",
    "SELECT COUNT(coluna) FROM nome_tabela;\n",
    "SELECT COUNT(coluna) FROM nome_tabela WHERE condicao;\n",
    "```"
   ]
  },
  {
   "cell_type": "markdown",
   "metadata": {},
   "source": [
    "### 12. Eliminar duplicados (`DISTINCT`):\n",
    "Para eliminar registos duplicados nos resultados de uma consulta, use a palavra-chave `DISTINCT` antes das colunas selecionadas.\n",
    "\n",
    "``` sql\n",
    "SELECT DISTINCT coluna1 FROM nome_tabela;\n",
    "```"
   ]
  },
  {
   "cell_type": "markdown",
   "metadata": {},
   "source": [
    "### 13. Limitar resultados (`LIMIT`):\n",
    "Para limitar o número de registos obtidos numa consulta, use a cláusula `LIMIT` seguida do número máximo de registos desejados.\n",
    "\n",
    "``` sql\n",
    "SELECT coluna1, coluna2 FROM nome_tabela LIMIT 10;\n",
    "```"
   ]
  },
  {
   "cell_type": "markdown",
   "metadata": {},
   "source": [
    "### 14. Filtrar resultados após agrupamento (`HAVING`):\n",
    "Para filtrar resultados após agrupá-los com a cláusula `GROUP BY`, use a cláusula `HAVING` seguida de uma condição.\n",
    "\n",
    "``` sql\n",
    "SELECT coluna1, COUNT(coluna2) FROM nome_tabela GROUP BY coluna1 HAVING COUNT(coluna2) > 5;\n",
    "```"
   ]
  },
  {
   "cell_type": "markdown",
   "metadata": {},
   "source": [
    "### 15. Subconsultas (*Subqueries*):\n",
    "As subconsultas são consultas SQL aninhadas dentro de outra consulta. Podem ser usadas para obter informações numa tabela com base em informações de outra tabela.\n",
    "\n",
    "``` sql\n",
    "SELECT coluna1, coluna2 FROM nome_tabela1 WHERE coluna1 IN (SELECT coluna1 FROM nome_tabela2 WHERE condition);\n",
    "\n",
    "-- Selecionar produtos que foram encomendados\n",
    "SELECT * FROM produtos WHERE produto_id IN (SELECT DISTINCT produto_id FROM detalhes_encomenda);\n",
    "```"
   ]
  }
 ],
 "metadata": {
  "kernelspec": {
   "display_name": "Python 3 (ipykernel)",
   "language": "python",
   "name": "python3"
  },
  "language_info": {
   "codemirror_mode": {
    "name": "ipython",
    "version": 3
   },
   "file_extension": ".py",
   "mimetype": "text/x-python",
   "name": "python",
   "nbconvert_exporter": "python",
   "pygments_lexer": "ipython3",
   "version": "3.11.8"
  }
 },
 "nbformat": 4,
 "nbformat_minor": 2
}
