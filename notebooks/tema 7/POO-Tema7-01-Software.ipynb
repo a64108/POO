{
 "cells": [
  {
   "cell_type": "markdown",
   "metadata": {
    "slideshow": {
     "slide_type": "slide"
    }
   },
   "source": [
    "# Programação Orientada a Objetos (POO)\n",
    "## Tema 7 – Bases de Dados Relacionais\n",
    "\n",
    "### Parte I – Software necessário\n",
    "\n",
    "Jaime A. Martins\n",
    "\n",
    "(CEOT/ISE/UAlg - jamartins@ualg.pt)"
   ]
  },
  {
   "cell_type": "markdown",
   "metadata": {
    "slideshow": {
     "slide_type": "skip"
    }
   },
   "source": [
    "###### Autores: Jaime Martins [v2]; Pedro Cardoso [v1]"
   ]
  },
  {
   "cell_type": "markdown",
   "metadata": {
    "slideshow": {
     "slide_type": "slide"
    }
   },
   "source": [
    "## Servidores\n",
    "\n",
    "### MySQL/MariaDB\n",
    "\n",
    "* Sugere-se a instalação do XAMPP https://www.apachefriends.org/index.html (Windows, Linux ou OS X)."
   ]
  },
  {
   "cell_type": "code",
   "execution_count": 1,
   "metadata": {},
   "outputs": [
    {
     "data": {
      "text/plain": [
       "0"
      ]
     },
     "execution_count": 1,
     "metadata": {},
     "output_type": "execute_result"
    }
   ],
   "source": [
    "import os\n",
    "\n",
    "# Instalação do XAMPP 8.2 no terminal, através do winget\n",
    "os.system('start cmd.exe @cmd /c \"winget install --id=ApacheFriends.Xampp.8.2  -e\"')"
   ]
  },
  {
   "cell_type": "markdown",
   "metadata": {},
   "source": [
    "Em seguida:\n",
    "\n",
    "1. Verificar se têm um servidor de MySQL/MariaDB a correr:\n",
    "   1. Podem verificar se o vosso servidor está a correr se seguirem o link http://localhost/phpmyadmin.\n",
    "   1. Se não estiver, podem abrir o *XAMPP Control Panel* e iniciar o Apache e o MySQL.<br/><br/>\n",
    "\n",
    "1. Estando no **phpMyAdmin**, vamos criar um utilizador e a base de dados necessária para o resto da aula.\n",
    "   * Para a aula de hoje vamos criar uma base de dados (BD) chamada `sensors` à qual o utilizador `sensors` (com password `##sensors##`) tem acesso.\n",
    "   * Esta BD terá como `host` a máquina local (`localhost`), mas poderia estar fisicamente em qualquer outra máquina.\n",
    "\n",
    "<img src=\"img/phpmyadmin_new_user.png\" width=\"600\"/>\n",
    "\n",
    "### SQLite\n",
    "\n",
    "No caso do SQLite não é necessário instalar qualquer servidor"
   ]
  },
  {
   "cell_type": "markdown",
   "metadata": {
    "slideshow": {
     "slide_type": "slide"
    }
   },
   "source": [
    "## Conectores instalados\n",
    "Verificar que todos os módulos necessários estão instalados, nomeadamente:\n",
    "\n",
    "### MySQL\n",
    "É necessário ter instalado o `mysql-connector`"
   ]
  },
  {
   "cell_type": "code",
   "execution_count": 1,
   "metadata": {
    "slideshow": {
     "slide_type": "-"
    }
   },
   "outputs": [
    {
     "name": "stdout",
     "output_type": "stream",
     "text": [
      "Note: you may need to restart the kernel to use updated packages.\n"
     ]
    },
    {
     "name": "stderr",
     "output_type": "stream",
     "text": [
      "WARNING: Package(s) not found: mysql-connector-python\n"
     ]
    }
   ],
   "source": [
    "%pip show mysql-connector-python"
   ]
  },
  {
   "cell_type": "code",
   "execution_count": null,
   "metadata": {
    "ExecuteTime": {
     "end_time": "2022-03-28T17:11:07.206460Z",
     "start_time": "2022-03-28T17:11:05.643818Z"
    },
    "scrolled": false,
    "slideshow": {
     "slide_type": "-"
    }
   },
   "outputs": [],
   "source": [
    "%pip install mysql-connector-python"
   ]
  },
  {
   "cell_type": "markdown",
   "metadata": {
    "slideshow": {
     "slide_type": "subslide"
    }
   },
   "source": [
    "### SQLite\n",
    "Para o SQLite não é necessário instalar nada, pois a partir do Python v2.5.x o módulo `sqlite3` [ https://docs.python.org/3/library/sqlite3.html ] começou a fazer parte da Python Standard Library."
   ]
  },
  {
   "cell_type": "markdown",
   "metadata": {
    "slideshow": {
     "slide_type": "slide"
    }
   },
   "source": [
    "# Exercício\n",
    "\n",
    "Use o **phpMyAdmin** para restaurar a base de dados Adamastor (está na mesma pasta deste notebook) e **verifique quantos registos tem a tabela  `clientes`**.\n"
   ]
  }
 ],
 "metadata": {
  "kernelspec": {
   "display_name": "Python 3 (ipykernel)",
   "language": "python",
   "name": "python3"
  },
  "language_info": {
   "codemirror_mode": {
    "name": "ipython",
    "version": 3
   },
   "file_extension": ".py",
   "mimetype": "text/x-python",
   "name": "python",
   "nbconvert_exporter": "python",
   "pygments_lexer": "ipython3",
   "version": "3.11.8"
  },
  "latex_envs": {
   "LaTeX_envs_menu_present": true,
   "autoclose": true,
   "autocomplete": true,
   "bibliofile": "references.bib",
   "cite_by": "apalike",
   "current_citInitial": 1,
   "eqLabelWithNumbers": false,
   "eqNumInitial": 1,
   "hotkeys": {
    "equation": "Ctrl-E",
    "itemize": "Ctrl-I"
   },
   "labels_anchors": false,
   "latex_user_defs": false,
   "report_style_numbering": true,
   "user_envs_cfg": false
  },
  "nbTranslate": {
   "displayLangs": [
    "pt"
   ],
   "hotkey": "alt-t",
   "langInMainMenu": true,
   "sourceLang": "en",
   "targetLang": "pt",
   "useGoogleTranslate": true
  },
  "toc": {
   "base_numbering": 1,
   "nav_menu": {
    "height": "307px",
    "width": "476px"
   },
   "number_sections": true,
   "sideBar": true,
   "skip_h1_title": false,
   "title_cell": "Table of Contents",
   "title_sidebar": "Contents",
   "toc_cell": false,
   "toc_position": {},
   "toc_section_display": true,
   "toc_window_display": false
  },
  "varInspector": {
   "cols": {
    "lenName": 16,
    "lenType": 16,
    "lenVar": 40
   },
   "kernels_config": {
    "python": {
     "delete_cmd_postfix": "",
     "delete_cmd_prefix": "del ",
     "library": "var_list.py",
     "varRefreshCmd": "print(var_dic_list())"
    },
    "r": {
     "delete_cmd_postfix": ") ",
     "delete_cmd_prefix": "rm(",
     "library": "var_list.r",
     "varRefreshCmd": "cat(var_dic_list()) "
    }
   },
   "types_to_exclude": [
    "module",
    "function",
    "builtin_function_or_method",
    "instance",
    "_Feature"
   ],
   "window_display": false
  }
 },
 "nbformat": 4,
 "nbformat_minor": 2
}
