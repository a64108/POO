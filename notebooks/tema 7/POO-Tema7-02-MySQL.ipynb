{
 "cells": [
  {
   "cell_type": "markdown",
   "metadata": {
    "slideshow": {
     "slide_type": "slide"
    }
   },
   "source": [
    "# Programação Orientada a Objetos (POO)\n",
    "## Tema 7 – Bases de Dados Relacionais\n",
    "\n",
    "### Parte II – Acesso a BD MySQL com Python\n",
    "\n",
    "Jaime A. Martins\n",
    "\n",
    "(CEOT/ISE/UAlg - jamartins@ualg.pt)"
   ]
  },
  {
   "cell_type": "markdown",
   "metadata": {
    "slideshow": {
     "slide_type": "skip"
    }
   },
   "source": [
    "###### Autores: Jaime Martins [v2]; Pedro Cardoso [v1]"
   ]
  },
  {
   "cell_type": "markdown",
   "metadata": {
    "slideshow": {
     "slide_type": "slide"
    }
   },
   "source": [
    "## Conexão à base de dados usando um `connector`"
   ]
  },
  {
   "cell_type": "markdown",
   "metadata": {
    "slideshow": {
     "slide_type": "-"
    }
   },
   "source": [
    "O método `connect()` do módulo `mysql` cria uma conexão a um servidor MySQL e devolve um objeto do tipo `MySQLConnection`.\n",
    "   * ver https://dev.mysql.com/doc/connector-python/en/connector-python-connectargs.html para outros argumentos e opções"
   ]
  },
  {
   "cell_type": "code",
   "execution_count": 1,
   "metadata": {
    "ExecuteTime": {
     "end_time": "2022-03-28T17:28:31.658717Z",
     "start_time": "2022-03-28T17:28:31.619315Z"
    },
    "slideshow": {
     "slide_type": "-"
    }
   },
   "outputs": [
    {
     "data": {
      "text/plain": [
       "<mysql.connector.connection_cext.CMySQLConnection at 0x1c1ec7f77d0>"
      ]
     },
     "execution_count": 1,
     "metadata": {},
     "output_type": "execute_result"
    }
   ],
   "source": [
    "import mysql.connector\n",
    "\n",
    "conn = mysql.connector.connect(\n",
    "    user=\"sensors\",  # make sure you have a user:sensors/pw:##sensors## with access rights to the sensors database\n",
    "    password=\"##sensors##\",\n",
    "    host=\"localhost\",  # replace 'localhost', if necessary\n",
    "    database=\"sensors\",\n",
    ")\n",
    "conn"
   ]
  },
  {
   "cell_type": "markdown",
   "metadata": {
    "slideshow": {
     "slide_type": "subslide"
    }
   },
   "source": [
    "Algumas informações sobre a conexão podem ser consultadas no `__dict__`"
   ]
  },
  {
   "cell_type": "code",
   "execution_count": 2,
   "metadata": {
    "ExecuteTime": {
     "end_time": "2022-03-28T17:28:31.714464Z",
     "start_time": "2022-03-28T17:28:31.660259Z"
    },
    "slideshow": {
     "slide_type": "-"
    }
   },
   "outputs": [
    {
     "data": {
      "text/plain": [
       "{'_cmysql': <_mysql_connector.MySQL at 0x1c1ece889c0>,\n",
       " '_columns': [],\n",
       " '_plugin_dir': 'c:\\\\Users\\\\virtu\\\\miniforge3\\\\envs\\\\aulas\\\\Lib\\\\site-packages\\\\mysql\\\\vendor\\\\plugin',\n",
       " 'converter': None,\n",
       " '_client_flags': 1286669,\n",
       " '_charset_id': 45,\n",
       " '_sql_mode': None,\n",
       " '_time_zone': None,\n",
       " '_autocommit': False,\n",
       " '_server_version': (5, 5, 5),\n",
       " '_handshake': {'protocol': 10,\n",
       "  'server_version_original': '5.5.5-10.4.27-MariaDB',\n",
       "  'server_threadid': 111,\n",
       "  'charset': None,\n",
       "  'server_status': None,\n",
       "  'auth_plugin': None,\n",
       "  'auth_data': None,\n",
       "  'capabilities': -2113931266},\n",
       " '_conn_attrs': {'_connector_name': 'mysql-connector-python',\n",
       "  '_connector_license': 'GPL-2.0',\n",
       "  '_connector_version': '8.0.32',\n",
       "  '_source_host': 'Zen'},\n",
       " '_user': 'sensors',\n",
       " '_password': '##sensors##',\n",
       " '_password1': '',\n",
       " '_password2': '',\n",
       " '_password3': '',\n",
       " '_database': 'sensors',\n",
       " '_host': 'localhost',\n",
       " '_port': 3306,\n",
       " '_unix_socket': None,\n",
       " '_client_host': '',\n",
       " '_client_port': 0,\n",
       " '_ssl': {},\n",
       " '_ssl_disabled': False,\n",
       " '_force_ipv6': False,\n",
       " '_oci_config_file': None,\n",
       " '_fido_callback': None,\n",
       " '_krb_service_principal': None,\n",
       " '_use_unicode': True,\n",
       " '_get_warnings': False,\n",
       " '_raise_on_warnings': False,\n",
       " '_connection_timeout': None,\n",
       " '_buffered': False,\n",
       " '_unread_result': False,\n",
       " '_have_next_result': False,\n",
       " '_raw': False,\n",
       " '_in_transaction': False,\n",
       " '_allow_local_infile': False,\n",
       " '_allow_local_infile_in_path': None,\n",
       " '_prepared_statements': None,\n",
       " '_query_attrs': [],\n",
       " '_ssl_active': False,\n",
       " '_auth_plugin': '',\n",
       " '_auth_plugin_class': None,\n",
       " '_pool_config_version': None,\n",
       " '_converter_class': None,\n",
       " '_converter_str_fallback': False,\n",
       " '_compress': False,\n",
       " '_consume_results': False,\n",
       " '_init_command': None}"
      ]
     },
     "execution_count": 2,
     "metadata": {},
     "output_type": "execute_result"
    }
   ],
   "source": [
    "conn.__dict__"
   ]
  },
  {
   "cell_type": "markdown",
   "metadata": {
    "slideshow": {
     "slide_type": "subslide"
    }
   },
   "source": [
    "Relembrar que, no final de tudo o que queremos fazer com a BD, devemos libertar sempre a conexão"
   ]
  },
  {
   "cell_type": "code",
   "execution_count": 3,
   "metadata": {
    "ExecuteTime": {
     "end_time": "2022-03-28T17:28:31.801751Z",
     "start_time": "2022-03-28T17:28:31.715948Z"
    },
    "slideshow": {
     "slide_type": "-"
    }
   },
   "outputs": [],
   "source": [
    "conn.close()"
   ]
  },
  {
   "cell_type": "markdown",
   "metadata": {
    "ExecuteTime": {
     "end_time": "2018-02-28T17:08:57.922200Z",
     "start_time": "2018-02-28T17:08:57.917199Z"
    },
    "collapsed": true,
    "slideshow": {
     "slide_type": "slide"
    }
   },
   "source": [
    "### Ficheiro de configuração e resolução de exceções\n",
    "\n",
    "Está na hora de começarmos a pensar em como fazer código mais robusto e reutilizável:\n",
    "1. Um primeiro passo é criar um ficheiro de configuração (i.e., `config.py`), onde definimos os parâmetros de acesso à BD:\n",
    "   ``` python\n",
    "   config = {\n",
    "      'host': 'localhost',\n",
    "      'user': 'sensors',\n",
    "      'password': '##sensors##', #BAD! Deveria ser hash(pass+salt)\n",
    "      'db': 'sensors'\n",
    "   } # (idealmente deveria usar python-dotenv)\n",
    "   ```\n",
    "   * Isto permite que o código seja mais fácil de manter e de reutilizar, pois assim não é necessário alterá-lo quando queremos modificar os parâmetros de acesso à BD.\n",
    "\n",
    "1. Um segundo passo é prever a resolução de exceções, para que o programa não termine quando ocorre um erro.\n",
    "\n",
    "\n",
    "\n",
    "\n",
    "e depois fazer..."
   ]
  },
  {
   "cell_type": "code",
   "execution_count": 1,
   "metadata": {
    "ExecuteTime": {
     "end_time": "2022-03-28T17:28:31.891904Z",
     "start_time": "2022-03-28T17:28:31.803229Z"
    },
    "slideshow": {
     "slide_type": "subslide"
    }
   },
   "outputs": [
    {
     "data": {
      "text/plain": [
       "{'host': 'localhost',\n",
       " 'user': 'sensors',\n",
       " 'password': '##sensors##',\n",
       " 'database': 'sensors'}"
      ]
     },
     "execution_count": 1,
     "metadata": {},
     "output_type": "execute_result"
    }
   ],
   "source": [
    "# Começamos por importar o ficheiro de configuração\n",
    "import mysql.connector\n",
    "\n",
    "from config import config\n",
    "\n",
    "config"
   ]
  },
  {
   "cell_type": "code",
   "execution_count": 2,
   "metadata": {
    "ExecuteTime": {
     "end_time": "2022-03-28T17:28:32.002904Z",
     "start_time": "2022-03-28T17:28:31.893590Z"
    },
    "slideshow": {
     "slide_type": "fragment"
    }
   },
   "outputs": [
    {
     "name": "stdout",
     "output_type": "stream",
     "text": [
      "Sucesso!\n"
     ]
    }
   ],
   "source": [
    "try:\n",
    "    conn = mysql.connector.connect(**config)\n",
    "except mysql.connector.Error as e:\n",
    "    print(\"Ups! Ocorreu um erro na conexão!\")\n",
    "    print(dir(e))\n",
    "    print(e.errno)\n",
    "else:\n",
    "    print(\"Sucesso!\")\n",
    "    conn.close()"
   ]
  },
  {
   "cell_type": "markdown",
   "metadata": {
    "lang": "pt",
    "slideshow": {
     "slide_type": "subslide"
    }
   },
   "source": [
    "### Exercício\n",
    "1. Experimente desligar o servidor e correr a linha acima: qual a mensagem de erro?\n",
    "2. Mude o nome do utilizador no ficheiro de configuração (reinicie o kernel) e corra a linha acima: qual a mensagem de erro?\n",
    "3. Re-implemente o código de modo a apresentar uma mensagem adequada quando falhar pelo servidor estar desligado e voltar a tentar mais 2 vezes a cada 5 segundos (vejam o pacote `time`, em particular o método `sleep()`)"
   ]
  },
  {
   "cell_type": "code",
   "execution_count": 6,
   "metadata": {
    "ExecuteTime": {
     "end_time": "2022-03-28T17:28:37.153186Z",
     "start_time": "2022-03-28T17:28:32.004392Z"
    },
    "slideshow": {
     "slide_type": "-"
    }
   },
   "outputs": [
    {
     "name": "stdout",
     "output_type": "stream",
     "text": [
      "Olá!\n",
      "Olá de novo!\n"
     ]
    }
   ],
   "source": [
    "import time\n",
    "\n",
    "print(\"Olá!\")\n",
    "time.sleep(3)\n",
    "print(\"Olá de novo!\")"
   ]
  },
  {
   "cell_type": "markdown",
   "metadata": {
    "slideshow": {
     "slide_type": "slide"
    }
   },
   "source": [
    "## Operações de DDL: Criação de uma base de dados\n",
    "\n",
    "Para a criação das tabelas e relacionamentos podemos construir um *statement* em **Structured Query Language (SQL)** ou, como alternativa, podemos usar ferramentas como sejam o MySQL Workbench, o phpMyAdmin, o SQlite Browser, o DataGrip, etc. \n",
    "\n",
    "Para quem ainda não conhece o SQL, recomenda-se o tutorial em https://www.w3schools.com/sql/sql_intro.asp"
   ]
  },
  {
   "cell_type": "markdown",
   "metadata": {
    "slideshow": {
     "slide_type": "subslide"
    }
   },
   "source": [
    "![Comandos SQL](https://www.w3schools.in/wp-content/uploads/2014/08/SQL-Commands-1-700x470.png)\n",
    "\n",
    "*(figura retirada de https://www.w3schools.in/mysql/ddl-dml-dcl/)*\n",
    "\n",
    "DDL is the short name for **Data Definition Language**, which deals with database schemas, descriptions, and how the data should reside in the database.\n",
    "\n",
    "* `CREATE` - to create a database and its objects like (table, index, views, store procedure, function, and triggers)\n",
    "* `ALTER` - alters the structure of the existing database\n",
    "* `DROP` - delete objects from the database\n",
    "* `TRUNCATE` - remove all records from a table, including all spaces allocated for the records are removed\n",
    "* `COMMENT` - add comments to the data dictionary\n",
    "* `RENAME` - rename an object"
   ]
  },
  {
   "cell_type": "markdown",
   "metadata": {
    "slideshow": {
     "slide_type": "subslide"
    }
   },
   "source": [
    "Consideremos o caso em que construímos o SQL statement:\n",
    "\n",
    "Comecemos por criar uma base de dados no servidor de MySQL (façam sempre resolução de exceções...)."
   ]
  },
  {
   "cell_type": "code",
   "execution_count": 3,
   "metadata": {
    "ExecuteTime": {
     "end_time": "2022-03-28T17:28:37.165564Z",
     "start_time": "2022-03-28T17:28:37.157059Z"
    },
    "slideshow": {
     "slide_type": "-"
    }
   },
   "outputs": [],
   "source": [
    "sql = \"\"\"\n",
    "USE `sensors`;\n",
    "\n",
    "-- -----------------------------------------------------\n",
    "-- Table `sensors`.`Location`\n",
    "-- -----------------------------------------------------\n",
    "CREATE TABLE\n",
    "  IF NOT EXISTS `sensors`.`Location` (\n",
    "    `idLocation` INT NOT NULL AUTO_INCREMENT,\n",
    "    `name` VARCHAR(45) NOT NULL,\n",
    "    `description` VARCHAR(45) NOT NULL,\n",
    "    PRIMARY KEY (`idLocation`),\n",
    "    UNIQUE INDEX `name_UNIQUE` (`name` ASC)\n",
    "  ) ENGINE = InnoDB;\n",
    "\n",
    "-- -----------------------------------------------------\n",
    "-- Table `sensors`.`Unit`\n",
    "-- -----------------------------------------------------\n",
    "CREATE TABLE\n",
    "  IF NOT EXISTS `sensors`.`Unit` (\n",
    "    `unit` VARCHAR(45) NOT NULL,\n",
    "    `description` VARCHAR(45) NOT NULL,\n",
    "    PRIMARY KEY (`unit`)\n",
    "  ) ENGINE = InnoDB;\n",
    "\n",
    "-- -----------------------------------------------------\n",
    "-- Table `sensors`.`Sensor`\n",
    "-- -----------------------------------------------------\n",
    "CREATE TABLE\n",
    "  IF NOT EXISTS `sensors`.`Sensor` (\n",
    "    `idSensor` INT NOT NULL AUTO_INCREMENT,\n",
    "    `idLocation` INT NOT NULL,\n",
    "    `name` VARCHAR(45) NOT NULL,\n",
    "    `unit` VARCHAR(45) NOT NULL,\n",
    "    PRIMARY KEY (`idSensor`),\n",
    "    INDEX `fk_Sensor_Location_idx` (`idLocation` ASC),\n",
    "    INDEX `fk_Sensor_Units1_idx` (`unit` ASC),\n",
    "    UNIQUE INDEX `uniq_loc_vs_sensor` (`idLocation` ASC, `name` ASC),\n",
    "    CONSTRAINT `fk_Sensor_Location` FOREIGN KEY (`idLocation`) REFERENCES `sensors`.`Location` (`idLocation`) ON UPDATE cascade ON DELETE cascade,\n",
    "    CONSTRAINT `fk_Sensor_Units1` FOREIGN KEY (`unit`) REFERENCES `sensors`.`Unit` (`unit`) ON UPDATE cascade ON DELETE cascade\n",
    "  ) ENGINE = InnoDB;\n",
    "\n",
    "-- -----------------------------------------------------\n",
    "-- Table `sensors`.`Reading`\n",
    "-- -----------------------------------------------------\n",
    "CREATE TABLE\n",
    "  IF NOT EXISTS `sensors`.`Reading` (\n",
    "    `idReading` INT NOT NULL AUTO_INCREMENT,\n",
    "    `idSensor` INT NOT NULL,\n",
    "    `timestamp` TIMESTAMP NOT NULL,\n",
    "    `value` FLOAT NOT NULL,\n",
    "    PRIMARY KEY (`idReading`),\n",
    "    INDEX `fk_Reading_Sensor1_idx` (`idSensor` ASC),\n",
    "    CONSTRAINT `fk_Reading_Sensor1` FOREIGN KEY (`idSensor`) REFERENCES `sensors`.`Sensor` (`idSensor`) ON UPDATE cascade ON DELETE cascade\n",
    "  ) ENGINE = InnoDB;\n",
    "\n",
    "-- -----------------------------------------------------\n",
    "-- Table `sensors`.`Alert`\n",
    "-- -----------------------------------------------------\n",
    "CREATE TABLE\n",
    "  IF NOT EXISTS `sensors`.`Alert` (\n",
    "    `idAlert` INT NOT NULL AUTO_INCREMENT,\n",
    "    `idSensor` INT NOT NULL,\n",
    "    `timestamp` TIMESTAMP NOT NULL,\n",
    "    `description` VARCHAR(45) NOT NULL,\n",
    "    `cleared` BIT NULL,\n",
    "    PRIMARY KEY (`idAlert`),\n",
    "    INDEX `fk_Alert_Sensor1_idx` (`idSensor` ASC),\n",
    "    CONSTRAINT `fk_Alert_Sensor1` FOREIGN KEY (`idSensor`) REFERENCES `sensors`.`Sensor` (`idSensor`) ON UPDATE cascade ON DELETE cascade\n",
    "  ) ENGINE = InnoDB;\n",
    "\"\"\""
   ]
  },
  {
   "cell_type": "markdown",
   "metadata": {
    "slideshow": {
     "slide_type": "subslide"
    }
   },
   "source": [
    "Depois de termos o SQL statement, fazemos:"
   ]
  },
  {
   "cell_type": "code",
   "execution_count": 4,
   "metadata": {
    "ExecuteTime": {
     "end_time": "2022-03-28T17:28:37.315200Z",
     "start_time": "2022-03-28T17:28:37.166981Z"
    },
    "slideshow": {
     "slide_type": "-"
    }
   },
   "outputs": [
    {
     "name": "stdout",
     "output_type": "stream",
     "text": [
      "ok!\n"
     ]
    }
   ],
   "source": [
    "# from config import config as conf\n",
    "from config import config\n",
    "import mysql.connector\n",
    "\n",
    "try:\n",
    "    # Abrimos a conexão com a base de dados\n",
    "    conn = mysql.connector.connect(**config)  # dictionary unpacking\n",
    "    \n",
    "    # Criamos um cursor a partir da conexão\n",
    "    cursor = conn.cursor()\n",
    "    \n",
    "    # Executamos o statement sql\n",
    "    cursor.execute(sql, multi=True)\n",
    "except mysql.connector.Error as err:\n",
    "    print(err)\n",
    "else:\n",
    "    print(\"ok!\")\n",
    "    conn.close()"
   ]
  },
  {
   "cell_type": "markdown",
   "metadata": {
    "slideshow": {
     "slide_type": "fragment"
    }
   },
   "source": [
    "* O comando `cnx.cursor()` devolve um objeto da classe `MySQLCursor` que executa operações na BD através de instruções SQL.\n",
    "* Por sua vez, os objetos do tipo `MySQLCursor` interagem com o servidor MySQL usando um objeto `MySQLConnection`.\n",
    "* Para mais informações ver https://dev.mysql.com/doc/connector-python/en/connector-python-api-mysqlcursor.html"
   ]
  },
  {
   "cell_type": "markdown",
   "metadata": {
    "slideshow": {
     "slide_type": "subslide"
    }
   },
   "source": [
    "No phpMyAdmin devem ver algo como\n",
    "\n",
    "![phpmyadmin_database_created.png](img/phpmyadmin_database_created.png)\n"
   ]
  },
  {
   "cell_type": "markdown",
   "metadata": {
    "slideshow": {
     "slide_type": "slide"
    }
   },
   "source": [
    "## Operações CRUD (Create, Read, Update, Delete)\n",
    "* Create, Read, Update, Delete são 4 operações fundamentais em qualquer modelo de armazenamento de dados.\n",
    "* Em SQL, estas operações são implementadas através de comandos DML (**Data Manipulation Language**).\n",
    "* Os comandos DML mais comuns são:\n",
    "  * `INSERT` - para inserir dados numa tabela\n",
    "  * `SELECT` - para selecionar dados de uma tabela\n",
    "  * `UPDATE` - para atualizar dados numa tabela\n",
    "  * `DELETE` - para apagar dados de uma tabela"
   ]
  },
  {
   "cell_type": "markdown",
   "metadata": {
    "slideshow": {
     "slide_type": "subslide"
    }
   },
   "source": [
    "### `INSERT` \n",
    "\n",
    "Aberta a conexão em MySQL"
   ]
  },
  {
   "cell_type": "code",
   "execution_count": 7,
   "metadata": {
    "ExecuteTime": {
     "end_time": "2022-03-28T17:28:37.425187Z",
     "start_time": "2022-03-28T17:28:37.316561Z"
    },
    "slideshow": {
     "slide_type": "-"
    }
   },
   "outputs": [],
   "source": [
    "conn = mysql.connector.connect(**config)\n",
    "cursor = conn.cursor()"
   ]
  },
  {
   "cell_type": "markdown",
   "metadata": {
    "slideshow": {
     "slide_type": "subslide"
    }
   },
   "source": [
    "#### Localização\n",
    "Uma boa estratégia é definir as variáveis no SQL usando parâmetros no estilo `%s` or `%(nome)s` e uma tupla com os dados"
   ]
  },
  {
   "cell_type": "code",
   "execution_count": 5,
   "metadata": {
    "ExecuteTime": {
     "end_time": "2022-03-28T17:29:00.578828Z",
     "start_time": "2022-03-28T17:29:00.576669Z"
    },
    "slideshow": {
     "slide_type": "-"
    }
   },
   "outputs": [],
   "source": [
    "sql = \"\"\"\n",
    "    INSERT INTO Location (idLocation, name, description) \n",
    "    VALUES (DEFAULT, %s, %s)\n",
    "\"\"\"\n",
    "# e um tuplo com os dados\n",
    "data = (\"Prometheus Server II\", \"Prometheus Server @ lab. 163 / ISE /UAlg\")"
   ]
  },
  {
   "cell_type": "markdown",
   "metadata": {
    "slideshow": {
     "slide_type": "fragment"
    }
   },
   "source": [
    "e agora inserir uma nova localização na base de dados e obter o id correspondente, guardado em `location_id` e que iremos usar à frente."
   ]
  },
  {
   "cell_type": "code",
   "execution_count": 8,
   "metadata": {
    "ExecuteTime": {
     "end_time": "2022-03-28T17:29:01.803671Z",
     "start_time": "2022-03-28T17:29:01.800056Z"
    },
    "slideshow": {
     "slide_type": "-"
    }
   },
   "outputs": [
    {
     "data": {
      "text/plain": [
       "1"
      ]
     },
     "execution_count": 8,
     "metadata": {},
     "output_type": "execute_result"
    }
   ],
   "source": [
    "cursor.execute(sql, data) # ver https://pyformat.info/ – *basic formatting* e *named placeholders*\n",
    "location_id = cursor.lastrowid\n",
    "location_id"
   ]
  },
  {
   "cell_type": "markdown",
   "metadata": {
    "slideshow": {
     "slide_type": "-"
    }
   },
   "source": [
    "O método `.execute` garante que os dados são convertidos num formato compatível com os campos MySQL onde irão ser armazenados."
   ]
  },
  {
   "cell_type": "markdown",
   "metadata": {
    "slideshow": {
     "slide_type": "subslide"
    }
   },
   "source": [
    "Importante, quando estamos a usar um sistema transacional, como o InnoDB, temos de efetuar o `COMMIT` depois de fazer um `INSERT`, `DELETE`, ou `UPDATE` (comandos que alterem tabelas).\n",
    "   * ver (https://dev.mysql.com/doc/connector-python/en/connector-python-api-mysqlconnection-commit.html)\n",
    "\n",
    "Nota: O InnoDB é o principal motor interno de armazenamento do MySQLServer (https://dev.mysql.com/doc/refman/8.0/en/innodb-introduction.html)"
   ]
  },
  {
   "cell_type": "code",
   "execution_count": 9,
   "metadata": {
    "ExecuteTime": {
     "end_time": "2022-03-28T17:29:03.447894Z",
     "start_time": "2022-03-28T17:29:03.408120Z"
    },
    "slideshow": {
     "slide_type": "-"
    }
   },
   "outputs": [],
   "source": [
    "conn.commit()  # ou, para \"undo\", conn.rollback()"
   ]
  },
  {
   "cell_type": "markdown",
   "metadata": {
    "slideshow": {
     "slide_type": "subslide"
    }
   },
   "source": [
    "#### Tabela `Unit`\n",
    "Inserir um novo registo na tabela `Unit`, substituíndo o anterior se tiver idêntica key (ver a documentação do comando [`REPLACE`](https://dev.mysql.com/doc/refman/5.7/en/replace.html) do SQL)"
   ]
  },
  {
   "cell_type": "code",
   "execution_count": 10,
   "metadata": {
    "ExecuteTime": {
     "end_time": "2022-03-28T17:29:05.316426Z",
     "start_time": "2022-03-28T17:29:05.231370Z"
    },
    "slideshow": {
     "slide_type": "-"
    }
   },
   "outputs": [],
   "source": [
    "sql = \"\"\"\n",
    "    REPLACE INTO Unit (unit, description) \n",
    "    VALUES (%s, %s)\n",
    "\"\"\"\n",
    "data = (\"percent\", \"percentage of usage\")\n",
    "\n",
    "cursor.execute(sql, data)  # statement + tupla com os dados\n",
    "conn.commit()"
   ]
  },
  {
   "cell_type": "markdown",
   "metadata": {
    "slideshow": {
     "slide_type": "subslide"
    }
   },
   "source": [
    "#### Tabela `Sensor`\n",
    "Inserir um novo sensor e obter o seu id, preparando o sql query"
   ]
  },
  {
   "cell_type": "code",
   "execution_count": 11,
   "metadata": {
    "ExecuteTime": {
     "end_time": "2022-03-28T17:29:06.326062Z",
     "start_time": "2022-03-28T17:29:06.323322Z"
    },
    "cell_style": "center",
    "slideshow": {
     "slide_type": "-"
    }
   },
   "outputs": [],
   "source": [
    "sql = \"\"\"\n",
    "    INSERT INTO Sensor (idSensor, idLocation, name, unit)\n",
    "    VALUES (DEFAULT, %(idLocation)s, %(name)s, %(unit)s)\n",
    "\"\"\""
   ]
  },
  {
   "cell_type": "markdown",
   "metadata": {
    "slideshow": {
     "slide_type": "-"
    }
   },
   "source": [
    "Preparar os dados, agora com um dicionário que tem em conta `%(idLocation)s, %(name)s, %(unit)s`\n"
   ]
  },
  {
   "cell_type": "code",
   "execution_count": 12,
   "metadata": {
    "ExecuteTime": {
     "end_time": "2022-03-28T17:29:07.489662Z",
     "start_time": "2022-03-28T17:29:07.487290Z"
    },
    "slideshow": {
     "slide_type": "-"
    }
   },
   "outputs": [],
   "source": [
    "data = {\n",
    "    \"idLocation\": location_id,\n",
    "    \"name\": \"cpu_sensor_01\",\n",
    "    \"unit\": \"percent\",\n",
    "}"
   ]
  },
  {
   "cell_type": "markdown",
   "metadata": {
    "slideshow": {
     "slide_type": "subslide"
    }
   },
   "source": [
    "Executar o statement"
   ]
  },
  {
   "cell_type": "code",
   "execution_count": 13,
   "metadata": {
    "ExecuteTime": {
     "end_time": "2022-03-28T17:29:08.808331Z",
     "start_time": "2022-03-28T17:29:08.764117Z"
    },
    "slideshow": {
     "slide_type": "-"
    }
   },
   "outputs": [],
   "source": [
    "cursor.execute(sql, data)  # statement + dicionário com os dados\n",
    "sensor_id = cursor.lastrowid\n",
    "conn.commit()"
   ]
  },
  {
   "cell_type": "code",
   "execution_count": 14,
   "metadata": {
    "ExecuteTime": {
     "end_time": "2022-03-28T17:29:09.355194Z",
     "start_time": "2022-03-28T17:29:09.352142Z"
    },
    "slideshow": {
     "slide_type": "-"
    }
   },
   "outputs": [
    {
     "data": {
      "text/plain": [
       "1"
      ]
     },
     "execution_count": 14,
     "metadata": {},
     "output_type": "execute_result"
    }
   ],
   "source": [
    "sensor_id"
   ]
  },
  {
   "cell_type": "markdown",
   "metadata": {
    "slideshow": {
     "slide_type": "subslide"
    }
   },
   "source": [
    "#### Tabela `Readings`\n",
    "E agora, vamos obter alguns dados e enviar para a base de dados.\n",
    "\n",
    "Neste caso vamos usar a biblioteca `psutil` que permite obter informações sobre processos em execução e utilização do sistema (CPU, memória, discos, rede, sensores) em Python. (https://pypi.org/project/psutil/)"
   ]
  },
  {
   "cell_type": "code",
   "execution_count": 15,
   "metadata": {
    "ExecuteTime": {
     "end_time": "2022-03-28T17:29:11.835174Z",
     "start_time": "2022-03-28T17:29:10.352003Z"
    },
    "slideshow": {
     "slide_type": "-"
    }
   },
   "outputs": [
    {
     "name": "stdout",
     "output_type": "stream",
     "text": [
      "Requirement already satisfied: psutil in c:\\users\\jm\\miniforge3\\envs\\rise\\lib\\site-packages (5.9.8)\n",
      "Note: you may need to restart the kernel to use updated packages.\n"
     ]
    }
   ],
   "source": [
    "%pip install psutil"
   ]
  },
  {
   "cell_type": "code",
   "execution_count": 17,
   "metadata": {
    "ExecuteTime": {
     "end_time": "2022-03-28T17:30:39.933317Z",
     "start_time": "2022-03-28T17:30:38.916050Z"
    },
    "slideshow": {
     "slide_type": "-"
    }
   },
   "outputs": [
    {
     "data": {
      "text/plain": [
       "1.4"
      ]
     },
     "execution_count": 17,
     "metadata": {},
     "output_type": "execute_result"
    }
   ],
   "source": [
    "import psutil\n",
    "\n",
    "psutil.cpu_percent(interval=1)"
   ]
  },
  {
   "cell_type": "markdown",
   "metadata": {
    "slideshow": {
     "slide_type": "subslide"
    }
   },
   "source": [
    "Podemos também listar alguns sensores disponíveis no sistema"
   ]
  },
  {
   "cell_type": "code",
   "execution_count": 18,
   "metadata": {
    "slideshow": {
     "slide_type": "-"
    }
   },
   "outputs": [
    {
     "data": {
      "text/plain": [
       "['cpu_count',\n",
       " 'cpu_freq',\n",
       " 'cpu_percent',\n",
       " 'cpu_stats',\n",
       " 'cpu_times',\n",
       " 'cpu_times_percent',\n",
       " 'sensors_battery']"
      ]
     },
     "execution_count": 18,
     "metadata": {},
     "output_type": "execute_result"
    }
   ],
   "source": [
    "[o for o in dir(psutil) if o.startswith(\"cpu\") or o.startswith(\"sensor\")]"
   ]
  },
  {
   "cell_type": "code",
   "execution_count": 19,
   "metadata": {
    "ExecuteTime": {
     "end_time": "2022-03-28T17:31:04.246707Z",
     "start_time": "2022-03-28T17:30:43.146316Z"
    },
    "slideshow": {
     "slide_type": "subslide"
    }
   },
   "outputs": [
    {
     "name": "stdout",
     "output_type": "stream",
     "text": [
      "...................."
     ]
    }
   ],
   "source": [
    "import psutil\n",
    "\n",
    "sql = \"\"\"\n",
    "    INSERT INTO Reading (idReading, idSensor, timestamp, value)     \n",
    "    VALUES (DEFAULT, %(idSensor)s, DEFAULT, %(value)s)\n",
    "\"\"\"\n",
    "\n",
    "for _ in range(20):\n",
    "    data = {\n",
    "        \"idSensor\": sensor_id,\n",
    "        \"value\": psutil.cpu_percent(interval=1),\n",
    "    }\n",
    "\n",
    "    cursor.execute(sql, data)\n",
    "    conn.commit()\n",
    "    print(\".\", end=\"\")"
   ]
  },
  {
   "cell_type": "code",
   "execution_count": 20,
   "metadata": {
    "ExecuteTime": {
     "end_time": "2022-03-28T17:31:04.267180Z",
     "start_time": "2022-03-28T17:31:04.264345Z"
    },
    "slideshow": {
     "slide_type": "-"
    }
   },
   "outputs": [],
   "source": [
    "cursor.close()\n",
    "conn.close()"
   ]
  },
  {
   "cell_type": "markdown",
   "metadata": {
    "slideshow": {
     "slide_type": "slide"
    }
   },
   "source": [
    "## Selecionar dados em MySQL\n",
    "\n",
    "O processo é simples dados os conhecimentos anteriores </div><i class=\"fa fa-lightbulb-o \"></i>"
   ]
  },
  {
   "cell_type": "code",
   "execution_count": 21,
   "metadata": {
    "ExecuteTime": {
     "end_time": "2022-03-28T17:31:04.354751Z",
     "start_time": "2022-03-28T17:31:04.278709Z"
    },
    "slideshow": {
     "slide_type": "-"
    }
   },
   "outputs": [],
   "source": [
    "conn = mysql.connector.connect(**config)\n",
    "cursor = conn.cursor()"
   ]
  },
  {
   "cell_type": "markdown",
   "metadata": {
    "slideshow": {
     "slide_type": "fragment"
    }
   },
   "source": [
    "Podemos usar o comando `SELECT` para selecionar dados de uma tabela. Neste caso vamos procurar pelo local que tem uma `description` em que contenha \"163\"."
   ]
  },
  {
   "cell_type": "code",
   "execution_count": 22,
   "metadata": {
    "ExecuteTime": {
     "end_time": "2022-03-28T17:31:04.442284Z",
     "start_time": "2022-03-28T17:31:04.368559Z"
    },
    "slideshow": {
     "slide_type": "-"
    }
   },
   "outputs": [],
   "source": [
    "sql = \"\"\"\n",
    "    SELECT idLocation, name, description \n",
    "    FROM Location \n",
    "    WHERE description LIKE \"%163%\"\n",
    "\"\"\"\n",
    "\n",
    "cursor.execute(sql)"
   ]
  },
  {
   "cell_type": "code",
   "execution_count": 23,
   "metadata": {
    "ExecuteTime": {
     "end_time": "2022-03-28T17:31:04.510943Z",
     "start_time": "2022-03-28T17:31:04.453495Z"
    },
    "slideshow": {
     "slide_type": "fragment"
    }
   },
   "outputs": [
    {
     "data": {
      "text/plain": [
       "<mysql.connector.cursor_cext.CMySQLCursor at 0x1c0f49f2d10>"
      ]
     },
     "execution_count": 23,
     "metadata": {},
     "output_type": "execute_result"
    }
   ],
   "source": [
    "cursor"
   ]
  },
  {
   "cell_type": "markdown",
   "metadata": {
    "slideshow": {
     "slide_type": "subslide"
    }
   },
   "source": [
    "Podemos percorrer os dados obtidos pelo `cursor` usando, por exemplo, um ciclo `for`"
   ]
  },
  {
   "cell_type": "code",
   "execution_count": 24,
   "metadata": {
    "ExecuteTime": {
     "end_time": "2022-03-28T17:31:04.599198Z",
     "start_time": "2022-03-28T17:31:04.524716Z"
    },
    "slideshow": {
     "slide_type": "-"
    }
   },
   "outputs": [
    {
     "name": "stdout",
     "output_type": "stream",
     "text": [
      "id: 1\n",
      "\t name: Prometheus Server II \n",
      "\t description: Prometheus Server @ lab. 163 / ISE /UAlg\n"
     ]
    }
   ],
   "source": [
    "for (idLocation, name, description) in cursor:\n",
    "    print(f\"id: {idLocation}\\n\\t name: {name} \\n\\t description: {description}\")"
   ]
  },
  {
   "cell_type": "markdown",
   "metadata": {
    "slideshow": {
     "slide_type": "subslide"
    }
   },
   "source": [
    "Outros exemplos"
   ]
  },
  {
   "cell_type": "code",
   "execution_count": 25,
   "metadata": {
    "ExecuteTime": {
     "end_time": "2022-03-28T17:31:04.720808Z",
     "start_time": "2022-03-28T17:31:04.616135Z"
    },
    "scrolled": true,
    "slideshow": {
     "slide_type": "-"
    }
   },
   "outputs": [
    {
     "name": "stdout",
     "output_type": "stream",
     "text": [
      "idReading: 1\n",
      "\t idSensor: 1 \n",
      "\t time: 2024-03-22 15:23:03 \n",
      "\t value: 1.6\n",
      "idReading: 3\n",
      "\t idSensor: 1 \n",
      "\t time: 2024-03-22 15:23:05 \n",
      "\t value: 1.4\n",
      "idReading: 4\n",
      "\t idSensor: 1 \n",
      "\t time: 2024-03-22 15:23:06 \n",
      "\t value: 2.0\n",
      "idReading: 5\n",
      "\t idSensor: 1 \n",
      "\t time: 2024-03-22 15:23:07 \n",
      "\t value: 1.2\n",
      "idReading: 7\n",
      "\t idSensor: 1 \n",
      "\t time: 2024-03-22 15:23:09 \n",
      "\t value: 1.6\n",
      "idReading: 15\n",
      "\t idSensor: 1 \n",
      "\t time: 2024-03-22 15:23:17 \n",
      "\t value: 2.0\n",
      "idReading: 17\n",
      "\t idSensor: 1 \n",
      "\t time: 2024-03-22 15:23:19 \n",
      "\t value: 1.2\n",
      "idReading: 20\n",
      "\t idSensor: 1 \n",
      "\t time: 2024-03-22 15:23:22 \n",
      "\t value: 1.2\n"
     ]
    }
   ],
   "source": [
    "sql = \"\"\"\n",
    "    SELECT idReading, idSensor, timestamp, value \n",
    "    FROM Reading \n",
    "    WHERE value BETWEEN %s and %s\n",
    "\"\"\"\n",
    "data = (1, 2)\n",
    "\n",
    "cursor.execute(sql, data)\n",
    "\n",
    "for (idReading, idSensor, timestamp, value) in cursor:\n",
    "    print(\n",
    "        f\"idReading: {idReading}\\n\\t idSensor: {idSensor} \\n\\t time: {timestamp} \\n\\t value: {value}\"\n",
    "    )"
   ]
  },
  {
   "cell_type": "code",
   "execution_count": 26,
   "metadata": {
    "ExecuteTime": {
     "end_time": "2022-03-28T17:31:04.797886Z",
     "start_time": "2022-03-28T17:31:04.741576Z"
    },
    "run_control": {
     "marked": true
    },
    "slideshow": {
     "slide_type": "subslide"
    }
   },
   "outputs": [],
   "source": [
    "sql = \"\"\"\n",
    "    SELECT *\n",
    "    FROM Location AS L\n",
    "    INNER JOIN Sensor AS S ON L.idLocation = S.idLocation\n",
    "    INNER JOIN Unit AS U ON S.unit = U.unit\n",
    "    INNER JOIN Reading AS R ON S.idSensor = R.idSensor\n",
    "    WHERE value BETWEEN %(low)s AND %(high)s\n",
    "    ORDER BY value\n",
    "\"\"\"\n",
    "\n",
    "data = {\n",
    "    \"low\": 1,\n",
    "    \"high\": 2,\n",
    "}\n",
    "\n",
    "cursor.execute(sql, data)"
   ]
  },
  {
   "cell_type": "markdown",
   "metadata": {
    "slideshow": {
     "slide_type": "subslide"
    }
   },
   "source": [
    "* Podemos obter os nomes e outros dados das colunas (https://dev.mysql.com/doc/connector-python/en/connector-python-api-mysqlcursor-description.html)\n",
    "   * Formato: (name, type_code, display_size, internal_size, precision, scale, null_ok, column_flags)\n"
   ]
  },
  {
   "cell_type": "code",
   "execution_count": 27,
   "metadata": {
    "ExecuteTime": {
     "end_time": "2022-03-28T17:31:04.911472Z",
     "start_time": "2022-03-28T17:31:04.811111Z"
    },
    "slideshow": {
     "slide_type": "-"
    }
   },
   "outputs": [
    {
     "data": {
      "text/plain": [
       "[('idLocation', 3, None, None, None, None, 0, 32769, 63),\n",
       " ('name', 253, None, None, None, None, 0, 4097, 45),\n",
       " ('description', 253, None, None, None, None, 0, 4097, 45),\n",
       " ('idSensor', 3, None, None, None, None, 0, 32769, 63),\n",
       " ('idLocation', 3, None, None, None, None, 0, 36865, 63),\n",
       " ('name', 253, None, None, None, None, 0, 4097, 45),\n",
       " ('unit', 253, None, None, None, None, 0, 4097, 45),\n",
       " ('unit', 253, None, None, None, None, 0, 4097, 45),\n",
       " ('description', 253, None, None, None, None, 0, 4097, 45),\n",
       " ('idReading', 3, None, None, None, None, 0, 32769, 63),\n",
       " ('idSensor', 3, None, None, None, None, 0, 36865, 63),\n",
       " ('timestamp', 7, None, None, None, None, 0, 161, 63),\n",
       " ('value', 4, None, None, None, None, 0, 36865, 63)]"
      ]
     },
     "execution_count": 27,
     "metadata": {},
     "output_type": "execute_result"
    }
   ],
   "source": [
    "cursor.description"
   ]
  },
  {
   "cell_type": "code",
   "execution_count": 30,
   "metadata": {
    "ExecuteTime": {
     "end_time": "2022-03-28T17:31:05.007059Z",
     "start_time": "2022-03-28T17:31:04.924861Z"
    },
    "scrolled": true,
    "slideshow": {
     "slide_type": "subslide"
    }
   },
   "outputs": [
    {
     "name": "stdout",
     "output_type": "stream",
     "text": [
      "Column 1:\n",
      "  column_name = idLocation\n",
      "  type = 3 (LONG)\n",
      "  null_ok = 0\n",
      "Column 2:\n",
      "  column_name = name\n",
      "  type = 253 (VAR_STRING)\n",
      "  null_ok = 0\n",
      "Column 3:\n",
      "  column_name = description\n",
      "  type = 253 (VAR_STRING)\n",
      "  null_ok = 0\n",
      "Column 4:\n",
      "  column_name = idSensor\n",
      "  type = 3 (LONG)\n",
      "  null_ok = 0\n",
      "Column 5:\n",
      "  column_name = idLocation\n",
      "  type = 3 (LONG)\n",
      "  null_ok = 0\n",
      "Column 6:\n",
      "  column_name = name\n",
      "  type = 253 (VAR_STRING)\n",
      "  null_ok = 0\n",
      "Column 7:\n",
      "  column_name = unit\n",
      "  type = 253 (VAR_STRING)\n",
      "  null_ok = 0\n",
      "Column 8:\n",
      "  column_name = unit\n",
      "  type = 253 (VAR_STRING)\n",
      "  null_ok = 0\n",
      "Column 9:\n",
      "  column_name = description\n",
      "  type = 253 (VAR_STRING)\n",
      "  null_ok = 0\n",
      "Column 10:\n",
      "  column_name = idReading\n",
      "  type = 3 (LONG)\n",
      "  null_ok = 0\n",
      "Column 11:\n",
      "  column_name = idSensor\n",
      "  type = 3 (LONG)\n",
      "  null_ok = 0\n",
      "Column 12:\n",
      "  column_name = timestamp\n",
      "  type = 7 (TIMESTAMP)\n",
      "  null_ok = 0\n",
      "Column 13:\n",
      "  column_name = value\n",
      "  type = 4 (FLOAT)\n",
      "  null_ok = 0\n"
     ]
    }
   ],
   "source": [
    "from mysql.connector import FieldType\n",
    "\n",
    "for i in range(len(cursor.description)):\n",
    "    print(f\"Column {i + 1}:\")\n",
    "    desc = cursor.description[i]\n",
    "    print(f\"  column_name = {desc[0]}\")\n",
    "    print(f\"  type = {desc[1]} ({FieldType.get_info(desc[1])})\")\n",
    "    print(f\"  null_ok = {desc[6]}\")"
   ]
  },
  {
   "cell_type": "code",
   "execution_count": 31,
   "metadata": {
    "ExecuteTime": {
     "end_time": "2022-03-28T17:31:05.175916Z",
     "start_time": "2022-03-28T17:31:05.021707Z"
    },
    "slideshow": {
     "slide_type": "subslide"
    }
   },
   "outputs": [
    {
     "data": {
      "text/plain": [
       "['idLocation',\n",
       " 'name',\n",
       " 'description',\n",
       " 'idSensor',\n",
       " 'idLocation',\n",
       " 'name',\n",
       " 'unit',\n",
       " 'unit',\n",
       " 'description',\n",
       " 'idReading',\n",
       " 'idSensor',\n",
       " 'timestamp',\n",
       " 'value']"
      ]
     },
     "execution_count": 31,
     "metadata": {},
     "output_type": "execute_result"
    }
   ],
   "source": [
    "lista_de_colunas = [t[0] for t in cursor.description]\n",
    "lista_de_colunas"
   ]
  },
  {
   "cell_type": "code",
   "execution_count": 32,
   "metadata": {
    "ExecuteTime": {
     "end_time": "2022-03-28T17:31:05.275983Z",
     "start_time": "2022-03-28T17:31:05.190710Z"
    },
    "scrolled": true,
    "slideshow": {
     "slide_type": "subslide"
    }
   },
   "outputs": [
    {
     "name": "stdout",
     "output_type": "stream",
     "text": [
      "| idLocation: 1\t| name: Prometheus Server II\t| description: Prometheus Server @ lab. 163 / ISE /UAlg\t| idSensor: 1\t| idLocation: 1\t| name: cpu_sensor_01\t| unit: percent\t| unit: percent\t| description: percentage of usage\t| idReading: 8\t| idSensor: 1\t| timestamp: 2023-03-19 23:08:37\t| value: 1.0\n",
      "| idLocation: 1\t| name: Prometheus Server II\t| description: Prometheus Server @ lab. 163 / ISE /UAlg\t| idSensor: 1\t| idLocation: 1\t| name: cpu_sensor_01\t| unit: percent\t| unit: percent\t| description: percentage of usage\t| idReading: 1\t| idSensor: 1\t| timestamp: 2023-03-19 23:08:30\t| value: 1.1\n",
      "| idLocation: 1\t| name: Prometheus Server II\t| description: Prometheus Server @ lab. 163 / ISE /UAlg\t| idSensor: 1\t| idLocation: 1\t| name: cpu_sensor_01\t| unit: percent\t| unit: percent\t| description: percentage of usage\t| idReading: 5\t| idSensor: 1\t| timestamp: 2023-03-19 23:08:34\t| value: 1.2\n",
      "| idLocation: 1\t| name: Prometheus Server II\t| description: Prometheus Server @ lab. 163 / ISE /UAlg\t| idSensor: 1\t| idLocation: 1\t| name: cpu_sensor_01\t| unit: percent\t| unit: percent\t| description: percentage of usage\t| idReading: 2\t| idSensor: 1\t| timestamp: 2023-03-19 23:08:31\t| value: 1.3\n",
      "| idLocation: 1\t| name: Prometheus Server II\t| description: Prometheus Server @ lab. 163 / ISE /UAlg\t| idSensor: 1\t| idLocation: 1\t| name: cpu_sensor_01\t| unit: percent\t| unit: percent\t| description: percentage of usage\t| idReading: 6\t| idSensor: 1\t| timestamp: 2023-03-19 23:08:35\t| value: 1.3\n",
      "| idLocation: 1\t| name: Prometheus Server II\t| description: Prometheus Server @ lab. 163 / ISE /UAlg\t| idSensor: 1\t| idLocation: 1\t| name: cpu_sensor_01\t| unit: percent\t| unit: percent\t| description: percentage of usage\t| idReading: 7\t| idSensor: 1\t| timestamp: 2023-03-19 23:08:36\t| value: 1.3\n",
      "| idLocation: 1\t| name: Prometheus Server II\t| description: Prometheus Server @ lab. 163 / ISE /UAlg\t| idSensor: 1\t| idLocation: 1\t| name: cpu_sensor_01\t| unit: percent\t| unit: percent\t| description: percentage of usage\t| idReading: 3\t| idSensor: 1\t| timestamp: 2023-03-19 23:08:32\t| value: 1.7\n",
      "| idLocation: 1\t| name: Prometheus Server II\t| description: Prometheus Server @ lab. 163 / ISE /UAlg\t| idSensor: 1\t| idLocation: 1\t| name: cpu_sensor_01\t| unit: percent\t| unit: percent\t| description: percentage of usage\t| idReading: 11\t| idSensor: 1\t| timestamp: 2023-03-19 23:08:40\t| value: 2.0\n"
     ]
    }
   ],
   "source": [
    "for linha in cursor:\n",
    "    print(\n",
    "        \"\\t\".join(\n",
    "            [f\"| {coluna}: {valor}\" for coluna, valor in zip(lista_de_colunas, linha)]\n",
    "        )\n",
    "    )"
   ]
  },
  {
   "cell_type": "markdown",
   "metadata": {
    "slideshow": {
     "slide_type": "slide"
    }
   },
   "source": [
    "### o comando `fetchall`\n",
    "Com o comando `fetchall` podemos obter todos os resultados de uma única vez como uma lista de tuplas"
   ]
  },
  {
   "cell_type": "code",
   "execution_count": 33,
   "metadata": {
    "ExecuteTime": {
     "end_time": "2022-03-28T17:31:05.351951Z",
     "start_time": "2022-03-28T17:31:05.290883Z"
    },
    "scrolled": true,
    "slideshow": {
     "slide_type": "-"
    }
   },
   "outputs": [
    {
     "data": {
      "text/plain": [
       "[(1,\n",
       "  'Prometheus Server II',\n",
       "  'Prometheus Server @ lab. 163 / ISE /UAlg',\n",
       "  1,\n",
       "  1,\n",
       "  'cpu_sensor_01',\n",
       "  'percent',\n",
       "  'percent',\n",
       "  'percentage of usage',\n",
       "  8,\n",
       "  1,\n",
       "  datetime.datetime(2023, 3, 19, 23, 8, 37),\n",
       "  1.0),\n",
       " (1,\n",
       "  'Prometheus Server II',\n",
       "  'Prometheus Server @ lab. 163 / ISE /UAlg',\n",
       "  1,\n",
       "  1,\n",
       "  'cpu_sensor_01',\n",
       "  'percent',\n",
       "  'percent',\n",
       "  'percentage of usage',\n",
       "  1,\n",
       "  1,\n",
       "  datetime.datetime(2023, 3, 19, 23, 8, 30),\n",
       "  1.1),\n",
       " (1,\n",
       "  'Prometheus Server II',\n",
       "  'Prometheus Server @ lab. 163 / ISE /UAlg',\n",
       "  1,\n",
       "  1,\n",
       "  'cpu_sensor_01',\n",
       "  'percent',\n",
       "  'percent',\n",
       "  'percentage of usage',\n",
       "  5,\n",
       "  1,\n",
       "  datetime.datetime(2023, 3, 19, 23, 8, 34),\n",
       "  1.2),\n",
       " (1,\n",
       "  'Prometheus Server II',\n",
       "  'Prometheus Server @ lab. 163 / ISE /UAlg',\n",
       "  1,\n",
       "  1,\n",
       "  'cpu_sensor_01',\n",
       "  'percent',\n",
       "  'percent',\n",
       "  'percentage of usage',\n",
       "  2,\n",
       "  1,\n",
       "  datetime.datetime(2023, 3, 19, 23, 8, 31),\n",
       "  1.3),\n",
       " (1,\n",
       "  'Prometheus Server II',\n",
       "  'Prometheus Server @ lab. 163 / ISE /UAlg',\n",
       "  1,\n",
       "  1,\n",
       "  'cpu_sensor_01',\n",
       "  'percent',\n",
       "  'percent',\n",
       "  'percentage of usage',\n",
       "  6,\n",
       "  1,\n",
       "  datetime.datetime(2023, 3, 19, 23, 8, 35),\n",
       "  1.3),\n",
       " (1,\n",
       "  'Prometheus Server II',\n",
       "  'Prometheus Server @ lab. 163 / ISE /UAlg',\n",
       "  1,\n",
       "  1,\n",
       "  'cpu_sensor_01',\n",
       "  'percent',\n",
       "  'percent',\n",
       "  'percentage of usage',\n",
       "  7,\n",
       "  1,\n",
       "  datetime.datetime(2023, 3, 19, 23, 8, 36),\n",
       "  1.3),\n",
       " (1,\n",
       "  'Prometheus Server II',\n",
       "  'Prometheus Server @ lab. 163 / ISE /UAlg',\n",
       "  1,\n",
       "  1,\n",
       "  'cpu_sensor_01',\n",
       "  'percent',\n",
       "  'percent',\n",
       "  'percentage of usage',\n",
       "  3,\n",
       "  1,\n",
       "  datetime.datetime(2023, 3, 19, 23, 8, 32),\n",
       "  1.7),\n",
       " (1,\n",
       "  'Prometheus Server II',\n",
       "  'Prometheus Server @ lab. 163 / ISE /UAlg',\n",
       "  1,\n",
       "  1,\n",
       "  'cpu_sensor_01',\n",
       "  'percent',\n",
       "  'percent',\n",
       "  'percentage of usage',\n",
       "  11,\n",
       "  1,\n",
       "  datetime.datetime(2023, 3, 19, 23, 8, 40),\n",
       "  2.0)]"
      ]
     },
     "execution_count": 33,
     "metadata": {},
     "output_type": "execute_result"
    }
   ],
   "source": [
    "# É necessário voltar a correr o SELECT pois o cursor é um iterável e foi esvaziado\n",
    "cursor.execute(sql, data)\n",
    "\n",
    "cursor.fetchall()"
   ]
  },
  {
   "cell_type": "markdown",
   "metadata": {
    "slideshow": {
     "slide_type": "subslide"
    }
   },
   "source": [
    "Podemos também converter para um dicionário mas no **nosso exemplo** (dado o `*` no `SELECT`) **NÃO é boa ideia** pois há colunas que têm o mesmo nome (e.g., `nome`), pelo que se perdem colunas ao passar para um dicionário."
   ]
  },
  {
   "cell_type": "code",
   "execution_count": 34,
   "metadata": {
    "ExecuteTime": {
     "end_time": "2022-03-28T17:31:05.443758Z",
     "start_time": "2022-03-28T17:31:05.370591Z"
    },
    "scrolled": true,
    "slideshow": {
     "slide_type": "-"
    }
   },
   "outputs": [
    {
     "name": "stdout",
     "output_type": "stream",
     "text": [
      "{'idLocation': 1, 'name': 'cpu_sensor_01', 'description': 'percentage of usage', 'idSensor': 1, 'unit': 'percent', 'idReading': 8, 'timestamp': datetime.datetime(2023, 3, 19, 23, 8, 37), 'value': 1.0}\n",
      "{'idLocation': 1, 'name': 'cpu_sensor_01', 'description': 'percentage of usage', 'idSensor': 1, 'unit': 'percent', 'idReading': 1, 'timestamp': datetime.datetime(2023, 3, 19, 23, 8, 30), 'value': 1.1}\n",
      "{'idLocation': 1, 'name': 'cpu_sensor_01', 'description': 'percentage of usage', 'idSensor': 1, 'unit': 'percent', 'idReading': 5, 'timestamp': datetime.datetime(2023, 3, 19, 23, 8, 34), 'value': 1.2}\n",
      "{'idLocation': 1, 'name': 'cpu_sensor_01', 'description': 'percentage of usage', 'idSensor': 1, 'unit': 'percent', 'idReading': 2, 'timestamp': datetime.datetime(2023, 3, 19, 23, 8, 31), 'value': 1.3}\n",
      "{'idLocation': 1, 'name': 'cpu_sensor_01', 'description': 'percentage of usage', 'idSensor': 1, 'unit': 'percent', 'idReading': 6, 'timestamp': datetime.datetime(2023, 3, 19, 23, 8, 35), 'value': 1.3}\n",
      "{'idLocation': 1, 'name': 'cpu_sensor_01', 'description': 'percentage of usage', 'idSensor': 1, 'unit': 'percent', 'idReading': 7, 'timestamp': datetime.datetime(2023, 3, 19, 23, 8, 36), 'value': 1.3}\n",
      "{'idLocation': 1, 'name': 'cpu_sensor_01', 'description': 'percentage of usage', 'idSensor': 1, 'unit': 'percent', 'idReading': 3, 'timestamp': datetime.datetime(2023, 3, 19, 23, 8, 32), 'value': 1.7}\n",
      "{'idLocation': 1, 'name': 'cpu_sensor_01', 'description': 'percentage of usage', 'idSensor': 1, 'unit': 'percent', 'idReading': 11, 'timestamp': datetime.datetime(2023, 3, 19, 23, 8, 40), 'value': 2.0}\n"
     ]
    }
   ],
   "source": [
    "# É necessário voltar a correr o SELECT pois o cursor foi esvaziado\n",
    "cursor.execute(sql, data)\n",
    "\n",
    "for linha in cursor:\n",
    "    print({coluna: valor for valor, coluna in zip(linha, lista_de_colunas)})\n",
    "    # Só ficou um 'name'!"
   ]
  },
  {
   "cell_type": "code",
   "execution_count": 35,
   "metadata": {
    "ExecuteTime": {
     "end_time": "2022-03-28T17:31:05.530812Z",
     "start_time": "2022-03-28T17:31:05.459381Z"
    },
    "slideshow": {
     "slide_type": "fragment"
    }
   },
   "outputs": [],
   "source": [
    "cursor.close()\n",
    "conn.close()"
   ]
  },
  {
   "cell_type": "markdown",
   "metadata": {
    "slideshow": {
     "slide_type": "subslide"
    }
   },
   "source": [
    "### Dados na forma de dicionários\n",
    "\n",
    "Quando se cria o cursor com o parâmetro `dictionary=True` ao iterar sobre os resultados estes vêm na forma de dicionários"
   ]
  },
  {
   "cell_type": "code",
   "execution_count": 36,
   "metadata": {
    "ExecuteTime": {
     "end_time": "2022-03-28T17:31:05.623330Z",
     "start_time": "2022-03-28T17:31:05.543577Z"
    },
    "slideshow": {
     "slide_type": "-"
    }
   },
   "outputs": [
    {
     "name": "stdout",
     "output_type": "stream",
     "text": [
      "{'idReading': 17, 'idSensor': 1, 'timestamp': datetime.datetime(2023, 3, 19, 23, 8, 46), 'value': 6.8}\n",
      "{'idReading': 18, 'idSensor': 1, 'timestamp': datetime.datetime(2023, 3, 19, 23, 8, 47), 'value': 7.8}\n"
     ]
    }
   ],
   "source": [
    "conn = mysql.connector.connect(**config)\n",
    "cursor = conn.cursor(dictionary=True)\n",
    "\n",
    "sql = \"\"\"\n",
    "    SELECT idReading, idSensor, timestamp, value \n",
    "    FROM Reading \n",
    "    WHERE value BETWEEN %s and %s\n",
    "\"\"\"\n",
    "data = (5, 50)\n",
    "\n",
    "cursor.execute(sql, data)\n",
    "\n",
    "for linha in cursor:\n",
    "    print(linha)"
   ]
  },
  {
   "cell_type": "code",
   "execution_count": 37,
   "metadata": {
    "ExecuteTime": {
     "end_time": "2022-03-28T17:31:05.709382Z",
     "start_time": "2022-03-28T17:31:05.637710Z"
    },
    "slideshow": {
     "slide_type": "-"
    }
   },
   "outputs": [],
   "source": [
    "cursor.close()\n",
    "conn.close()"
   ]
  },
  {
   "cell_type": "markdown",
   "metadata": {
    "slideshow": {
     "slide_type": "subslide"
    }
   },
   "source": [
    "### EXERCÍCIO\n",
    "Utilize os pacotes `time` e `psutil` para calcular a memoria virtual livre a cada segundo durante 30 segundos, guardando na base de dados. Use\n",
    "```\n",
    "...\n",
    "x = psutil.virtual_memory()\n",
    "x.free\n",
    "...\n",
    "```"
   ]
  }
 ],
 "metadata": {
  "kernelspec": {
   "display_name": "Python 3 (ipykernel)",
   "language": "python",
   "name": "python3"
  },
  "language_info": {
   "codemirror_mode": {
    "name": "ipython",
    "version": 3
   },
   "file_extension": ".py",
   "mimetype": "text/x-python",
   "name": "python",
   "nbconvert_exporter": "python",
   "pygments_lexer": "ipython3",
   "version": "3.11.8"
  },
  "latex_envs": {
   "LaTeX_envs_menu_present": true,
   "autoclose": true,
   "autocomplete": true,
   "bibliofile": "references.bib",
   "cite_by": "apalike",
   "current_citInitial": 1,
   "eqLabelWithNumbers": false,
   "eqNumInitial": 1,
   "hotkeys": {
    "equation": "Ctrl-E",
    "itemize": "Ctrl-I"
   },
   "labels_anchors": false,
   "latex_user_defs": false,
   "report_style_numbering": true,
   "user_envs_cfg": false
  },
  "nbTranslate": {
   "displayLangs": [
    "pt"
   ],
   "hotkey": "alt-t",
   "langInMainMenu": true,
   "sourceLang": "en",
   "targetLang": "pt",
   "useGoogleTranslate": true
  },
  "toc": {
   "base_numbering": 1,
   "nav_menu": {
    "height": "307px",
    "width": "476px"
   },
   "number_sections": true,
   "sideBar": true,
   "skip_h1_title": false,
   "title_cell": "Table of Contents",
   "title_sidebar": "Contents",
   "toc_cell": false,
   "toc_position": {},
   "toc_section_display": true,
   "toc_window_display": false
  },
  "varInspector": {
   "cols": {
    "lenName": 16,
    "lenType": 16,
    "lenVar": 40
   },
   "kernels_config": {
    "python": {
     "delete_cmd_postfix": "",
     "delete_cmd_prefix": "del ",
     "library": "var_list.py",
     "varRefreshCmd": "print(var_dic_list())"
    },
    "r": {
     "delete_cmd_postfix": ") ",
     "delete_cmd_prefix": "rm(",
     "library": "var_list.r",
     "varRefreshCmd": "cat(var_dic_list()) "
    }
   },
   "types_to_exclude": [
    "module",
    "function",
    "builtin_function_or_method",
    "instance",
    "_Feature"
   ],
   "window_display": false
  },
  "vscode": {
   "interpreter": {
    "hash": "514c66916f79f2e119b1c85bbea303f4e82df27fa4f8b079b28152a352dfbb6c"
   }
  }
 },
 "nbformat": 4,
 "nbformat_minor": 2
}
