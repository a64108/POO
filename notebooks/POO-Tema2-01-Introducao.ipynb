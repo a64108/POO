{
 "cells": [
  {
   "cell_type": "markdown",
   "metadata": {
    "editable": true,
    "slideshow": {
     "slide_type": "slide"
    },
    "tags": []
   },
   "source": [
    "# Introdução à Programação Orientada a Objetos (POO)\n",
    "## Tema 2\n",
    "### Parte I\n",
    "Jaime A. Martins\n",
    "\n",
    "(CEOT/ISE/UAlg - jamartins@ualg.pt)"
   ]
  },
  {
   "cell_type": "markdown",
   "metadata": {
    "slideshow": {
     "slide_type": "skip"
    }
   },
   "source": [
    "###### Autores: Jaime Martins [v2]; Pedro Cardoso [v1]"
   ]
  },
  {
   "cell_type": "markdown",
   "metadata": {
    "cell_style": "center",
    "editable": true,
    "slideshow": {
     "slide_type": "slide"
    },
    "tags": []
   },
   "source": [
    "## Introdução\n",
    "\n",
    "* A POO tenta gerir a complexidade inerente aos problemas do mundo real.\n",
    "\n",
    "* Abstrai o conhecimento relevante e **encapsula-o** dentro de objetos."
   ]
  },
  {
   "cell_type": "markdown",
   "metadata": {
    "cell_style": "center",
    "editable": true,
    "slideshow": {
     "slide_type": "fragment"
    },
    "tags": []
   },
   "source": [
    "\n",
    "* Na POO um programa informático é conceptualizado como um **conjunto de objetos** que trabalham em cooperação para realizar uma tarefa.\n",
    "\n",
    "* Cada objeto torna-se uma parte do programa, interagindo com as outras partes de forma específica e totalmente controlada."
   ]
  },
  {
   "cell_type": "markdown",
   "metadata": {
    "editable": true,
    "slideshow": {
     "slide_type": "slide"
    },
    "tags": []
   },
   "source": [
    "## Conceitos básicos\n",
    "\n",
    "> Na **visão da POO, o mundo é composto por diversos objetos** que possuem um conjunto de **características e um comportamento bem definido**.\n",
    "   \n",
    "Ou seja, definimos **abstrações dos objetos** reais existentes. "
   ]
  },
  {
   "cell_type": "markdown",
   "metadata": {
    "editable": true,
    "slideshow": {
     "slide_type": "fragment"
    },
    "tags": []
   },
   "source": [
    "Qualquer objeto possui sempre as seguintes características:\n",
    "- **Estado**: conjunto de atributos/propriedades de um objeto.\n",
    "- **Comportamento**: conjunto de ações/métodos possíveis sobre o objeto.\n",
    "- **Unicidade**: todo objeto é único (possui um endereço de memória próprio e diferente de todos os outros objectos)."
   ]
  },
  {
   "cell_type": "markdown",
   "metadata": {
    "editable": true,
    "slideshow": {
     "slide_type": "slide"
    },
    "tags": []
   },
   "source": [
    "## Classes de objetos\n",
    "\n",
    "Quando escrevemos um programa numa linguagem OO, não definimos objetos individuais. Em vez disso definimos as **classes** utilizadas para criar esses objetos.\n",
    "\n",
    "Podemos entender uma **classe** como um modelo ou como uma especificação para um conjunto de objetos, ou seja, a  **descrição genérica** dos objetos pertencentes a um dado conjunto. "
   ]
  },
  {
   "cell_type": "markdown",
   "metadata": {
    "editable": true,
    "slideshow": {
     "slide_type": "fragment"
    },
    "tags": []
   },
   "source": [
    "\n",
    "* A partir de uma classe é possível criar quantos **objetos individuais** forem desejados. \n",
    "\n",
    "* Uma classe define as **características** e o **comportamento** de um conjunto de objetos. \n",
    "\n",
    "* A criação de uma classe implica definir um **objeto típico** em termos dos seus atributos (variáveis que conterão os dados) e seus métodos (funções que manipulam tais dados)."
   ]
  },
  {
   "cell_type": "markdown",
   "metadata": {
    "editable": true,
    "slideshow": {
     "slide_type": "subslide"
    },
    "tags": []
   },
   "source": [
    "> **Definição (Classe)**:\n",
    ">\n",
    "> É um componente de um programa que descreve a *estrutura* e o *comportamento* de um grupo de objetos semelhantes -- isto é, as informações que caracterizam o estado desses objetos e as ações (ou operações) que eles podem realizar."
   ]
  },
  {
   "cell_type": "markdown",
   "metadata": {
    "editable": true,
    "slideshow": {
     "slide_type": "fragment"
    },
    "tags": []
   },
   "source": [
    "> **Definição (Objeto)**:\n",
    ">\n",
    ">Um **objeto** é a criação de uma instância de uma classe. Quando instanciamos um objeto, criamos fisicamente uma representação concreta da sua classe.\n",
    "\n",
    "Se **Humano** fosse uma classe, então **António** seria uma instância de Humano.\n",
    "* Apesar de ter todas as características da classe **Humano**, o **António** é único e completamente diferente (independente) das outras instâncias de **Humano**."
   ]
  },
  {
   "cell_type": "markdown",
   "metadata": {
    "editable": true,
    "slideshow": {
     "slide_type": "subslide"
    },
    "tags": []
   },
   "source": [
    "* A figura seguinte mostra o exemplo da classe **Canino**\n",
    "* Uma instância (objeto) desta classe é o cão **Bandit**:\n",
    "\n",
    "<img src=\"dog_classes.png\" width=\"700\">\n"
   ]
  },
  {
   "cell_type": "markdown",
   "metadata": {
    "slideshow": {
     "slide_type": "slide"
    }
   },
   "source": [
    "## Declaração de uma classe em Python\n",
    "\n",
    "O **nome** de uma classe usa a nomenclatura **PascalCase**.\n",
    "\n",
    "A declaração de uma classe segue a seguinte estrutura:\n",
    "\n",
    "```Python\n",
    "class NomeDaClasse:\n",
    "    Declaração dos atributos da classe\n",
    "    Declaração dos métodos da classe\n",
    "```\n",
    "\n",
    "Uma classe muito simples será"
   ]
  },
  {
   "cell_type": "code",
   "execution_count": 1,
   "metadata": {
    "ExecuteTime": {
     "end_time": "2022-03-04T08:24:10.496707Z",
     "start_time": "2022-03-04T08:24:10.481748Z"
    },
    "slideshow": {
     "slide_type": "fragment"
    }
   },
   "outputs": [],
   "source": [
    "class Simples:\n",
    "    pass"
   ]
  },
  {
   "cell_type": "markdown",
   "metadata": {
    "slideshow": {
     "slide_type": "fragment"
    }
   },
   "source": [
    "Que podemos instanciar através de"
   ]
  },
  {
   "cell_type": "code",
   "execution_count": 2,
   "metadata": {
    "ExecuteTime": {
     "end_time": "2022-03-04T08:24:11.263893Z",
     "start_time": "2022-03-04T08:24:11.245975Z"
    },
    "editable": true,
    "slideshow": {
     "slide_type": "-"
    },
    "tags": []
   },
   "outputs": [],
   "source": [
    "c = Simples()"
   ]
  },
  {
   "cell_type": "markdown",
   "metadata": {
    "editable": true,
    "slideshow": {
     "slide_type": "fragment"
    },
    "tags": []
   },
   "source": [
    "`c` é então um objeto do tipo `Simples`"
   ]
  },
  {
   "cell_type": "code",
   "execution_count": 3,
   "metadata": {
    "ExecuteTime": {
     "end_time": "2022-03-04T08:24:12.175651Z",
     "start_time": "2022-03-04T08:24:12.149272Z"
    },
    "editable": true,
    "slideshow": {
     "slide_type": "-"
    },
    "tags": []
   },
   "outputs": [
    {
     "data": {
      "text/plain": [
       "<__main__.Simples at 0x1f1c0c128a0>"
      ]
     },
     "execution_count": 3,
     "metadata": {},
     "output_type": "execute_result"
    }
   ],
   "source": [
    "c"
   ]
  },
  {
   "cell_type": "markdown",
   "metadata": {
    "slideshow": {
     "slide_type": "subslide"
    }
   },
   "source": [
    "Mas `c` também tem um conjunto de atributos e métodos que **herdou** automaticamente da classe (`Object`). Mais à frente veremos o que é isto de \"herdar\"..."
   ]
  },
  {
   "cell_type": "code",
   "execution_count": 4,
   "metadata": {
    "ExecuteTime": {
     "end_time": "2022-03-04T08:24:13.882241Z",
     "start_time": "2022-03-04T08:24:13.872268Z"
    },
    "slideshow": {
     "slide_type": "-"
    }
   },
   "outputs": [
    {
     "data": {
      "text/plain": [
       "['__class__',\n",
       " '__delattr__',\n",
       " '__dict__',\n",
       " '__dir__',\n",
       " '__doc__',\n",
       " '__eq__',\n",
       " '__format__',\n",
       " '__ge__',\n",
       " '__getattribute__',\n",
       " '__getstate__',\n",
       " '__gt__',\n",
       " '__hash__',\n",
       " '__init__',\n",
       " '__init_subclass__',\n",
       " '__le__',\n",
       " '__lt__',\n",
       " '__module__',\n",
       " '__ne__',\n",
       " '__new__',\n",
       " '__reduce__',\n",
       " '__reduce_ex__',\n",
       " '__repr__',\n",
       " '__setattr__',\n",
       " '__sizeof__',\n",
       " '__str__',\n",
       " '__subclasshook__',\n",
       " '__weakref__']"
      ]
     },
     "execution_count": 4,
     "metadata": {},
     "output_type": "execute_result"
    }
   ],
   "source": [
    "dir(c)"
   ]
  },
  {
   "cell_type": "markdown",
   "metadata": {
    "slideshow": {
     "slide_type": "subslide"
    }
   },
   "source": [
    "`c` tem um `id` único"
   ]
  },
  {
   "cell_type": "code",
   "execution_count": 5,
   "metadata": {
    "ExecuteTime": {
     "end_time": "2022-03-04T08:24:17.468054Z",
     "start_time": "2022-03-04T08:24:17.446117Z"
    },
    "slideshow": {
     "slide_type": "-"
    }
   },
   "outputs": [
    {
     "data": {
      "text/plain": [
       "2137832630432"
      ]
     },
     "execution_count": 5,
     "metadata": {},
     "output_type": "execute_result"
    }
   ],
   "source": [
    "id(c)"
   ]
  },
  {
   "cell_type": "markdown",
   "metadata": {
    "slideshow": {
     "slide_type": "fragment"
    }
   },
   "source": [
    "ou seja, o `id` de outras instâncias da classe (outros objetos) serão sempre diferentes"
   ]
  },
  {
   "cell_type": "code",
   "execution_count": 6,
   "metadata": {
    "ExecuteTime": {
     "end_time": "2022-03-04T08:24:18.468599Z",
     "start_time": "2022-03-04T08:24:18.448970Z"
    },
    "slideshow": {
     "slide_type": "-"
    }
   },
   "outputs": [
    {
     "data": {
      "text/plain": [
       "2137832635664"
      ]
     },
     "execution_count": 6,
     "metadata": {},
     "output_type": "execute_result"
    }
   ],
   "source": [
    "d = Simples()\n",
    "id(d)"
   ]
  },
  {
   "cell_type": "markdown",
   "metadata": {
    "slideshow": {
     "slide_type": "slide"
    }
   },
   "source": [
    "## Inicialização de objetos de uma classe\n",
    "\n",
    "* Quando um **novo objeto é criado, o construtor da classe é executado**. Em Python, o construtor é um método especial, chamado `__new__()`."
   ]
  },
  {
   "cell_type": "markdown",
   "metadata": {
    "slideshow": {
     "slide_type": "fragment"
    }
   },
   "source": [
    "* Após a chamada ao construtor, o método `__init__()` é executado:\n",
    "\n",
    "    * O método `__init__()` é um método especial em Python, que é executado automaticamente quando é criada uma nova instância de uma classe.\n",
    "    \n",
    "    * É o **inicializador** da classe, e serve para inicializar os atributos da classe com valores específicos."
   ]
  },
  {
   "cell_type": "markdown",
   "metadata": {
    "slideshow": {
     "slide_type": "subslide"
    }
   },
   "source": [
    "* A sintaxe básica do método `__init__()` é a seguinte:\n",
    "    ``` Python\n",
    "    class NomeDaClasse:\n",
    "        def __init__(self, param1, param2, ...):\n",
    "            self.atributo1 = param1\n",
    "            self.atributo2 = param2\n",
    "            ...\n",
    "    ```"
   ]
  },
  {
   "cell_type": "markdown",
   "metadata": {
    "slideshow": {
     "slide_type": "fragment"
    }
   },
   "source": [
    "* Ao instanciar a classe, podem-se passar valores para os parâmetros do método `__init__()`:\n",
    "    ``` Python\n",
    "    objeto = NomeDaClasse(param1, param2, ...)\n",
    "    ```\n",
    "        \n",
    "* Os valores passados para o método `__init__()` podem ser armazenados como atributos da classe, para serem acedidos posteriormente através da instância da classe.\n",
    "\n",
    "* O método `__init__()` é opcional, mas é frequentemente usado para configurar corretamente uma nova instância da classe, antes de ser usada."
   ]
  },
  {
   "cell_type": "code",
   "execution_count": 7,
   "metadata": {
    "ExecuteTime": {
     "end_time": "2022-03-04T08:24:51.559646Z",
     "start_time": "2022-03-04T08:24:51.547939Z"
    },
    "slideshow": {
     "slide_type": "fragment"
    }
   },
   "outputs": [],
   "source": [
    "class Simples:\n",
    "    def __init__(self):  # self é uma referência ao próprio objeto, mais tarde veremos com mais detalhe...\n",
    "        pass"
   ]
  },
  {
   "cell_type": "markdown",
   "metadata": {
    "slideshow": {
     "slide_type": "slide"
    }
   },
   "source": [
    "## Exemplo: a classe `Carro`\n",
    "\n",
    "Para definir uma classe `Carro` devemos pensar nas *propriedades* e *funcionalidades* comuns a todos os carros.\n",
    "\n",
    "Que atributos/propriedades podem ser importantes num carro?\n",
    "* Nome do dono\n",
    "* Marca\n",
    "* Modelo\n",
    "* Consumo \n",
    "* Cor\n",
    "* Odómetro (km percorridos)"
   ]
  },
  {
   "cell_type": "markdown",
   "metadata": {
    "slideshow": {
     "slide_type": "subslide"
    }
   },
   "source": [
    "Que funcionalidades de um carro são importantes para nós? \n",
    "\n",
    "Isto é, o que gostaríamos de poder \"pedir a um carro\"?\n",
    "*  Definir o dono, marca, modelo, consumo, cor, odómetro\n",
    "*  Adicionar km percorridos ao odómetro\n",
    "*  Imprimir o nome do dono, a cor, ...\n",
    "*  Devolver o nome do dono, o odómetro, o consumo, ...\n",
    "*  ..."
   ]
  },
  {
   "cell_type": "markdown",
   "metadata": {
    "slideshow": {
     "slide_type": "subslide"
    }
   },
   "source": [
    "Defina-se então a classe `Carro` com os atributos referidos"
   ]
  },
  {
   "cell_type": "code",
   "execution_count": 8,
   "metadata": {
    "ExecuteTime": {
     "end_time": "2022-03-04T08:25:35.165315Z",
     "start_time": "2022-03-04T08:25:35.148410Z"
    },
    "slideshow": {
     "slide_type": "-"
    }
   },
   "outputs": [],
   "source": [
    "class Carro:\n",
    "    def __init__(self, cor, marca, modelo, dono, consumo, km):\n",
    "        self.cor = cor\n",
    "        self.marca = marca\n",
    "        self.modelo = modelo\n",
    "        self.dono = dono\n",
    "        self.consumo = consumo\n",
    "        self.km = km"
   ]
  },
  {
   "cell_type": "markdown",
   "metadata": {
    "slideshow": {
     "slide_type": "fragment"
    }
   },
   "source": [
    "Agora já podemos instanciar um `Carro` específico"
   ]
  },
  {
   "cell_type": "code",
   "execution_count": 9,
   "metadata": {
    "ExecuteTime": {
     "end_time": "2022-03-04T08:25:38.085566Z",
     "start_time": "2022-03-04T08:25:38.072222Z"
    },
    "scrolled": true,
    "slideshow": {
     "slide_type": "-"
    }
   },
   "outputs": [
    {
     "data": {
      "text/plain": [
       "<__main__.Carro at 0x1f1c0bb86b0>"
      ]
     },
     "execution_count": 9,
     "metadata": {},
     "output_type": "execute_result"
    }
   ],
   "source": [
    "carro_1 = Carro('Branco', 'Fiat', '500', 'Claudia', 6, 20000)\n",
    "carro_1"
   ]
  },
  {
   "cell_type": "markdown",
   "metadata": {
    "slideshow": {
     "slide_type": "subslide"
    }
   },
   "source": [
    "E podemos criar várias instâncias/objetos a partir da mesma classe"
   ]
  },
  {
   "cell_type": "code",
   "execution_count": 10,
   "metadata": {
    "ExecuteTime": {
     "end_time": "2022-03-04T08:25:44.868936Z",
     "start_time": "2022-03-04T08:25:44.848078Z"
    }
   },
   "outputs": [
    {
     "data": {
      "text/plain": [
       "<__main__.Carro at 0x1f1c0c12870>"
      ]
     },
     "execution_count": 10,
     "metadata": {},
     "output_type": "execute_result"
    }
   ],
   "source": [
    "carro_2 = Carro('Vermelho', 'Seat', 'Ibiza', 'Margarida', 5.4, 13000)\n",
    "carro_2"
   ]
  },
  {
   "cell_type": "markdown",
   "metadata": {},
   "source": [
    "Um aparte: podemos usar os **nomes dos parâmetros** na instanciação, para o código ser mais legível"
   ]
  },
  {
   "cell_type": "code",
   "execution_count": 11,
   "metadata": {},
   "outputs": [],
   "source": [
    "carro_3 = Carro(cor='Preto', marca='Fiat', modelo='Punto', dono='Ana', consumo=7, km=10000)"
   ]
  },
  {
   "cell_type": "code",
   "execution_count": 12,
   "metadata": {},
   "outputs": [],
   "source": [
    "carro_4 = Carro(\n",
    "    cor='Preto',\n",
    "    marca='Audi',\n",
    "    modelo='A3',\n",
    "    dono='Júlia',\n",
    "    consumo=10,\n",
    "    km=14000\n",
    ")"
   ]
  },
  {
   "cell_type": "markdown",
   "metadata": {
    "slideshow": {
     "slide_type": "subslide"
    }
   },
   "source": [
    "Para aceder aos atributos e métodos de **objetos** ou **classes** usamos \".\" (ponto):\n",
    "* `objeto.atributo` ou `objeto.metodo`\n",
    "* `classe.atributo` ou `classe.metodo`\n",
    "\n",
    "Também podemos criar funções que recebam uma instância de `Carro` como parâmetro:"
   ]
  },
  {
   "cell_type": "code",
   "execution_count": 13,
   "metadata": {
    "ExecuteTime": {
     "end_time": "2022-03-04T08:25:48.665198Z",
     "start_time": "2022-03-04T08:25:48.647206Z"
    },
    "scrolled": true
   },
   "outputs": [
    {
     "name": "stdout",
     "output_type": "stream",
     "text": [
      "A Claudia tem um Fiat 500 de cor Branco que gasta 6 L/100 Km e tem 20000 Km. \n",
      "    Logo gastou 1200.0 L desde que o comprou.\n",
      "A Margarida tem um Seat Ibiza de cor Vermelho que gasta 5.4 L/100 Km e tem 13000 Km. \n",
      "    Logo gastou 702.0 L desde que o comprou.\n",
      "A Ana tem um Fiat Punto de cor Preto que gasta 7 L/100 Km e tem 10000 Km. \n",
      "    Logo gastou 700.0 L desde que o comprou.\n",
      "A Júlia tem um Audi A3 de cor Preto que gasta 10 L/100 Km e tem 14000 Km. \n",
      "    Logo gastou 1400.0 L desde que o comprou.\n"
     ]
    }
   ],
   "source": [
    "def print_info(carro):\n",
    "    print(f\"\"\"A {carro.dono} tem um {carro.marca} {carro.modelo} de cor {carro.cor} que gasta {carro.consumo} L/100 Km e tem {carro.km} Km. \n",
    "    Logo gastou {carro.km / 100 * carro.consumo} L desde que o comprou.\"\"\")\n",
    "    \n",
    "print_info(carro_1)\n",
    "print_info(carro_2)\n",
    "print_info(carro_3)\n",
    "print_info(carro_4)"
   ]
  },
  {
   "cell_type": "markdown",
   "metadata": {
    "slideshow": {
     "slide_type": "subslide"
    }
   },
   "source": [
    "### Em resumo:\n",
    "* Em Python os novos objetos são criados a partir de classes através de atribuição (instanciação). \n",
    "* Um objeto é uma instância de uma classe, mas possui características próprias. "
   ]
  },
  {
   "cell_type": "markdown",
   "metadata": {
    "slideshow": {
     "slide_type": "slide"
    }
   },
   "source": [
    "## Referências a objetos\n",
    " \n",
    "* O interpretador de Python possui um recurso chamado coletor de lixo (*garbage collector*) que limpa da memória os objetos sem referências. \n",
    "     \n",
    "* Quando um objeto é apagado, o método especial `__del__()` é invocado.\n",
    "\n",
    "    * Podemos programá-lo para libertar recursos adquiridos pela instância da classe, como arquivos abertos ou conexões de rede.\n",
    "\n",
    "* Um objeto existe em memória enquanto existir pelo menos uma variável que o referência.\n",
    "    * Ou seja, podemos ter mais do que uma referência para o mesmo objeto"
   ]
  },
  {
   "cell_type": "code",
   "execution_count": 14,
   "metadata": {
    "ExecuteTime": {
     "end_time": "2022-03-04T08:26:19.259284Z",
     "start_time": "2022-03-04T08:26:19.248040Z"
    },
    "slideshow": {
     "slide_type": "subslide"
    }
   },
   "outputs": [],
   "source": [
    "carro_a = Carro('Branco', 'Fiat', '500', 'Claudia', 6, 20000)\n",
    "carro_b = carro_a "
   ]
  },
  {
   "cell_type": "markdown",
   "metadata": {},
   "source": [
    "`carro_a` e `carro_b` referênciam o mesmo objeto (i.e., têm o mesmo id)"
   ]
  },
  {
   "cell_type": "code",
   "execution_count": 15,
   "metadata": {
    "ExecuteTime": {
     "end_time": "2022-03-04T08:26:20.942390Z",
     "start_time": "2022-03-04T08:26:20.922478Z"
    }
   },
   "outputs": [
    {
     "data": {
      "text/plain": [
       "True"
      ]
     },
     "execution_count": 15,
     "metadata": {},
     "output_type": "execute_result"
    }
   ],
   "source": [
    "id(carro_a) == id(carro_b)"
   ]
  },
  {
   "cell_type": "markdown",
   "metadata": {
    "slideshow": {
     "slide_type": "subslide"
    }
   },
   "source": [
    "Logo, se alterarmos uma propriedade do objeto através de uma das referências"
   ]
  },
  {
   "cell_type": "code",
   "execution_count": 16,
   "metadata": {
    "ExecuteTime": {
     "end_time": "2022-03-04T08:26:22.241061Z",
     "start_time": "2022-03-04T08:26:22.222106Z"
    }
   },
   "outputs": [],
   "source": [
    "carro_a.cor = 'Vermelho'"
   ]
  },
  {
   "cell_type": "markdown",
   "metadata": {},
   "source": [
    "a alteração é visível em todas as outras"
   ]
  },
  {
   "cell_type": "code",
   "execution_count": 17,
   "metadata": {
    "ExecuteTime": {
     "end_time": "2022-03-04T08:26:23.041994Z",
     "start_time": "2022-03-04T08:26:23.026535Z"
    }
   },
   "outputs": [
    {
     "data": {
      "text/plain": [
       "'Vermelho'"
      ]
     },
     "execution_count": 17,
     "metadata": {},
     "output_type": "execute_result"
    }
   ],
   "source": [
    "carro_b.cor"
   ]
  },
  {
   "cell_type": "markdown",
   "metadata": {
    "slideshow": {
     "slide_type": "slide"
    }
   },
   "source": [
    "### Exercício\n",
    "\n",
    "Vá a http://www.pythontutor.com/visualize.html#mode=display\n",
    "\n",
    "Cole o seguinte código e \"visualize a execução\":"
   ]
  },
  {
   "cell_type": "code",
   "execution_count": 18,
   "metadata": {
    "slideshow": {
     "slide_type": "-"
    }
   },
   "outputs": [
    {
     "name": "stdout",
     "output_type": "stream",
     "text": [
      "30000\n"
     ]
    }
   ],
   "source": [
    "class Carro:\n",
    "    def __init__(self, cor, marca, modelo, dono, consumo, km):\n",
    "        self.cor = cor\n",
    "        self.marca = marca\n",
    "        self.modelo = modelo\n",
    "        self.dono = dono\n",
    "        self.consumo = consumo\n",
    "        self.km = km\n",
    "        \n",
    "carro_1 = Carro('Branco', 'Fiat', '500', 'Claudia', 6, 20000)\n",
    "carro_2 = Carro('Vermelho', 'Seat', 'Ibiza', 'Margarida', 5.4, 12000)\n",
    "carro_b = carro_1\n",
    "carro_1.km = 30000\n",
    "print(carro_b.km)"
   ]
  },
  {
   "cell_type": "markdown",
   "metadata": {
    "slideshow": {
     "slide_type": "slide"
    }
   },
   "source": [
    "# O que é um objeto em Python?\n",
    "\n",
    "* **Tudo** é um objeto, mesmo os tipos básicos, como os números inteiros.\n",
    "* Tipos e classes são unificados.\n",
    "* Os operadores (e.g., +, -, ...) são na verdade referências para métodos especiais.\n",
    "* As classes são abertas (menos para os tipos _builtins_)."
   ]
  },
  {
   "cell_type": "code",
   "execution_count": 19,
   "metadata": {
    "ExecuteTime": {
     "end_time": "2022-03-04T08:26:42.431685Z",
     "start_time": "2022-03-04T08:26:42.424106Z"
    },
    "slideshow": {
     "slide_type": "subslide"
    }
   },
   "outputs": [
    {
     "data": {
      "text/plain": [
       "int"
      ]
     },
     "execution_count": 19,
     "metadata": {},
     "output_type": "execute_result"
    }
   ],
   "source": [
    "a = 10\n",
    "type(a)"
   ]
  },
  {
   "cell_type": "markdown",
   "metadata": {
    "ExecuteTime": {
     "end_time": "2020-02-11T15:57:25.651720Z",
     "start_time": "2020-02-11T15:57:25.646728Z"
    },
    "slideshow": {
     "slide_type": "fragment"
    }
   },
   "source": [
    "Quais são os métodos de um inteiro?"
   ]
  },
  {
   "cell_type": "code",
   "execution_count": 20,
   "metadata": {
    "ExecuteTime": {
     "end_time": "2022-03-04T08:26:57.031188Z",
     "start_time": "2022-03-04T08:26:57.021928Z"
    },
    "slideshow": {
     "slide_type": "-"
    }
   },
   "outputs": [
    {
     "name": "stdout",
     "output_type": "stream",
     "text": [
      "['__abs__', '__add__', '__and__', '__bool__', '__ceil__', '__class__', '__delattr__', '__dir__', '__divmod__', '__doc__', '__eq__', '__float__', '__floor__', '__floordiv__', '__format__', '__ge__', '__getattribute__', '__getnewargs__', '__getstate__', '__gt__', '__hash__', '__index__', '__init__', '__init_subclass__', '__int__', '__invert__', '__le__', '__lshift__', '__lt__', '__mod__', '__mul__', '__ne__', '__neg__', '__new__', '__or__', '__pos__', '__pow__', '__radd__', '__rand__', '__rdivmod__', '__reduce__', '__reduce_ex__', '__repr__', '__rfloordiv__', '__rlshift__', '__rmod__', '__rmul__', '__ror__', '__round__', '__rpow__', '__rrshift__', '__rshift__', '__rsub__', '__rtruediv__', '__rxor__', '__setattr__', '__sizeof__', '__str__', '__sub__', '__subclasshook__', '__truediv__', '__trunc__', '__xor__', 'as_integer_ratio', 'bit_count', 'bit_length', 'conjugate', 'denominator', 'from_bytes', 'imag', 'is_integer', 'numerator', 'real', 'to_bytes']\n"
     ]
    }
   ],
   "source": [
    "print(dir(a))"
   ]
  },
  {
   "cell_type": "markdown",
   "metadata": {
    "ExecuteTime": {
     "end_time": "2020-02-11T15:57:48.658515Z",
     "start_time": "2020-02-11T15:57:48.654505Z"
    },
    "slideshow": {
     "slide_type": "subslide"
    }
   },
   "source": [
    "Com a função `help()` podemos saber para que servem"
   ]
  },
  {
   "cell_type": "code",
   "execution_count": 21,
   "metadata": {
    "ExecuteTime": {
     "end_time": "2022-03-04T08:27:50.176269Z",
     "start_time": "2022-03-04T08:27:50.135990Z"
    },
    "slideshow": {
     "slide_type": "-"
    }
   },
   "outputs": [
    {
     "name": "stdout",
     "output_type": "stream",
     "text": [
      "Help on int object:\n",
      "\n",
      "class int(object)\n",
      " |  int([x]) -> integer\n",
      " |  int(x, base=10) -> integer\n",
      " |\n",
      " |  Convert a number or string to an integer, or return 0 if no arguments\n",
      " |  are given.  If x is a number, return x.__int__().  For floating point\n",
      " |  numbers, this truncates towards zero.\n",
      " |\n",
      " |  If x is not a number or if base is given, then x must be a string,\n",
      " |  bytes, or bytearray instance representing an integer literal in the\n",
      " |  given base.  The literal can be preceded by '+' or '-' and be surrounded\n",
      " |  by whitespace.  The base defaults to 10.  Valid bases are 0 and 2-36.\n",
      " |  Base 0 means to interpret the base from the string as an integer literal.\n",
      " |  >>> int('0b100', base=0)\n",
      " |  4\n",
      " |\n",
      " |  Built-in subclasses:\n",
      " |      bool\n",
      " |\n",
      " |  Methods defined here:\n",
      " |\n",
      " |  __abs__(self, /)\n",
      " |      abs(self)\n",
      " |\n",
      " |  __add__(self, value, /)\n",
      " |      Return self+value.\n",
      " |\n",
      " |  __and__(self, value, /)\n",
      " |      Return self&value.\n",
      " |\n",
      " |  __bool__(self, /)\n",
      " |      True if self else False\n",
      " |\n",
      " |  __ceil__(...)\n",
      " |      Ceiling of an Integral returns itself.\n",
      " |\n",
      " |  __divmod__(self, value, /)\n",
      " |      Return divmod(self, value).\n",
      " |\n",
      " |  __eq__(self, value, /)\n",
      " |      Return self==value.\n",
      " |\n",
      " |  __float__(self, /)\n",
      " |      float(self)\n",
      " |\n",
      " |  __floor__(...)\n",
      " |      Flooring an Integral returns itself.\n",
      " |\n",
      " |  __floordiv__(self, value, /)\n",
      " |      Return self//value.\n",
      " |\n",
      " |  __format__(self, format_spec, /)\n",
      " |      Convert to a string according to format_spec.\n",
      " |\n",
      " |  __ge__(self, value, /)\n",
      " |      Return self>=value.\n",
      " |\n",
      " |  __getattribute__(self, name, /)\n",
      " |      Return getattr(self, name).\n",
      " |\n",
      " |  __getnewargs__(self, /)\n",
      " |\n",
      " |  __gt__(self, value, /)\n",
      " |      Return self>value.\n",
      " |\n",
      " |  __hash__(self, /)\n",
      " |      Return hash(self).\n",
      " |\n",
      " |  __index__(self, /)\n",
      " |      Return self converted to an integer, if self is suitable for use as an index into a list.\n",
      " |\n",
      " |  __int__(self, /)\n",
      " |      int(self)\n",
      " |\n",
      " |  __invert__(self, /)\n",
      " |      ~self\n",
      " |\n",
      " |  __le__(self, value, /)\n",
      " |      Return self<=value.\n",
      " |\n",
      " |  __lshift__(self, value, /)\n",
      " |      Return self<<value.\n",
      " |\n",
      " |  __lt__(self, value, /)\n",
      " |      Return self<value.\n",
      " |\n",
      " |  __mod__(self, value, /)\n",
      " |      Return self%value.\n",
      " |\n",
      " |  __mul__(self, value, /)\n",
      " |      Return self*value.\n",
      " |\n",
      " |  __ne__(self, value, /)\n",
      " |      Return self!=value.\n",
      " |\n",
      " |  __neg__(self, /)\n",
      " |      -self\n",
      " |\n",
      " |  __or__(self, value, /)\n",
      " |      Return self|value.\n",
      " |\n",
      " |  __pos__(self, /)\n",
      " |      +self\n",
      " |\n",
      " |  __pow__(self, value, mod=None, /)\n",
      " |      Return pow(self, value, mod).\n",
      " |\n",
      " |  __radd__(self, value, /)\n",
      " |      Return value+self.\n",
      " |\n",
      " |  __rand__(self, value, /)\n",
      " |      Return value&self.\n",
      " |\n",
      " |  __rdivmod__(self, value, /)\n",
      " |      Return divmod(value, self).\n",
      " |\n",
      " |  __repr__(self, /)\n",
      " |      Return repr(self).\n",
      " |\n",
      " |  __rfloordiv__(self, value, /)\n",
      " |      Return value//self.\n",
      " |\n",
      " |  __rlshift__(self, value, /)\n",
      " |      Return value<<self.\n",
      " |\n",
      " |  __rmod__(self, value, /)\n",
      " |      Return value%self.\n",
      " |\n",
      " |  __rmul__(self, value, /)\n",
      " |      Return value*self.\n",
      " |\n",
      " |  __ror__(self, value, /)\n",
      " |      Return value|self.\n",
      " |\n",
      " |  __round__(...)\n",
      " |      Rounding an Integral returns itself.\n",
      " |\n",
      " |      Rounding with an ndigits argument also returns an integer.\n",
      " |\n",
      " |  __rpow__(self, value, mod=None, /)\n",
      " |      Return pow(value, self, mod).\n",
      " |\n",
      " |  __rrshift__(self, value, /)\n",
      " |      Return value>>self.\n",
      " |\n",
      " |  __rshift__(self, value, /)\n",
      " |      Return self>>value.\n",
      " |\n",
      " |  __rsub__(self, value, /)\n",
      " |      Return value-self.\n",
      " |\n",
      " |  __rtruediv__(self, value, /)\n",
      " |      Return value/self.\n",
      " |\n",
      " |  __rxor__(self, value, /)\n",
      " |      Return value^self.\n",
      " |\n",
      " |  __sizeof__(self, /)\n",
      " |      Returns size in memory, in bytes.\n",
      " |\n",
      " |  __sub__(self, value, /)\n",
      " |      Return self-value.\n",
      " |\n",
      " |  __truediv__(self, value, /)\n",
      " |      Return self/value.\n",
      " |\n",
      " |  __trunc__(...)\n",
      " |      Truncating an Integral returns itself.\n",
      " |\n",
      " |  __xor__(self, value, /)\n",
      " |      Return self^value.\n",
      " |\n",
      " |  as_integer_ratio(self, /)\n",
      " |      Return a pair of integers, whose ratio is equal to the original int.\n",
      " |\n",
      " |      The ratio is in lowest terms and has a positive denominator.\n",
      " |\n",
      " |      >>> (10).as_integer_ratio()\n",
      " |      (10, 1)\n",
      " |      >>> (-10).as_integer_ratio()\n",
      " |      (-10, 1)\n",
      " |      >>> (0).as_integer_ratio()\n",
      " |      (0, 1)\n",
      " |\n",
      " |  bit_count(self, /)\n",
      " |      Number of ones in the binary representation of the absolute value of self.\n",
      " |\n",
      " |      Also known as the population count.\n",
      " |\n",
      " |      >>> bin(13)\n",
      " |      '0b1101'\n",
      " |      >>> (13).bit_count()\n",
      " |      3\n",
      " |\n",
      " |  bit_length(self, /)\n",
      " |      Number of bits necessary to represent self in binary.\n",
      " |\n",
      " |      >>> bin(37)\n",
      " |      '0b100101'\n",
      " |      >>> (37).bit_length()\n",
      " |      6\n",
      " |\n",
      " |  conjugate(...)\n",
      " |      Returns self, the complex conjugate of any int.\n",
      " |\n",
      " |  is_integer(self, /)\n",
      " |      Returns True. Exists for duck type compatibility with float.is_integer.\n",
      " |\n",
      " |  to_bytes(self, /, length=1, byteorder='big', *, signed=False)\n",
      " |      Return an array of bytes representing an integer.\n",
      " |\n",
      " |      length\n",
      " |        Length of bytes object to use.  An OverflowError is raised if the\n",
      " |        integer is not representable with the given number of bytes.  Default\n",
      " |        is length 1.\n",
      " |      byteorder\n",
      " |        The byte order used to represent the integer.  If byteorder is 'big',\n",
      " |        the most significant byte is at the beginning of the byte array.  If\n",
      " |        byteorder is 'little', the most significant byte is at the end of the\n",
      " |        byte array.  To request the native byte order of the host system, use\n",
      " |        `sys.byteorder' as the byte order value.  Default is to use 'big'.\n",
      " |      signed\n",
      " |        Determines whether two's complement is used to represent the integer.\n",
      " |        If signed is False and a negative integer is given, an OverflowError\n",
      " |        is raised.\n",
      " |\n",
      " |  ----------------------------------------------------------------------\n",
      " |  Class methods defined here:\n",
      " |\n",
      " |  from_bytes(bytes, byteorder='big', *, signed=False) from builtins.type\n",
      " |      Return the integer represented by the given array of bytes.\n",
      " |\n",
      " |      bytes\n",
      " |        Holds the array of bytes to convert.  The argument must either\n",
      " |        support the buffer protocol or be an iterable object producing bytes.\n",
      " |        Bytes and bytearray are examples of built-in objects that support the\n",
      " |        buffer protocol.\n",
      " |      byteorder\n",
      " |        The byte order used to represent the integer.  If byteorder is 'big',\n",
      " |        the most significant byte is at the beginning of the byte array.  If\n",
      " |        byteorder is 'little', the most significant byte is at the end of the\n",
      " |        byte array.  To request the native byte order of the host system, use\n",
      " |        `sys.byteorder' as the byte order value.  Default is to use 'big'.\n",
      " |      signed\n",
      " |        Indicates whether two's complement is used to represent the integer.\n",
      " |\n",
      " |  ----------------------------------------------------------------------\n",
      " |  Static methods defined here:\n",
      " |\n",
      " |  __new__(*args, **kwargs) from builtins.type\n",
      " |      Create and return a new object.  See help(type) for accurate signature.\n",
      " |\n",
      " |  ----------------------------------------------------------------------\n",
      " |  Data descriptors defined here:\n",
      " |\n",
      " |  denominator\n",
      " |      the denominator of a rational number in lowest terms\n",
      " |\n",
      " |  imag\n",
      " |      the imaginary part of a complex number\n",
      " |\n",
      " |  numerator\n",
      " |      the numerator of a rational number in lowest terms\n",
      " |\n",
      " |  real\n",
      " |      the real part of a complex number\n",
      "\n"
     ]
    }
   ],
   "source": [
    "help(a)"
   ]
  },
  {
   "cell_type": "markdown",
   "metadata": {
    "slideshow": {
     "slide_type": "subslide"
    }
   },
   "source": [
    "Também os podemos chamar diretamente"
   ]
  },
  {
   "cell_type": "code",
   "execution_count": 22,
   "metadata": {
    "ExecuteTime": {
     "end_time": "2022-03-04T08:28:50.785743Z",
     "start_time": "2022-03-04T08:28:50.770784Z"
    },
    "slideshow": {
     "slide_type": "-"
    }
   },
   "outputs": [
    {
     "data": {
      "text/plain": [
       "1000"
      ]
     },
     "execution_count": 22,
     "metadata": {},
     "output_type": "execute_result"
    }
   ],
   "source": [
    "a.__pow__(3)  # a ao cubo, equivalente a a**3"
   ]
  },
  {
   "cell_type": "code",
   "execution_count": 23,
   "metadata": {
    "slideshow": {
     "slide_type": "-"
    }
   },
   "outputs": [
    {
     "data": {
      "text/plain": [
       "1000"
      ]
     },
     "execution_count": 23,
     "metadata": {},
     "output_type": "execute_result"
    }
   ],
   "source": [
    "a**3"
   ]
  },
  {
   "cell_type": "markdown",
   "metadata": {
    "slideshow": {
     "slide_type": "slide"
    }
   },
   "source": [
    "## Métodos\n",
    "Além de atributos podemos definir comportamentos comuns aos objetos da classe `Carro`, declarando funções a que chamamos *métodos*:\n",
    "* Os métodos recebem argumentos/parâmetros\n",
    "* Podemos ainda definir variáveis locais dentro do método. \n",
    "* Tanto as variáveis definidas nos métodos como os argumentos têm âmbito/_scope_ que se restringe ao método. \n",
    "* De uma forma geral (e veremos que há exceções), os métodos de uma classe têm como primeiro argumento o `self`, que é uma referência ao próprio objeto.\n",
    "    * Através do `self` é possível aceder aos atributos e outros métodos do objecto.\n",
    "        "
   ]
  },
  {
   "cell_type": "code",
   "execution_count": 24,
   "metadata": {
    "ExecuteTime": {
     "end_time": "2022-03-04T08:31:56.002551Z",
     "start_time": "2022-03-04T08:31:55.993600Z"
    },
    "slideshow": {
     "slide_type": "subslide"
    }
   },
   "outputs": [],
   "source": [
    "class Carro:\n",
    "    def __init__(self, cor, marca, modelo, dono, consumo, kms):\n",
    "        self.cor = cor\n",
    "        self.marca = marca\n",
    "        self.modelo = modelo\n",
    "        self.dono = dono\n",
    "        self.consumo = consumo\n",
    "        self.kms = kms\n",
    "    \n",
    "    def print_info(self):\n",
    "        print(f\"A {self.dono} tem um {self.marca} {self.modelo} de cor {self.cor} que gasta {self.consumo} L/100 Km e tem {self.kms} Km. \" + \n",
    "              f\"Logo gastou {self.kms / 100 * self.consumo} L desde que o comprou.\")"
   ]
  },
  {
   "cell_type": "code",
   "execution_count": 25,
   "metadata": {
    "ExecuteTime": {
     "end_time": "2022-03-04T08:31:56.972742Z",
     "start_time": "2022-03-04T08:31:56.967814Z"
    },
    "slideshow": {
     "slide_type": "subslide"
    }
   },
   "outputs": [],
   "source": [
    "carro_a = Carro('Branco', 'Fiat', '500', 'Claudia', 6, 20000)"
   ]
  },
  {
   "cell_type": "markdown",
   "metadata": {
    "slideshow": {
     "slide_type": "fragment"
    }
   },
   "source": [
    "Para invocar o método `print_info()` do objeto `carro_a`, usamos o \".\" (ponto)"
   ]
  },
  {
   "cell_type": "code",
   "execution_count": 26,
   "metadata": {
    "ExecuteTime": {
     "end_time": "2022-03-04T08:31:57.860917Z",
     "start_time": "2022-03-04T08:31:57.597853Z"
    },
    "slideshow": {
     "slide_type": "-"
    }
   },
   "outputs": [
    {
     "name": "stdout",
     "output_type": "stream",
     "text": [
      "A Claudia tem um Fiat 500 de cor Branco que gasta 6 L/100 Km e tem 20000 Km. Logo gastou 1200.0 L desde que o comprou.\n"
     ]
    }
   ],
   "source": [
    "carro_a.print_info()"
   ]
  },
  {
   "cell_type": "markdown",
   "metadata": {
    "slideshow": {
     "slide_type": "slide"
    },
    "solution": "hidden",
    "solution2": "hidden",
    "solution2_first": true,
    "solution_first": true
   },
   "source": [
    "### Exercício\n",
    "Implemente na classe Carro um método que calcula e devolve o consumo médio total do Carro desde que foi comprado"
   ]
  },
  {
   "cell_type": "code",
   "execution_count": 27,
   "metadata": {
    "slideshow": {
     "slide_type": "-"
    },
    "solution": "hidden",
    "solution2": "hidden"
   },
   "outputs": [
    {
     "data": {
      "text/plain": [
       "1200.0"
      ]
     },
     "execution_count": 27,
     "metadata": {},
     "output_type": "execute_result"
    }
   ],
   "source": [
    "class Carro:\n",
    "    def __init__(self, cor, marca, modelo, dono, consumo, kms):\n",
    "        self.cor = cor\n",
    "        self.marca = marca\n",
    "        self.modelo = modelo\n",
    "        self.dono = dono\n",
    "        self.consumo = consumo\n",
    "        self.kms = kms\n",
    "    \n",
    "    def print_info(self):\n",
    "        print(f\"A {self.dono} tem um {self.marca} {self.modelo} de cor {self.cor} que gasta {self.consumo} L/100 Km e tem {self.kms} Km. \" + \n",
    "              f\"Logo gastou {self.kms / 100 * self.consumo} L desde que o comprou.\")\n",
    "        \n",
    "    def consumo_total(self):\n",
    "        return self.consumo * self.kms / 100\n",
    "\n",
    "carro_a = Carro('Branca', 'Fiat', '500', 'Claudia', 6, 20000)\n",
    "\n",
    "carro_a.consumo_total()"
   ]
  }
 ],
 "metadata": {
  "celltoolbar": "Slideshow",
  "kernelspec": {
   "display_name": "Python 3 (ipykernel)",
   "language": "python",
   "name": "python3"
  },
  "language_info": {
   "codemirror_mode": {
    "name": "ipython",
    "version": 3
   },
   "file_extension": ".py",
   "mimetype": "text/x-python",
   "name": "python",
   "nbconvert_exporter": "python",
   "pygments_lexer": "ipython3",
   "version": "3.12.1"
  },
  "latex_envs": {
   "LaTeX_envs_menu_present": true,
   "autoclose": false,
   "autocomplete": true,
   "bibliofile": "biblio.bib",
   "cite_by": "apalike",
   "current_citInitial": 1,
   "eqLabelWithNumbers": true,
   "eqNumInitial": 1,
   "hotkeys": {
    "equation": "Ctrl-E",
    "itemize": "Ctrl-I"
   },
   "labels_anchors": false,
   "latex_user_defs": false,
   "report_style_numbering": true,
   "user_envs_cfg": true
  },
  "nbTranslate": {
   "displayLangs": [
    "*"
   ],
   "hotkey": "alt-t",
   "langInMainMenu": true,
   "sourceLang": "en",
   "targetLang": "fr",
   "useGoogleTranslate": true
  },
  "toc": {
   "base_numbering": 1,
   "nav_menu": {},
   "number_sections": true,
   "sideBar": true,
   "skip_h1_title": false,
   "title_cell": "Table of Contents",
   "title_sidebar": "Contents",
   "toc_cell": false,
   "toc_position": {
    "height": "calc(100% - 180px)",
    "left": "10px",
    "top": "150px",
    "width": "165px"
   },
   "toc_section_display": true,
   "toc_window_display": false
  },
  "varInspector": {
   "cols": {
    "lenName": 16,
    "lenType": 16,
    "lenVar": 40
   },
   "kernels_config": {
    "python": {
     "delete_cmd_postfix": "",
     "delete_cmd_prefix": "del ",
     "library": "var_list.py",
     "varRefreshCmd": "print(var_dic_list())"
    },
    "r": {
     "delete_cmd_postfix": ") ",
     "delete_cmd_prefix": "rm(",
     "library": "var_list.r",
     "varRefreshCmd": "cat(var_dic_list()) "
    }
   },
   "types_to_exclude": [
    "module",
    "function",
    "builtin_function_or_method",
    "instance",
    "_Feature"
   ],
   "window_display": false
  },
  "vscode": {
   "interpreter": {
    "hash": "1a5c2acd6c908f8ed8bed28682f341c5289030a6eeb597e27b96425e47eef291"
   }
  }
 },
 "nbformat": 4,
 "nbformat_minor": 4
}
