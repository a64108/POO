{
 "cells": [
  {
   "cell_type": "markdown",
   "metadata": {
    "slideshow": {
     "slide_type": "slide"
    }
   },
   "source": [
    "# Introdução à Programação Orientada a Objetos (POO)\n",
    "## Tema 2\n",
    "### Parte II - Encapsulamento\n",
    "Jaime A. Martins\n",
    "\n",
    "(CEOT/ISE/UAlg - jamartins@ualg.pt)"
   ]
  },
  {
   "cell_type": "markdown",
   "metadata": {
    "slideshow": {
     "slide_type": "skip"
    }
   },
   "source": [
    "###### Autores: Jaime Martins [v2]; Pedro Cardoso [v1]"
   ]
  },
  {
   "cell_type": "markdown",
   "metadata": {
    "slideshow": {
     "slide_type": "slide"
    },
    "solution": "hidden"
   },
   "source": [
    "## Encapsulamento\n",
    "* Em Python NÃO existem variáveis e métodos **protegidos** ou **privados**\n",
    " \n",
    "* Para simular atributos/métodos **protegidos** é usada uma convenção:\n",
    "    * Nomes que comecem com _underscore_ (\"_\").\n",
    "\n",
    "* Para simular atributos/métodos **privados** o Python faz *Name Mangling*:\n",
    "    * Nos nomes que começam com dois _underscores_ (\"__\"), durante a execução é acrescentado um prefixo _underscore_ mais o nome da classe.\n",
    "    * Por exemplo, `__privado` passa automaticamente a ser `_NomeDaClasse__privado` durante a execução.\n",
    "        "
   ]
  },
  {
   "cell_type": "code",
   "execution_count": 1,
   "metadata": {
    "ExecuteTime": {
     "end_time": "2022-03-04T08:34:51.611444Z",
     "start_time": "2022-03-04T08:34:51.594948Z"
    },
    "slideshow": {
     "slide_type": "subslide"
    }
   },
   "outputs": [],
   "source": [
    "class Carro:\n",
    "    def __init__(self, cor, marca, modelo, dono, consumo, kms):\n",
    "        self._cor = cor           # Atributo protegido... nao devemos aceder diretamente ao atributo \n",
    "        self._marca = marca       # Idem ...\n",
    "        self._modelo = modelo\n",
    "        self._dono = dono\n",
    "        self._consumo = consumo\n",
    "        self._kms = kms\n",
    "        self.__atributo_quase_privado = \"Não mexer!!!\"\n",
    "\n",
    "    def __str__(self): # __str__ é um método especial que é chamado quando se faz print(objeto)\n",
    "        return f\"O/A {self._dono} tem um {self._marca} {self._modelo} de cor {self._cor} que gasta {self._consumo} L/100 Km e tem {self._kms} Km. \" + \\\n",
    "               f\"Logo gastou {self._kms / 100 * self._consumo} L desde que o comprou.\"\n",
    "\n",
    "    def __metodo_quase_privado(self):\n",
    "        return 'Nao é fácil chegar aqui!'\n",
    "\n",
    "    def print_info(self):\n",
    "        print(self)   # vai chamar __str__()"
   ]
  },
  {
   "cell_type": "markdown",
   "metadata": {
    "slideshow": {
     "slide_type": "subslide"
    }
   },
   "source": [
    "Vejamos quais são os métodos que a classe `Carro` tem "
   ]
  },
  {
   "cell_type": "code",
   "execution_count": 2,
   "metadata": {
    "ExecuteTime": {
     "end_time": "2022-03-04T08:34:52.175713Z",
     "start_time": "2022-03-04T08:34:52.167735Z"
    },
    "slideshow": {
     "slide_type": "-"
    }
   },
   "outputs": [
    {
     "data": {
      "text/plain": [
       "['_Carro__metodo_quase_privado',\n",
       " '__class__',\n",
       " '__delattr__',\n",
       " '__dict__',\n",
       " '__dir__',\n",
       " '__doc__',\n",
       " '__eq__',\n",
       " '__format__',\n",
       " '__ge__',\n",
       " '__getattribute__',\n",
       " '__getstate__',\n",
       " '__gt__',\n",
       " '__hash__',\n",
       " '__init__',\n",
       " '__init_subclass__',\n",
       " '__le__',\n",
       " '__lt__',\n",
       " '__module__',\n",
       " '__ne__',\n",
       " '__new__',\n",
       " '__reduce__',\n",
       " '__reduce_ex__',\n",
       " '__repr__',\n",
       " '__setattr__',\n",
       " '__sizeof__',\n",
       " '__str__',\n",
       " '__subclasshook__',\n",
       " '__weakref__',\n",
       " 'print_info']"
      ]
     },
     "execution_count": 2,
     "metadata": {},
     "output_type": "execute_result"
    }
   ],
   "source": [
    "dir(Carro)  # repare no _Carro__metodo_quase_privado'"
   ]
  },
  {
   "cell_type": "markdown",
   "metadata": {
    "slideshow": {
     "slide_type": "subslide"
    }
   },
   "source": [
    "Podemos sempre aceder a todos os atributos e métodos (**privados** ou **protegidos**) mas devemos ter cuidado. A ideia é sermos responsáveis com o que estamos a programar."
   ]
  },
  {
   "cell_type": "code",
   "execution_count": 3,
   "metadata": {
    "ExecuteTime": {
     "end_time": "2022-03-04T08:34:52.880904Z",
     "start_time": "2022-03-04T08:34:52.871864Z"
    },
    "slideshow": {
     "slide_type": "-"
    }
   },
   "outputs": [
    {
     "name": "stdout",
     "output_type": "stream",
     "text": [
      "O/A Claudia tem um Fiat 500 de cor vermelho que gasta 6 L/100 Km e tem 20000 Km. Logo gastou 1200.0 L desde que o comprou.\n"
     ]
    }
   ],
   "source": [
    "carro1 = Carro('vermelho', 'Fiat', '500', 'Claudia', 6, 20000)\n",
    "\n",
    "print(carro1) # o \"mesmo que\" print(carro1.__str__())"
   ]
  },
  {
   "cell_type": "code",
   "execution_count": 4,
   "metadata": {
    "ExecuteTime": {
     "end_time": "2022-03-04T08:34:53.334578Z",
     "start_time": "2022-03-04T08:34:53.317575Z"
    },
    "slideshow": {
     "slide_type": "fragment"
    }
   },
   "outputs": [
    {
     "name": "stdout",
     "output_type": "stream",
     "text": [
      "O/A Claudia tem um Fiat 500 de cor vermelho que gasta 6 L/100 Km e tem 20000 Km. Logo gastou 1200.0 L desde que o comprou.\n"
     ]
    }
   ],
   "source": [
    "carro1.print_info()"
   ]
  },
  {
   "cell_type": "markdown",
   "metadata": {
    "slideshow": {
     "slide_type": "subslide"
    }
   },
   "source": [
    "Não devemos aceder a um atributo **protegido**"
   ]
  },
  {
   "cell_type": "code",
   "execution_count": 5,
   "metadata": {
    "ExecuteTime": {
     "end_time": "2022-03-04T08:34:54.264513Z",
     "start_time": "2022-03-04T08:34:54.243799Z"
    },
    "slideshow": {
     "slide_type": "-"
    }
   },
   "outputs": [
    {
     "data": {
      "text/plain": [
       "'vermelho'"
      ]
     },
     "execution_count": 5,
     "metadata": {},
     "output_type": "execute_result"
    }
   ],
   "source": [
    "carro1._cor"
   ]
  },
  {
   "cell_type": "markdown",
   "metadata": {
    "slideshow": {
     "slide_type": "fragment"
    }
   },
   "source": [
    "E muito menos aceder a atributos ou métodos **privados**"
   ]
  },
  {
   "cell_type": "code",
   "execution_count": 6,
   "metadata": {
    "slideshow": {
     "slide_type": "-"
    }
   },
   "outputs": [
    {
     "data": {
      "text/plain": [
       "'Não mexer!!!'"
      ]
     },
     "execution_count": 6,
     "metadata": {},
     "output_type": "execute_result"
    }
   ],
   "source": [
    "carro1._Carro__atributo_quase_privado"
   ]
  },
  {
   "cell_type": "code",
   "execution_count": 7,
   "metadata": {
    "ExecuteTime": {
     "end_time": "2022-03-04T08:34:54.779816Z",
     "start_time": "2022-03-04T08:34:54.768846Z"
    },
    "slideshow": {
     "slide_type": "-"
    }
   },
   "outputs": [
    {
     "data": {
      "text/plain": [
       "'Nao é fácil chegar aqui!'"
      ]
     },
     "execution_count": 7,
     "metadata": {},
     "output_type": "execute_result"
    }
   ],
   "source": [
    "# carro1.__metodo_quase_privado() não existe\n",
    "carro1._Carro__metodo_quase_privado()"
   ]
  },
  {
   "cell_type": "markdown",
   "metadata": {
    "slideshow": {
     "slide_type": "slide"
    }
   },
   "source": [
    "### *Getters* e *setters*\n",
    "\n",
    "Para aceder às variáveis \"protegidas\"/\"privadas\" usam-se em muitas linguagens *getters* e *setters*. Em Python usamos *properties* para os declarar:"
   ]
  },
  {
   "cell_type": "code",
   "execution_count": 8,
   "metadata": {
    "ExecuteTime": {
     "end_time": "2022-03-04T08:35:46.142128Z",
     "start_time": "2022-03-04T08:35:46.120536Z"
    },
    "slideshow": {
     "slide_type": "subslide"
    }
   },
   "outputs": [],
   "source": [
    "class Carro:\n",
    "    \"\"\"Classe para representar um carro.\n",
    "\n",
    "    Atributos:\n",
    "        cor (str): a cor do carro.\n",
    "        marca (str): a marca do carro.\n",
    "    \"\"\"\n",
    "    def __init__(self, cor, marca):\n",
    "        self.cor = cor\n",
    "        self.marca = marca  \n",
    "\n",
    "    def get_cor(self):\n",
    "        \"\"\"Retorna a cor do carro.\"\"\"\n",
    "        return self.__cor\n",
    "\n",
    "    def set_cor(self, cor):\n",
    "        \"\"\"Define a cor do carro.\"\"\"\n",
    "        if cor.lower() in [\"vermelho\", \"branco\", \"amarelo\"]:\n",
    "            print(\"Cor válida\")\n",
    "            self.__cor = cor\n",
    "        else:\n",
    "            print(\"Cor inválida\")\n",
    "            raise\n",
    "\n",
    "    def get_marca(self):\n",
    "        \"\"\"Retorna a marca do carro.\"\"\"\n",
    "        return self.__marca\n",
    "\n",
    "    def set_marca(self, marca):\n",
    "        \"\"\"Define a marca do carro.\"\"\"\n",
    "        if marca.lower() in [\"audi\", \"fiat\", \"seat\", \"ferrari\"]:\n",
    "            self.__marca = marca\n",
    "        else:\n",
    "            raise\n",
    "\n",
    "    cor = property(get_cor, set_cor)\n",
    "    marca = property(get_marca, set_marca)"
   ]
  },
  {
   "cell_type": "markdown",
   "metadata": {
    "slideshow": {
     "slide_type": "subslide"
    }
   },
   "source": [
    "Em síntese, dentro da classe `Carro` temos métodos... "
   ]
  },
  {
   "cell_type": "code",
   "execution_count": 9,
   "metadata": {
    "ExecuteTime": {
     "end_time": "2022-03-04T08:36:09.870934Z",
     "start_time": "2022-03-04T08:36:09.866843Z"
    },
    "slideshow": {
     "slide_type": "-"
    }
   },
   "outputs": [
    {
     "name": "stdout",
     "output_type": "stream",
     "text": [
      "['__class__', '__delattr__', '__dict__', '__dir__', '__doc__', '__eq__', '__format__', '__ge__', '__getattribute__', '__getstate__', '__gt__', '__hash__', '__init__', '__init_subclass__', '__le__', '__lt__', '__module__', '__ne__', '__new__', '__reduce__', '__reduce_ex__', '__repr__', '__setattr__', '__sizeof__', '__str__', '__subclasshook__', '__weakref__', 'cor', 'get_cor', 'get_marca', 'marca', 'set_cor', 'set_marca']\n"
     ]
    }
   ],
   "source": [
    "print(dir(Carro))"
   ]
  },
  {
   "cell_type": "markdown",
   "metadata": {
    "slideshow": {
     "slide_type": "fragment"
    }
   },
   "source": [
    "... e agora **propriedades** (com *getters* e *setters*)"
   ]
  },
  {
   "cell_type": "code",
   "execution_count": 10,
   "metadata": {
    "ExecuteTime": {
     "end_time": "2022-03-04T08:36:16.464215Z",
     "start_time": "2022-03-04T08:36:16.445227Z"
    },
    "slideshow": {
     "slide_type": "-"
    }
   },
   "outputs": [
    {
     "data": {
      "text/plain": [
       "property"
      ]
     },
     "execution_count": 10,
     "metadata": {},
     "output_type": "execute_result"
    }
   ],
   "source": [
    "type(Carro.cor)"
   ]
  },
  {
   "cell_type": "markdown",
   "metadata": {
    "slideshow": {
     "slide_type": "fragment"
    }
   },
   "source": [
    "que podem estar documentadas (docstring do *getter*)"
   ]
  },
  {
   "cell_type": "code",
   "execution_count": 11,
   "metadata": {
    "slideshow": {
     "slide_type": "-"
    }
   },
   "outputs": [
    {
     "data": {
      "text/plain": [
       "'Retorna a cor do carro.'"
      ]
     },
     "execution_count": 11,
     "metadata": {},
     "output_type": "execute_result"
    }
   ],
   "source": [
    "Carro.cor.__doc__"
   ]
  },
  {
   "cell_type": "markdown",
   "metadata": {
    "slideshow": {
     "slide_type": "subslide"
    }
   },
   "source": [
    "E se instanciamos um `Carro` podemos ver o `print(\"Cor válida\")` do *setter*"
   ]
  },
  {
   "cell_type": "code",
   "execution_count": 12,
   "metadata": {
    "ExecuteTime": {
     "end_time": "2022-03-04T08:36:19.429205Z",
     "start_time": "2022-03-04T08:36:19.418954Z"
    },
    "slideshow": {
     "slide_type": "-"
    }
   },
   "outputs": [
    {
     "name": "stdout",
     "output_type": "stream",
     "text": [
      "Cor válida\n"
     ]
    }
   ],
   "source": [
    "c1 = Carro(cor='vermelho', marca='Fiat')"
   ]
  },
  {
   "cell_type": "markdown",
   "metadata": {
    "slideshow": {
     "slide_type": "subslide"
    }
   },
   "source": [
    "Também podemos ver a documentação dos objetos"
   ]
  },
  {
   "cell_type": "code",
   "execution_count": 13,
   "metadata": {
    "slideshow": {
     "slide_type": "-"
    }
   },
   "outputs": [
    {
     "name": "stdout",
     "output_type": "stream",
     "text": [
      "Help on Carro in module __main__ object:\n",
      "\n",
      "class Carro(builtins.object)\n",
      " |  Carro(cor, marca)\n",
      " |\n",
      " |  Classe para representar um carro.\n",
      " |\n",
      " |  Atributos:\n",
      " |      cor (str): a cor do carro.\n",
      " |      marca (str): a marca do carro.\n",
      " |\n",
      " |  Methods defined here:\n",
      " |\n",
      " |  __init__(self, cor, marca)\n",
      " |      Initialize self.  See help(type(self)) for accurate signature.\n",
      " |\n",
      " |  get_cor(self)\n",
      " |      Retorna a cor do carro.\n",
      " |\n",
      " |  get_marca(self)\n",
      " |      Retorna a marca do carro.\n",
      " |\n",
      " |  set_cor(self, cor)\n",
      " |      Define a cor do carro.\n",
      " |\n",
      " |  set_marca(self, marca)\n",
      " |      Define a marca do carro.\n",
      " |\n",
      " |  ----------------------------------------------------------------------\n",
      " |  Data descriptors defined here:\n",
      " |\n",
      " |  __dict__\n",
      " |      dictionary for instance variables\n",
      " |\n",
      " |  __weakref__\n",
      " |      list of weak references to the object\n",
      " |\n",
      " |  cor\n",
      " |      Retorna a cor do carro.\n",
      " |\n",
      " |  marca\n",
      " |      Retorna a marca do carro.\n",
      "\n"
     ]
    }
   ],
   "source": [
    "help(c1)"
   ]
  },
  {
   "cell_type": "markdown",
   "metadata": {
    "slideshow": {
     "slide_type": "subslide"
    }
   },
   "source": [
    "Pela forma como definimos a classe, vamos ter atributos _mangled_ (`'_Carro__cor', '_Carro__marca'`)"
   ]
  },
  {
   "cell_type": "code",
   "execution_count": 14,
   "metadata": {
    "ExecuteTime": {
     "end_time": "2022-03-04T08:36:21.423958Z",
     "start_time": "2022-03-04T08:36:21.417009Z"
    },
    "slideshow": {
     "slide_type": "-"
    }
   },
   "outputs": [
    {
     "name": "stdout",
     "output_type": "stream",
     "text": [
      "['_Carro__cor', '_Carro__marca', '__class__', '__delattr__', '__dict__', '__dir__', '__doc__', '__eq__', '__format__', '__ge__', '__getattribute__', '__getstate__', '__gt__', '__hash__', '__init__', '__init_subclass__', '__le__', '__lt__', '__module__', '__ne__', '__new__', '__reduce__', '__reduce_ex__', '__repr__', '__setattr__', '__sizeof__', '__str__', '__subclasshook__', '__weakref__', 'cor', 'get_cor', 'get_marca', 'marca', 'set_cor', 'set_marca']\n"
     ]
    }
   ],
   "source": [
    "print(dir(c1))"
   ]
  },
  {
   "cell_type": "markdown",
   "metadata": {
    "slideshow": {
     "slide_type": "subslide"
    }
   },
   "source": [
    "Se quisermos redefenir a cor podemos usar a **property** ou aceder diretamente ao setter"
   ]
  },
  {
   "cell_type": "code",
   "execution_count": 15,
   "metadata": {
    "ExecuteTime": {
     "end_time": "2022-03-04T08:37:01.224907Z",
     "start_time": "2022-03-04T08:37:01.219775Z"
    },
    "slideshow": {
     "slide_type": "-"
    }
   },
   "outputs": [
    {
     "name": "stdout",
     "output_type": "stream",
     "text": [
      "Cor válida\n",
      "Cor válida\n"
     ]
    }
   ],
   "source": [
    "c1.cor = 'branco' # ok!\n",
    "c1.set_cor('branco') # ok!"
   ]
  },
  {
   "cell_type": "markdown",
   "metadata": {
    "slideshow": {
     "slide_type": "fragment"
    }
   },
   "source": [
    "do mesmo modo podemos aceder ao valor da `cor`, que irá automaticamente chamar o *getter* `get_cor()`"
   ]
  },
  {
   "cell_type": "code",
   "execution_count": 16,
   "metadata": {
    "ExecuteTime": {
     "end_time": "2022-03-04T08:37:03.861475Z",
     "start_time": "2022-03-04T08:37:03.844074Z"
    },
    "slideshow": {
     "slide_type": "-"
    }
   },
   "outputs": [
    {
     "data": {
      "text/plain": [
       "'branco'"
      ]
     },
     "execution_count": 16,
     "metadata": {},
     "output_type": "execute_result"
    }
   ],
   "source": [
    "c1.cor"
   ]
  },
  {
   "cell_type": "code",
   "execution_count": 17,
   "metadata": {
    "slideshow": {
     "slide_type": "-"
    }
   },
   "outputs": [
    {
     "data": {
      "text/plain": [
       "'branco'"
      ]
     },
     "execution_count": 17,
     "metadata": {},
     "output_type": "execute_result"
    }
   ],
   "source": [
    "c1.get_cor()"
   ]
  },
  {
   "cell_type": "markdown",
   "metadata": {
    "slideshow": {
     "slide_type": "subslide"
    }
   },
   "source": [
    "Uma das principais vantagens de usar *setters* é podemos validar as entradas.\n",
    "\n",
    "No caso da cor:"
   ]
  },
  {
   "cell_type": "code",
   "execution_count": 18,
   "metadata": {
    "ExecuteTime": {
     "end_time": "2022-03-04T08:37:10.927919Z",
     "start_time": "2022-03-04T08:37:10.919436Z"
    }
   },
   "outputs": [
    {
     "name": "stdout",
     "output_type": "stream",
     "text": [
      "Cor inválida\n",
      "Erro: essa cor nao é válida\n"
     ]
    }
   ],
   "source": [
    "try:\n",
    "    c1.cor = 'verde'\n",
    "except Exception:\n",
    "    print('Erro: essa cor nao é válida')\n"
   ]
  },
  {
   "cell_type": "markdown",
   "metadata": {
    "slideshow": {
     "slide_type": "subslide"
    }
   },
   "source": [
    "e obviamente podemos fazer igual raciocínio para a marca"
   ]
  },
  {
   "cell_type": "code",
   "execution_count": 19,
   "metadata": {
    "ExecuteTime": {
     "end_time": "2022-03-04T08:37:16.000244Z",
     "start_time": "2022-03-04T08:37:15.992123Z"
    }
   },
   "outputs": [],
   "source": [
    "c1.marca = 'Seat'  # ok!"
   ]
  },
  {
   "cell_type": "code",
   "execution_count": 20,
   "metadata": {
    "ExecuteTime": {
     "end_time": "2022-03-04T08:37:16.735707Z",
     "start_time": "2022-03-04T08:37:16.716755Z"
    }
   },
   "outputs": [
    {
     "name": "stdout",
     "output_type": "stream",
     "text": [
      "Erro: essa marca nao existe\n"
     ]
    }
   ],
   "source": [
    "try:\n",
    "    c1.marca = 'Ferrarii'\n",
    "except Exception:\n",
    "    print('Erro: essa marca nao existe')"
   ]
  },
  {
   "cell_type": "markdown",
   "metadata": {
    "slideshow": {
     "slide_type": "slide"
    },
    "solution": "hidden",
    "solution_first": true
   },
   "source": [
    "### Exercício\n",
    "\n",
    "Reimplemente a classe `Carro` encapsulando as variáveis da mesma"
   ]
  },
  {
   "cell_type": "code",
   "execution_count": 21,
   "metadata": {},
   "outputs": [],
   "source": [
    "class Carro:\n",
    "    def __init__(self, cor, marca, modelo, dono, consumo, kms):\n",
    "        self.cor = cor\n",
    "        self.marca = marca\n",
    "        self.modelo = modelo\n",
    "        self.dono = dono\n",
    "        self.consumo = consumo\n",
    "        self.kms = kms\n",
    "    \n",
    "    def print_info(self):\n",
    "        print(f'A {self.dono} tem um {self.marca} {self.modelo} que gasta {self.consumo}l/100Km e tem {self.kms}kms.')"
   ]
  },
  {
   "cell_type": "markdown",
   "metadata": {
    "slideshow": {
     "slide_type": "slide"
    }
   },
   "source": [
    "## Solução mais _Pythoniana_\n",
    "\n",
    "Uma solução mais \"Pythoniana\" usa **decoradores**:\n"
   ]
  },
  {
   "cell_type": "code",
   "execution_count": 22,
   "metadata": {
    "ExecuteTime": {
     "end_time": "2022-03-04T08:37:35.979852Z",
     "start_time": "2022-03-04T08:37:35.967786Z"
    },
    "slideshow": {
     "slide_type": "subslide"
    }
   },
   "outputs": [],
   "source": [
    "class Carro:\n",
    "    def __init__(self, cor, marca):\n",
    "        # Chama a propriedade (valida dados). E guarda o valor em self.__cor\n",
    "        self.cor = cor\n",
    "        # Chama a propriedade (valida dados).E guarda o valor em self.__marca\n",
    "        self.marca = marca\n",
    "\n",
    "    @property\n",
    "    def cor(self):  # este é um getter\n",
    "        \"\"\"Retorna a cor do carro.\"\"\"\n",
    "        print('Getter: cor acedida')\n",
    "        return self.__cor\n",
    "\n",
    "    @cor.setter\n",
    "    def cor(self, cor):\n",
    "        \"\"\"Define a cor do carro.\"\"\"\n",
    "        if cor.lower() in [\"vermelho\", \"branco\", \"amarelo\"]:\n",
    "            self.__cor = cor\n",
    "            print('Setter: cor definida')\n",
    "        else:\n",
    "            raise\n",
    "\n",
    "    @cor.deleter\n",
    "    def cor(self):\n",
    "        \"\"\"Coloca cor do carro a None.\"\"\"\n",
    "        print('Deleter: cor apagada')\n",
    "        self.__cor = None\n",
    "\n",
    "    @property\n",
    "    def marca(self):\n",
    "        \"\"\"Retorna a marca do carro.\"\"\"\n",
    "        print('Getter: marca acedida')\n",
    "        return self.__marca\n",
    "\n",
    "    @marca.setter\n",
    "    def marca(self, marca):\n",
    "        \"\"\"Define a marca do carro.\"\"\"\n",
    "        if marca.lower() in [\"audi\", \"fiat\", \"seat\", \"ferrari\"]:\n",
    "            self.__marca = marca\n",
    "            print('Setter: marca definida')\n",
    "        else:\n",
    "            raise"
   ]
  },
  {
   "cell_type": "code",
   "execution_count": 23,
   "metadata": {
    "ExecuteTime": {
     "end_time": "2020-02-11T16:09:33.370897Z",
     "start_time": "2020-02-11T16:09:33.365912Z"
    },
    "slideshow": {
     "slide_type": "subslide"
    }
   },
   "outputs": [
    {
     "name": "stdout",
     "output_type": "stream",
     "text": [
      "Setter: cor definida\n",
      "Setter: marca definida\n"
     ]
    }
   ],
   "source": [
    "c = Carro('vermelho', 'fiat')"
   ]
  },
  {
   "cell_type": "code",
   "execution_count": 24,
   "metadata": {
    "ExecuteTime": {
     "end_time": "2020-02-11T16:09:36.576939Z",
     "start_time": "2020-02-11T16:09:36.573954Z"
    }
   },
   "outputs": [
    {
     "name": "stdout",
     "output_type": "stream",
     "text": [
      "Setter: cor definida\n"
     ]
    }
   ],
   "source": [
    "c.cor = 'branco'"
   ]
  },
  {
   "cell_type": "code",
   "execution_count": 25,
   "metadata": {
    "ExecuteTime": {
     "end_time": "2020-02-11T16:09:47.089816Z",
     "start_time": "2020-02-11T16:09:47.084837Z"
    }
   },
   "outputs": [
    {
     "name": "stdout",
     "output_type": "stream",
     "text": [
      "Getter: cor acedida\n",
      "branco\n"
     ]
    }
   ],
   "source": [
    "print(c.cor)"
   ]
  },
  {
   "cell_type": "code",
   "execution_count": 26,
   "metadata": {
    "ExecuteTime": {
     "end_time": "2020-02-11T16:10:38.466712Z",
     "start_time": "2020-02-11T16:10:38.462716Z"
    },
    "slideshow": {
     "slide_type": "subslide"
    }
   },
   "outputs": [
    {
     "name": "stdout",
     "output_type": "stream",
     "text": [
      "Cor inválida!\n"
     ]
    }
   ],
   "source": [
    "try:\n",
    "    c.cor = 'azul'\n",
    "except Exception:\n",
    "    print(\"Cor inválida!\")"
   ]
  },
  {
   "cell_type": "code",
   "execution_count": 27,
   "metadata": {
    "ExecuteTime": {
     "end_time": "2020-02-11T16:10:42.226054Z",
     "start_time": "2020-02-11T16:10:42.222058Z"
    },
    "slideshow": {
     "slide_type": "subslide"
    }
   },
   "outputs": [
    {
     "name": "stdout",
     "output_type": "stream",
     "text": [
      "Deleter: cor apagada\n"
     ]
    }
   ],
   "source": [
    "del(c.cor)"
   ]
  },
  {
   "cell_type": "code",
   "execution_count": 28,
   "metadata": {
    "ExecuteTime": {
     "end_time": "2020-02-11T16:22:13.531066Z",
     "start_time": "2020-02-11T16:22:13.449150Z"
    }
   },
   "outputs": [
    {
     "name": "stdout",
     "output_type": "stream",
     "text": [
      "Getter: cor acedida\n",
      "None\n"
     ]
    }
   ],
   "source": [
    "print(c.cor)"
   ]
  },
  {
   "cell_type": "markdown",
   "metadata": {
    "slideshow": {
     "slide_type": "slide"
    }
   },
   "source": [
    "# Exercício 9 **[*]**\n",
    "\n",
    "1. Implemente as classes apresentadas na figura abaixo. De preferência, use o Visual Studio Code ou outro IDE avançado.\n",
    "    * **Use decoradores para implementar o encapsulamento.**\n",
    "1. Crie um programa que permita, de modo interativo: listar, inserir, remover, e editar carros de uma lista.\n",
    "    * Crie ainda uma opção para gravar essa lista num ficheiro (e.g., veja o módulo `pickle`).\n",
    "  \n",
    "![title](umlcar03.png)\n"
   ]
  },
  {
   "cell_type": "code",
   "execution_count": 29,
   "metadata": {
    "ExecuteTime": {
     "end_time": "2022-03-04T08:18:05.397238Z",
     "start_time": "2022-03-04T08:18:05.383276Z"
    }
   },
   "outputs": [],
   "source": [
    "class Person:\n",
    "    pass\n",
    "\n",
    "ze = Person()"
   ]
  },
  {
   "cell_type": "code",
   "execution_count": 30,
   "metadata": {
    "ExecuteTime": {
     "end_time": "2022-03-04T08:18:34.182743Z",
     "start_time": "2022-03-04T08:18:34.175603Z"
    }
   },
   "outputs": [],
   "source": [
    "class Color:\n",
    "    pass\n",
    "\n",
    "red = Color()"
   ]
  },
  {
   "cell_type": "code",
   "execution_count": 31,
   "metadata": {
    "ExecuteTime": {
     "end_time": "2022-03-04T08:18:58.863301Z",
     "start_time": "2022-03-04T08:18:58.851367Z"
    }
   },
   "outputs": [],
   "source": [
    "class Engine:\n",
    "    pass\n",
    "\n",
    "v8 = Engine()"
   ]
  },
  {
   "cell_type": "code",
   "execution_count": 32,
   "metadata": {
    "ExecuteTime": {
     "end_time": "2022-03-04T08:20:22.243853Z",
     "start_time": "2022-03-04T08:20:22.224904Z"
    }
   },
   "outputs": [],
   "source": [
    "class Car:\n",
    "    def __init__(self, owner, color, engine):\n",
    "        pass\n",
    "\n",
    "car_1 = Car(owner=ze, color=red, engine=v8)"
   ]
  }
 ],
 "metadata": {
  "celltoolbar": "Slideshow",
  "kernelspec": {
   "display_name": "Python 3 (ipykernel)",
   "language": "python",
   "name": "python3"
  },
  "language_info": {
   "codemirror_mode": {
    "name": "ipython",
    "version": 3
   },
   "file_extension": ".py",
   "mimetype": "text/x-python",
   "name": "python",
   "nbconvert_exporter": "python",
   "pygments_lexer": "ipython3",
   "version": "3.12.1"
  },
  "latex_envs": {
   "LaTeX_envs_menu_present": true,
   "autoclose": false,
   "autocomplete": true,
   "bibliofile": "biblio.bib",
   "cite_by": "apalike",
   "current_citInitial": 1,
   "eqLabelWithNumbers": true,
   "eqNumInitial": 1,
   "hotkeys": {
    "equation": "Ctrl-E",
    "itemize": "Ctrl-I"
   },
   "labels_anchors": false,
   "latex_user_defs": false,
   "report_style_numbering": true,
   "user_envs_cfg": true
  },
  "nbTranslate": {
   "displayLangs": [
    "*"
   ],
   "hotkey": "alt-t",
   "langInMainMenu": true,
   "sourceLang": "en",
   "targetLang": "fr",
   "useGoogleTranslate": true
  },
  "toc": {
   "base_numbering": 1,
   "nav_menu": {},
   "number_sections": true,
   "sideBar": true,
   "skip_h1_title": false,
   "title_cell": "Table of Contents",
   "title_sidebar": "Contents",
   "toc_cell": false,
   "toc_position": {},
   "toc_section_display": true,
   "toc_window_display": false
  },
  "varInspector": {
   "cols": {
    "lenName": 16,
    "lenType": 16,
    "lenVar": 40
   },
   "kernels_config": {
    "python": {
     "delete_cmd_postfix": "",
     "delete_cmd_prefix": "del ",
     "library": "var_list.py",
     "varRefreshCmd": "print(var_dic_list())"
    },
    "r": {
     "delete_cmd_postfix": ") ",
     "delete_cmd_prefix": "rm(",
     "library": "var_list.r",
     "varRefreshCmd": "cat(var_dic_list()) "
    }
   },
   "types_to_exclude": [
    "module",
    "function",
    "builtin_function_or_method",
    "instance",
    "_Feature"
   ],
   "window_display": false
  },
  "vscode": {
   "interpreter": {
    "hash": "1a5c2acd6c908f8ed8bed28682f341c5289030a6eeb597e27b96425e47eef291"
   }
  }
 },
 "nbformat": 4,
 "nbformat_minor": 4
}
