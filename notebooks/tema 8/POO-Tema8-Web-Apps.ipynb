{
 "cells": [
  {
   "cell_type": "markdown",
   "metadata": {
    "slideshow": {
     "slide_type": "slide"
    }
   },
   "source": [
    "# Programação Orientada a Objetos (POO)\n",
    "## Tema 8 – Aplicações e Serviços Web\n",
    "\n",
    "Jaime A. Martins\n",
    "\n",
    "(CEOT/ISE/UAlg - jamartins@ualg.pt)\n"
   ]
  },
  {
   "cell_type": "markdown",
   "metadata": {
    "slideshow": {
     "slide_type": "skip"
    }
   },
   "source": [
    "###### Autor: Jaime Martins"
   ]
  },
  {
   "cell_type": "markdown",
   "metadata": {
    "slideshow": {
     "slide_type": "slide"
    }
   },
   "source": [
    "## Criar web apps com Flask"
   ]
  },
  {
   "cell_type": "markdown",
   "metadata": {
    "slideshow": {
     "slide_type": "-"
    }
   },
   "source": [
    "### **v1** – Uma web app simples"
   ]
  },
  {
   "cell_type": "markdown",
   "metadata": {
    "slideshow": {
     "slide_type": "fragment"
    }
   },
   "source": [
    "Vamos criar uma web app simples com Flask, que apenas retorna uma página HTML estática (uma string \"Hello, World!\"):"
   ]
  },
  {
   "cell_type": "markdown",
   "metadata": {
    "slideshow": {
     "slide_type": "-"
    }
   },
   "source": [
    "``` python\n",
    "# web-app1.py\n",
    "from flask import Flask\n",
    "\n",
    "app = Flask(__name__)\n",
    "\n",
    "\n",
    "@app.route(\"/\")\n",
    "@app.route(\"/index\")\n",
    "def index():\n",
    "    return \"Hello, World!\"\n",
    "\n",
    "\n",
    "if __name__ == \"__main__\":\n",
    "    app.run(debug=True)\n",
    "```"
   ]
  },
  {
   "cell_type": "markdown",
   "metadata": {
    "slideshow": {
     "slide_type": "subslide"
    }
   },
   "source": [
    "Podemos correr o servidor Flask num terminal do Commmand Prompt:"
   ]
  },
  {
   "cell_type": "code",
   "execution_count": null,
   "metadata": {},
   "outputs": [],
   "source": [
    "import os\n",
    "\n",
    "os.environ['FLASK_APP'] = 'web-app-v1.py'\n",
    "custom_port = 8080\n",
    "\n",
    "os.system(f'start cmd.exe @cmd /c \"flask run --port {custom_port}\"')\n",
    "\n",
    "del os.environ[\"FLASK_APP\"]"
   ]
  },
  {
   "cell_type": "markdown",
   "metadata": {
    "slideshow": {
     "slide_type": "slide"
    }
   },
   "source": [
    "### **v2** – Uma web app dinâmica"
   ]
  },
  {
   "cell_type": "markdown",
   "metadata": {
    "slideshow": {
     "slide_type": "fragment"
    }
   },
   "source": [
    "Na v2 vamos modificar a web app para usar código HTML em vez de uma string estática, e preencher o HTML com dados dinâmicos:"
   ]
  },
  {
   "cell_type": "markdown",
   "metadata": {
    "slideshow": {
     "slide_type": "subslide"
    }
   },
   "source": [
    "``` python\n",
    "# web-app2.py\n",
    "from flask import Flask\n",
    "\n",
    "app = Flask(__name__)\n",
    "\n",
    "things = [\n",
    "    {\n",
    "        \"id\": 1,\n",
    "        \"name\": \"Prometheus\",\n",
    "    }\n",
    "]\n",
    "\n",
    "\n",
    "@app.route(\"/\")\n",
    "@app.route(\"/index\")\n",
    "def index():\n",
    "    html = f\"\"\"\n",
    "        <html>\n",
    "            <head>\n",
    "                <title>Things (v2)</title>\n",
    "            </head>\n",
    "            <body>\n",
    "                <h1>Thing: {things[0]['name']}!</h1>\n",
    "            </body>\n",
    "        </html>\n",
    "        \"\"\"\n",
    "\n",
    "    return html\n",
    "\n",
    "\n",
    "if __name__ == \"__main__\":\n",
    "    app.run(debug=True)\n",
    "```"
   ]
  },
  {
   "cell_type": "markdown",
   "metadata": {
    "slideshow": {
     "slide_type": "subslide"
    }
   },
   "source": [
    "Podemos correr o servidor Flask num terminal do Commmand Prompt:"
   ]
  },
  {
   "cell_type": "code",
   "execution_count": null,
   "metadata": {
    "slideshow": {
     "slide_type": "-"
    }
   },
   "outputs": [],
   "source": [
    "import os\n",
    "\n",
    "os.environ['FLASK_APP'] = 'web-app-v2.py'\n",
    "custom_port = 8080\n",
    "\n",
    "os.system(f'start cmd.exe @cmd /c \"flask run --port {custom_port}\"')\n",
    "\n",
    "del os.environ[\"FLASK_APP\"]"
   ]
  },
  {
   "cell_type": "markdown",
   "metadata": {
    "slideshow": {
     "slide_type": "slide"
    }
   },
   "source": [
    "### **v3** – Uma web app dinâmica com template Jinja2 (simples)"
   ]
  },
  {
   "cell_type": "markdown",
   "metadata": {
    "slideshow": {
     "slide_type": "fragment"
    }
   },
   "source": [
    "Em vez de estarmos a usar strings com código HTML:\n",
    "* Podemos recriar a web app anterior usando um template `Jinja2`, que é um ficheiro HTML onde se criam variáveis que irão ser preenchidas com dados dinâmicos.\n",
    "* Em sintaxe Jinja, as variáveis são colocadas entre chavetas duplas `{{ }}`, para indicar que devem ser posteriormente substituídas pelo seu valor."
   ]
  },
  {
   "cell_type": "markdown",
   "metadata": {
    "slideshow": {
     "slide_type": "-"
    }
   },
   "source": [
    "``` html\n",
    "{# templates/thing.html #}\n",
    "<!DOCTYPE html>\n",
    "<html>\n",
    "    <head>\n",
    "        <title>{{ title }}</title>\n",
    "    </head>\n",
    "    <body>\n",
    "        <h1>Thing: {{ thing.name }}!</h1>\n",
    "    </body>\n",
    "</html>\n",
    "\n",
    "```"
   ]
  },
  {
   "cell_type": "markdown",
   "metadata": {
    "slideshow": {
     "slide_type": "-"
    }
   },
   "source": [
    "Neste caso, o template é guardado no ficheiro `thing.html` e é preenchido (*rendered*) usando o método `render_template()` do Flask."
   ]
  },
  {
   "cell_type": "markdown",
   "metadata": {
    "slideshow": {
     "slide_type": "subslide"
    }
   },
   "source": [
    "O `render_template()` recebe o nome do template e os valores das variáveis que devem ser substituídas.\n",
    "O Flask irá procurar o template `thing.html` na pasta `templates`."
   ]
  },
  {
   "cell_type": "markdown",
   "metadata": {
    "slideshow": {
     "slide_type": "-"
    }
   },
   "source": [
    "``` python\n",
    "# web-app3.py\n",
    "from flask import Flask, render_template\n",
    "\n",
    "app = Flask(__name__)\n",
    "\n",
    "things = [\n",
    "    {\n",
    "        \"id\": 1,\n",
    "        \"name\": \"Prometheus\",\n",
    "    }\n",
    "]\n",
    "\n",
    "\n",
    "@app.route(\"/\")\n",
    "@app.route(\"/index\")\n",
    "def index():\n",
    "    return render_template(\"thing.html\", title=\"Things (v3)\", thing=things[0])\n",
    "\n",
    "\n",
    "if __name__ == \"__main__\":\n",
    "    app.run(debug=True)\n",
    "```"
   ]
  },
  {
   "cell_type": "markdown",
   "metadata": {
    "slideshow": {
     "slide_type": "subslide"
    }
   },
   "source": [
    "Podemos correr o servidor Flask num terminal do Commmand Prompt:"
   ]
  },
  {
   "cell_type": "code",
   "execution_count": null,
   "metadata": {
    "slideshow": {
     "slide_type": "-"
    }
   },
   "outputs": [],
   "source": [
    "import os\n",
    "\n",
    "os.environ['FLASK_APP'] = 'web-app-v3.py'\n",
    "custom_port = 8080\n",
    "\n",
    "os.system(f'start cmd.exe @cmd /c \"flask run --port {custom_port}\"')\n",
    "\n",
    "del os.environ[\"FLASK_APP\"]"
   ]
  },
  {
   "cell_type": "markdown",
   "metadata": {
    "slideshow": {
     "slide_type": "slide"
    }
   },
   "source": [
    "### **v4** – Uma web app dinâmica com template Jinja2 (avançado)"
   ]
  },
  {
   "cell_type": "markdown",
   "metadata": {
    "slideshow": {
     "slide_type": "fragment"
    }
   },
   "source": [
    "E se quisermos mostrar uma lista de coisas (things) em vez de apenas uma?"
   ]
  },
  {
   "cell_type": "markdown",
   "metadata": {
    "slideshow": {
     "slide_type": "fragment"
    }
   },
   "source": [
    "Podemos usar um ciclo `for` diretamente dentro do template Jinja2 para iterar sobre uma lista de things:"
   ]
  },
  {
   "cell_type": "markdown",
   "metadata": {
    "slideshow": {
     "slide_type": "subslide"
    }
   },
   "source": [
    "``` html\n",
    "{# templates/things-lista.html #}\n",
    "<!DOCTYPE html>\n",
    "\n",
    "{# isto é um comentario #}\n",
    "{# https://jinja.palletsprojects.com/en/3.0.x/templates/ #}\n",
    "{#\n",
    "    {{ }} - The tag marking the beginning/ending of a print statement.\n",
    "    {% %} - The tag marking the beginning/ending of a control block\n",
    "#}\n",
    "\n",
    "<html lang=\"en\">\n",
    "    <head>\n",
    "        <title>{{ title }}</title>\n",
    "    </head>\n",
    "    <body>\n",
    "        <h1>Things:</h1>\n",
    "        {% for thing in things %}\n",
    "            <div>\n",
    "                <h2>{{ thing.name }}</h2>\n",
    "                <p>Localizado em {{ thing.local }}. Tem os sensores:</p>\n",
    "                {% for sensor in thing.sensors %}\n",
    "                    <div>\n",
    "                        {{ sensor.sensor_name }}\n",
    "                    </div>\n",
    "                {% endfor %}\n",
    "            </div>\n",
    "        {% endfor %}\n",
    "    </body>\n",
    "</html>\n",
    "```"
   ]
  },
  {
   "cell_type": "markdown",
   "metadata": {
    "slideshow": {
     "slide_type": "-"
    }
   },
   "source": [
    "1. O ciclo `for` é definido com a diretiva `for` e termina na diretiva `endfor`.\n",
    "1. O ciclo `for` itera sobre a lista de `things` e, para cada iteração, a variável `thing` é preenchida com o valor da iteração atual.\n",
    "1. Dentro do ciclo `for`, podemos usar a variável `thing` para aceder aos atributos da mesma.\n",
    "1. O ciclo `for` nested itera sobre a lista de sensores de cada `thing`."
   ]
  },
  {
   "cell_type": "markdown",
   "metadata": {
    "slideshow": {
     "slide_type": "subslide"
    }
   },
   "source": [
    "``` python\n",
    "# web-app-v4.py\n",
    "from flask import Flask, render_template\n",
    "\n",
    "app = Flask(__name__)\n",
    "\n",
    "things = [\n",
    "    {\n",
    "        \"id\": 1,\n",
    "        \"name\": \"Prometheus\",\n",
    "        \"local\": \"@lab. 163 / ISE /UAlg\",\n",
    "        \"sensors\": [\n",
    "            {\"sensor_name\": \"mem_sensor\", \"units\": \"percent\"},\n",
    "            {\"sensor_name\": \"cpu_sensor\", \"units\": \"percent\"},\n",
    "        ],\n",
    "    },\n",
    "    {\n",
    "        \"id\": 2,\n",
    "        \"name\": \"Zeus\",\n",
    "        \"local\": \"@lab. 163 / ISE /UAlg\",\n",
    "        \"sensors\": [\n",
    "            {\"sensor_name\": \"temperature\", \"units\": \"numerical\"},\n",
    "            {\"sensor_name\": \"humidity\", \"units\": \"percent\"},\n",
    "        ],\n",
    "    },\n",
    "]\n",
    "\n",
    "\n",
    "@app.route(\"/\")\n",
    "@app.route(\"/index\")\n",
    "def index():\n",
    "    return render_template(\"things-lista.html\", title=\"Things (v4)\", things=things)\n",
    "\n",
    "\n",
    "if __name__ == \"__main__\":\n",
    "    app.run(debug=True)\n",
    "```"
   ]
  },
  {
   "cell_type": "markdown",
   "metadata": {
    "slideshow": {
     "slide_type": "subslide"
    }
   },
   "source": [
    "Podemos correr o servidor Flask num terminal do Commmand Prompt:"
   ]
  },
  {
   "cell_type": "code",
   "execution_count": null,
   "metadata": {
    "slideshow": {
     "slide_type": "-"
    }
   },
   "outputs": [],
   "source": [
    "import os\n",
    "\n",
    "os.environ['FLASK_APP'] = 'web-app-v4.py'\n",
    "custom_port = 8080\n",
    "\n",
    "os.system(f'start cmd.exe @cmd /c \"flask run --port {custom_port}\"')\n",
    "\n",
    "del os.environ[\"FLASK_APP\"]"
   ]
  },
  {
   "cell_type": "markdown",
   "metadata": {
    "slideshow": {
     "slide_type": "slide"
    }
   },
   "source": [
    "### **v5** – Uma web app dinâmica com template Jinja2 (estendido)"
   ]
  },
  {
   "cell_type": "markdown",
   "metadata": {
    "slideshow": {
     "slide_type": "fragment"
    }
   },
   "source": [
    "O template HTML pode ser dividido em vários ficheiros, usando a diretiva `extends`, que nos permite reutilizar templates e evitar duplicação de código."
   ]
  },
  {
   "cell_type": "markdown",
   "metadata": {
    "slideshow": {
     "slide_type": "-"
    }
   },
   "source": [
    "Primeiro, vamos criar um template `base.html` que contém o código HTML comum a todas as páginas:"
   ]
  },
  {
   "cell_type": "markdown",
   "metadata": {
    "slideshow": {
     "slide_type": "fragment"
    }
   },
   "source": [
    "``` html\n",
    "{# templates/base.html #}\n",
    "<!DOCTYPE html>\n",
    "<html>\n",
    "    <head>\n",
    "        <title>\n",
    "            {% block _title_ %} Title {% endblock %}\n",
    "        </title>\n",
    "    </head>\n",
    "    <body>\n",
    "        <hr>\n",
    "        <div>\n",
    "            <a href=\"/index\">Home</a> ...\n",
    "        </div>\n",
    "        <hr>\n",
    "        {% block _content_ %}\n",
    "        {% endblock %}\n",
    "    </body>\n",
    "</html>\n",
    "\n",
    "```"
   ]
  },
  {
   "cell_type": "markdown",
   "metadata": {
    "slideshow": {
     "slide_type": "-"
    }
   },
   "source": [
    "Os blocos `{% block <nome> %} {% endblock %}` assinalam os blocos que podem ser substituídos nos templates filhos."
   ]
  },
  {
   "cell_type": "markdown",
   "metadata": {
    "slideshow": {
     "slide_type": "subslide"
    }
   },
   "source": [
    "E em seguida vamos criar um modelo `things-lista-v2.html` que herda do ficheiro `base.html`, através da diretiva `extends`:"
   ]
  },
  {
   "cell_type": "markdown",
   "metadata": {
    "slideshow": {
     "slide_type": "-"
    }
   },
   "source": [
    "``` html\n",
    "{# templates/things-lista-v2.html #}\n",
    "<!DOCTYPE html>\n",
    "{% extends \"base.html\" %}\n",
    "{# https://jinja.palletsprojects.com/en/3.0.x/templates/#template-inheritance #}\n",
    "\n",
    "{% block _title_ %}\n",
    "    {{ title }}\n",
    "{% endblock _title_ %}\n",
    "\n",
    "{% block _content_ %}\n",
    "    {% for thing in things %}\n",
    "        <div>\n",
    "            <p>{{ thing.name }} located at {{ thing.local }} has sensors:</p>\n",
    "            {% for sensor in thing.sensors %}<div>{{ sensor.sensor_name }} ({{ sensor.units }})</div>{% endfor %}\n",
    "        </div>\n",
    "    {% endfor %}\n",
    "{% endblock _content_ %}\n",
    "```"
   ]
  },
  {
   "cell_type": "markdown",
   "metadata": {
    "slideshow": {
     "slide_type": "subslide"
    }
   },
   "source": [
    "E finalmente a app Flask, idêntica à anterior excepto no nome do template invoocado:"
   ]
  },
  {
   "cell_type": "markdown",
   "metadata": {
    "slideshow": {
     "slide_type": "-"
    }
   },
   "source": [
    "``` python\n",
    "# web-app-v5.py\n",
    "from flask import Flask, render_template\n",
    "\n",
    "app = Flask(__name__)\n",
    "\n",
    "things = [\n",
    "    {\n",
    "        \"id\": 1,\n",
    "        \"name\": \"Prometheus\",\n",
    "        \"local\": \"@lab. 163 / ISE /UAlg\",\n",
    "        \"sensors\": [\n",
    "            {\"sensor_name\": \"mem_sensor\", \"units\": \"percent\"},\n",
    "            {\"sensor_name\": \"cpu_sensor\", \"units\": \"percent\"},\n",
    "        ],\n",
    "    },\n",
    "    {\n",
    "        \"id\": 2,\n",
    "        \"name\": \"Zeus\",\n",
    "        \"local\": \"@lab. 163 / ISE /UAlg\",\n",
    "        \"sensors\": [\n",
    "            {\"sensor_name\": \"temperature\", \"units\": \"numerical\"},\n",
    "            {\"sensor_name\": \"humidity\", \"units\": \"percent\"},\n",
    "        ],\n",
    "    },\n",
    "]\n",
    "\n",
    "\n",
    "@app.route(\"/\")\n",
    "@app.route(\"/index\")\n",
    "def index():\n",
    "    return render_template(\"things-lista-v2.html\", title=\"Things (v5)\", things=things)\n",
    "\n",
    "\n",
    "if __name__ == \"__main__\":\n",
    "    app.run(debug=True)\n",
    "```"
   ]
  },
  {
   "cell_type": "markdown",
   "metadata": {
    "slideshow": {
     "slide_type": "subslide"
    }
   },
   "source": [
    "Podemos correr o servidor Flask num terminal do Commmand Prompt:"
   ]
  },
  {
   "cell_type": "code",
   "execution_count": null,
   "metadata": {
    "slideshow": {
     "slide_type": "-"
    }
   },
   "outputs": [],
   "source": [
    "import os\n",
    "\n",
    "os.environ['FLASK_APP'] = 'web-app-v5.py'\n",
    "custom_port = 8080\n",
    "\n",
    "os.system(f'start cmd.exe @cmd /c \"flask run --port {custom_port}\"')\n",
    "\n",
    "del os.environ[\"FLASK_APP\"]"
   ]
  },
  {
   "cell_type": "code",
   "execution_count": null,
   "metadata": {
    "slideshow": {
     "slide_type": "skip"
    }
   },
   "outputs": [],
   "source": [
    "# Clean up the environment variable, if it still exists\n",
    "if os.environ.get(\"FLASK_APP\"):\n",
    "    del os.environ[\"FLASK_APP\"]"
   ]
  }
 ],
 "metadata": {
  "finalized": {
   "timestamp": 1647952932217,
   "trusted": true
  },
  "kernelspec": {
   "display_name": "Python 3 (ipykernel)",
   "language": "python",
   "name": "python3"
  },
  "language_info": {
   "codemirror_mode": {
    "name": "ipython",
    "version": 3
   },
   "file_extension": ".py",
   "mimetype": "text/x-python",
   "name": "python",
   "nbconvert_exporter": "python",
   "pygments_lexer": "ipython3",
   "version": "3.11.8"
  },
  "latex_envs": {
   "LaTeX_envs_menu_present": true,
   "autoclose": true,
   "autocomplete": true,
   "bibliofile": "references.bib",
   "cite_by": "apalike",
   "current_citInitial": 1,
   "eqLabelWithNumbers": false,
   "eqNumInitial": 1,
   "hotkeys": {
    "equation": "Ctrl-E",
    "itemize": "Ctrl-I"
   },
   "labels_anchors": false,
   "latex_user_defs": false,
   "report_style_numbering": true,
   "user_envs_cfg": false
  },
  "nbTranslate": {
   "displayLangs": [
    "*"
   ],
   "hotkey": "alt-t",
   "langInMainMenu": true,
   "sourceLang": "en",
   "targetLang": "fr",
   "useGoogleTranslate": true
  },
  "toc": {
   "base_numbering": 1,
   "nav_menu": {},
   "number_sections": true,
   "sideBar": true,
   "skip_h1_title": false,
   "title_cell": "Table of Contents",
   "title_sidebar": "Contents",
   "toc_cell": false,
   "toc_position": {},
   "toc_section_display": true,
   "toc_window_display": false
  },
  "varInspector": {
   "cols": {
    "lenName": 16,
    "lenType": 16,
    "lenVar": 40
   },
   "kernels_config": {
    "python": {
     "delete_cmd_postfix": "",
     "delete_cmd_prefix": "del ",
     "library": "var_list.py",
     "varRefreshCmd": "print(var_dic_list())"
    },
    "r": {
     "delete_cmd_postfix": ") ",
     "delete_cmd_prefix": "rm(",
     "library": "var_list.r",
     "varRefreshCmd": "cat(var_dic_list()) "
    }
   },
   "types_to_exclude": [
    "module",
    "function",
    "builtin_function_or_method",
    "instance",
    "_Feature"
   ],
   "window_display": false
  },
  "vscode": {
   "interpreter": {
    "hash": "514c66916f79f2e119b1c85bbea303f4e82df27fa4f8b079b28152a352dfbb6c"
   }
  }
 },
 "nbformat": 4,
 "nbformat_minor": 4
}
