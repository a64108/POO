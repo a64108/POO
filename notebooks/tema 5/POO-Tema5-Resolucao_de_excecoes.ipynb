{
 "cells": [
  {
   "cell_type": "markdown",
   "metadata": {
    "slideshow": {
     "slide_type": "slide"
    }
   },
   "source": [
    "# Programação Orientada a Objetos (POO)\n",
    "## Tema 5 – Resolução de exceções\n",
    "\n",
    "Jaime A. Martins\n",
    "\n",
    "(CEOT/ISE/UAlg - jamartins@ualg.pt)\n"
   ]
  },
  {
   "cell_type": "markdown",
   "metadata": {
    "slideshow": {
     "slide_type": "skip"
    }
   },
   "source": [
    "###### Autores: Jaime Martins [v2]; Pedro Cardoso [v1]"
   ]
  },
  {
   "cell_type": "markdown",
   "metadata": {
    "slideshow": {
     "slide_type": "slide"
    }
   },
   "source": [
    "* Durante as aulas anteriores vimos alguns exemplos de mensagens de **erro**.\n",
    "\n",
    "* Dois tipos de erros comuns são:\n",
    "   * Erros de **sintaxe** no código.\n",
    "   * **Exceções** durante a execução."
   ]
  },
  {
   "cell_type": "markdown",
   "metadata": {
    "slideshow": {
     "slide_type": "subslide"
    }
   },
   "source": [
    "## Erros de sintaxe \n",
    "\n",
    "Correspondem a código que não segue as regras de sintaxe do Python. Por exemplo:"
   ]
  },
  {
   "cell_type": "code",
   "execution_count": 1,
   "metadata": {
    "ExecuteTime": {
     "end_time": "2022-03-22T11:03:00.435366Z",
     "start_time": "2022-03-22T11:03:00.432633Z"
    },
    "slideshow": {
     "slide_type": "-"
    },
    "tags": [
     "raises-exception"
    ]
   },
   "outputs": [
    {
     "ename": "SyntaxError",
     "evalue": "expected ':' (2752881539.py, line 1)",
     "output_type": "error",
     "traceback": [
      "\u001b[1;36m  Cell \u001b[1;32mIn[1], line 1\u001b[1;36m\u001b[0m\n\u001b[1;33m    while True\u001b[0m\n\u001b[1;37m              ^\u001b[0m\n\u001b[1;31mSyntaxError\u001b[0m\u001b[1;31m:\u001b[0m expected ':'\n"
     ]
    }
   ],
   "source": [
    "while True\n",
    "    print(\"Hello world\")"
   ]
  },
  {
   "cell_type": "markdown",
   "metadata": {
    "slideshow": {
     "slide_type": "-"
    }
   },
   "source": [
    "1. O _parser_ indica a linha inválida e apresenta uma pequena \"seta\" apontando para o ponto da linha em que o erro foi detetado.\n",
    "1. O **nome do ficheiro** e **número de linha** são exibidos para que se possa identificar o erro no código."
   ]
  },
  {
   "cell_type": "markdown",
   "metadata": {
    "slideshow": {
     "slide_type": "subslide"
    }
   },
   "source": [
    "## Exceções\n",
    "\n",
    "Correspondem a erros **raros** de execução, que não eram suposto acontecer:\n",
    "1. Mesmo que um comando ou expressão estejam sintaticamente corretos, talvez ocorra um erro na hora de execução.\n",
    "   * Os erros detetados durante a execução são chamados **exceções** e não são necessariamente **fatais**: já veremos como resolvê-los em Python. \n",
    "1. Infelizmente, muitas vezes as exceções não são resolvidas pelos programas e acabam por resultar em mensagens de erro incompreensíveis para um utilizador normal.\n"
   ]
  },
  {
   "cell_type": "code",
   "execution_count": 2,
   "metadata": {
    "ExecuteTime": {
     "end_time": "2022-03-22T11:04:30.626738Z",
     "start_time": "2022-03-22T11:04:30.616465Z"
    },
    "slideshow": {
     "slide_type": "subslide"
    },
    "tags": [
     "raises-exception"
    ]
   },
   "outputs": [
    {
     "ename": "ZeroDivisionError",
     "evalue": "division by zero",
     "output_type": "error",
     "traceback": [
      "\u001b[1;31m---------------------------------------------------------------------------\u001b[0m",
      "\u001b[1;31mZeroDivisionError\u001b[0m                         Traceback (most recent call last)",
      "Cell \u001b[1;32mIn[2], line 1\u001b[0m\n\u001b[1;32m----> 1\u001b[0m \u001b[38;5;241;43m1\u001b[39;49m\u001b[38;5;241;43m/\u001b[39;49m\u001b[38;5;241;43m0\u001b[39;49m\n",
      "\u001b[1;31mZeroDivisionError\u001b[0m: division by zero"
     ]
    }
   ],
   "source": [
    "1/0"
   ]
  },
  {
   "cell_type": "code",
   "execution_count": 3,
   "metadata": {
    "ExecuteTime": {
     "end_time": "2022-03-22T11:04:31.583173Z",
     "start_time": "2022-03-22T11:04:31.576722Z"
    },
    "slideshow": {
     "slide_type": "fragment"
    },
    "tags": [
     "raises-exception"
    ]
   },
   "outputs": [
    {
     "ename": "NameError",
     "evalue": "name 'var' is not defined",
     "output_type": "error",
     "traceback": [
      "\u001b[1;31m---------------------------------------------------------------------------\u001b[0m",
      "\u001b[1;31mNameError\u001b[0m                                 Traceback (most recent call last)",
      "Cell \u001b[1;32mIn[3], line 1\u001b[0m\n\u001b[1;32m----> 1\u001b[0m \u001b[43mvar\u001b[49m \u001b[38;5;241m+\u001b[39m \u001b[38;5;241m3\u001b[39m\n",
      "\u001b[1;31mNameError\u001b[0m: name 'var' is not defined"
     ]
    }
   ],
   "source": [
    "var + 3"
   ]
  },
  {
   "cell_type": "code",
   "execution_count": 4,
   "metadata": {
    "ExecuteTime": {
     "end_time": "2022-03-22T11:05:26.567128Z",
     "start_time": "2022-03-22T11:05:26.561081Z"
    },
    "slideshow": {
     "slide_type": "subslide"
    },
    "tags": [
     "raises-exception"
    ]
   },
   "outputs": [
    {
     "ename": "TypeError",
     "evalue": "can only concatenate str (not \"int\") to str",
     "output_type": "error",
     "traceback": [
      "\u001b[1;31m---------------------------------------------------------------------------\u001b[0m",
      "\u001b[1;31mTypeError\u001b[0m                                 Traceback (most recent call last)",
      "Cell \u001b[1;32mIn[4], line 1\u001b[0m\n\u001b[1;32m----> 1\u001b[0m \u001b[38;5;124;43m\"\u001b[39;49m\u001b[38;5;124;43mvar\u001b[39;49m\u001b[38;5;124;43m\"\u001b[39;49m\u001b[43m \u001b[49m\u001b[38;5;241;43m+\u001b[39;49m\u001b[43m \u001b[49m\u001b[38;5;241;43m3\u001b[39;49m\n",
      "\u001b[1;31mTypeError\u001b[0m: can only concatenate str (not \"int\") to str"
     ]
    }
   ],
   "source": [
    "\"var\" + 3"
   ]
  },
  {
   "cell_type": "markdown",
   "metadata": {
    "slideshow": {
     "slide_type": "-"
    }
   },
   "source": [
    "1. A última linha da mensagem de erro indica o que aconteceu.\n",
    "1. As exceções surgem com **diferentes tipos**, sendo este exibido como parte da mensagem:\n",
    "   * As exceções dos exemplos anteriores são `ZeroDivisionError`, `NameError` e `TypeError`. \n",
    "\n"
   ]
  },
  {
   "cell_type": "code",
   "execution_count": 5,
   "metadata": {
    "ExecuteTime": {
     "end_time": "2022-03-22T11:06:03.789890Z",
     "start_time": "2022-03-22T11:06:03.778071Z"
    },
    "scrolled": true,
    "slideshow": {
     "slide_type": "subslide"
    },
    "tags": [
     "raises-exception"
    ]
   },
   "outputs": [
    {
     "ename": "NameError",
     "evalue": "name 'x' is not defined",
     "output_type": "error",
     "traceback": [
      "\u001b[1;31m---------------------------------------------------------------------------\u001b[0m",
      "\u001b[1;31mNameError\u001b[0m                                 Traceback (most recent call last)",
      "Cell \u001b[1;32mIn[5], line 7\u001b[0m\n\u001b[0;32m      4\u001b[0m \u001b[38;5;28;01mdef\u001b[39;00m \u001b[38;5;21mf0\u001b[39m():\n\u001b[0;32m      5\u001b[0m     f1()\n\u001b[1;32m----> 7\u001b[0m \u001b[43mf0\u001b[49m\u001b[43m(\u001b[49m\u001b[43m)\u001b[49m\n",
      "Cell \u001b[1;32mIn[5], line 5\u001b[0m, in \u001b[0;36mf0\u001b[1;34m()\u001b[0m\n\u001b[0;32m      4\u001b[0m \u001b[38;5;28;01mdef\u001b[39;00m \u001b[38;5;21mf0\u001b[39m():\n\u001b[1;32m----> 5\u001b[0m     \u001b[43mf1\u001b[49m\u001b[43m(\u001b[49m\u001b[43m)\u001b[49m\n",
      "Cell \u001b[1;32mIn[5], line 2\u001b[0m, in \u001b[0;36mf1\u001b[1;34m()\u001b[0m\n\u001b[0;32m      1\u001b[0m \u001b[38;5;28;01mdef\u001b[39;00m \u001b[38;5;21mf1\u001b[39m():\n\u001b[1;32m----> 2\u001b[0m     \u001b[38;5;28mprint\u001b[39m(\u001b[43mx\u001b[49m\u001b[38;5;241m+\u001b[39my)\n",
      "\u001b[1;31mNameError\u001b[0m: name 'x' is not defined"
     ]
    }
   ],
   "source": [
    "def f1():\n",
    "    print(x+y)\n",
    "\n",
    "def f0():\n",
    "    f1()\n",
    "\n",
    "f0()"
   ]
  },
  {
   "cell_type": "markdown",
   "metadata": {
    "slideshow": {
     "slide_type": "-"
    }
   },
   "source": [
    "* A parte inicial da mensagem de erro apresenta o **contexto** onde ocorreu a exceção. Esta informação é denominada _stack traceback_ (histórico da pilha de execução).\n",
    "* Neste exemplo, podemos concluir que a chamada foi feita inicialmente ao método `f0`, que depois chamou o método `f1`, onde ocorreu o erro e foi levantada a exceção.\n"
   ]
  },
  {
   "cell_type": "markdown",
   "metadata": {
    "slideshow": {
     "slide_type": "subslide"
    }
   },
   "source": [
    "#### Afinal, o que é uma exceção?<br/><br/>\n",
    "\n",
    "### ➡️Uma exceção é uma *presupposition failure*\n",
    "\n",
    "* *\"Is the present King of France bald?\"* &horbar; Bertrand Russel (1872&ndash;1970)\n",
    "\n",
    "   O atual Rei da França é careca?\n",
    "\n",
    "   #### Verdadeiro ou Falso?"
   ]
  },
  {
   "cell_type": "markdown",
   "metadata": {
    "slideshow": {
     "slide_type": "subslide"
    }
   },
   "source": [
    "### Quando devemos levantar exceções *(raise exceptions)* ?\n",
    "\n",
    "\n",
    "* **Falha de método** – Quando um método está impossibilitado de realizar o seu propósito.\n",
    "* **Assunções falsas** – Quando uma suposição fundamental do bloco de código atual é/torna-se falsa.\n",
    "* **Violação de pré-condição** – Se uma pré-condição que não é cumprida tornar o código seguinte impossível de ser executado.\n",
    "* **Outras condições excepcionais** – As exceções devem ser usadas apenas para condições e erros **excepcionais**, **não para os esperáveis**."
   ]
  },
  {
   "cell_type": "markdown",
   "metadata": {
    "slideshow": {
     "slide_type": "slide"
    }
   },
   "source": [
    "## Resolução de exceções\n",
    "\n",
    "É possível escrever programas que resolvem exceções específicas. "
   ]
  },
  {
   "cell_type": "code",
   "execution_count": 6,
   "metadata": {
    "ExecuteTime": {
     "end_time": "2022-03-22T11:08:57.984378Z",
     "start_time": "2022-03-22T11:08:56.240960Z"
    },
    "slideshow": {
     "slide_type": "subslide"
    },
    "tags": [
     "raises-exception"
    ]
   },
   "outputs": [
    {
     "ename": "ZeroDivisionError",
     "evalue": "division by zero",
     "output_type": "error",
     "traceback": [
      "\u001b[1;31m---------------------------------------------------------------------------\u001b[0m",
      "\u001b[1;31mZeroDivisionError\u001b[0m                         Traceback (most recent call last)",
      "Cell \u001b[1;32mIn[6], line 6\u001b[0m\n\u001b[0;32m      3\u001b[0m     \u001b[38;5;28;01mreturn\u001b[39;00m a \u001b[38;5;241m/\u001b[39m b\n\u001b[0;32m      5\u001b[0m \u001b[38;5;66;03m# Se chamarmos a função com b = 0, irá levantar (raise) um ZeroDivisionError\u001b[39;00m\n\u001b[1;32m----> 6\u001b[0m result \u001b[38;5;241m=\u001b[39m \u001b[43mdivide\u001b[49m\u001b[43m(\u001b[49m\u001b[38;5;241;43m5\u001b[39;49m\u001b[43m,\u001b[49m\u001b[43m \u001b[49m\u001b[38;5;241;43m0\u001b[39;49m\u001b[43m)\u001b[49m\n",
      "Cell \u001b[1;32mIn[6], line 3\u001b[0m, in \u001b[0;36mdivide\u001b[1;34m(a, b)\u001b[0m\n\u001b[0;32m      2\u001b[0m \u001b[38;5;28;01mdef\u001b[39;00m \u001b[38;5;21mdivide\u001b[39m(a, b):\n\u001b[1;32m----> 3\u001b[0m     \u001b[38;5;28;01mreturn\u001b[39;00m \u001b[43ma\u001b[49m\u001b[43m \u001b[49m\u001b[38;5;241;43m/\u001b[39;49m\u001b[43m \u001b[49m\u001b[43mb\u001b[49m\n",
      "\u001b[1;31mZeroDivisionError\u001b[0m: division by zero"
     ]
    }
   ],
   "source": [
    "# Vamos criar uma função que divide dois números\n",
    "def divide(a, b):\n",
    "    return a / b\n",
    "\n",
    "# Se chamarmos a função com b = 0, irá levantar (raise) um ZeroDivisionError\n",
    "result = divide(5, 0)"
   ]
  },
  {
   "cell_type": "markdown",
   "metadata": {
    "slideshow": {
     "slide_type": "subslide"
    }
   },
   "source": [
    "Para prevenir, podemos criar um bloco `try`...`except` que proteja o código:"
   ]
  },
  {
   "cell_type": "code",
   "execution_count": 7,
   "metadata": {
    "ExecuteTime": {
     "end_time": "2022-03-22T11:10:12.508585Z",
     "start_time": "2022-03-22T11:10:10.010292Z"
    },
    "slideshow": {
     "slide_type": "-"
    },
    "tags": [
     "raises-exception"
    ]
   },
   "outputs": [
    {
     "name": "stdout",
     "output_type": "stream",
     "text": [
      "Error: Cannot divide by zero\n",
      "Result = None\n"
     ]
    }
   ],
   "source": [
    "try:\n",
    "    result = divide(5, 0)\n",
    "except ZeroDivisionError: # Exception handler\n",
    "    print(\"Error: Cannot divide by zero\")\n",
    "    result = None  # em alternativa, float('NaN')\n",
    "    \n",
    "print(\"Result =\", result)"
   ]
  },
  {
   "cell_type": "markdown",
   "metadata": {
    "slideshow": {
     "slide_type": "subslide"
    }
   },
   "source": [
    "O código dentro do bloco `try` é executado da seguinte forma:\n",
    "1. Se nenhuma exceção ocorrer, o bloco do `except` é ignorado e a execução do bloco do `try` é finalizada;\n",
    "1. Se ocorrer uma exceção (neste caso um `ZeroDivisionError`):\n",
    "   * É executado o código dentro do block `except`.\n",
    "   * A exceção é resolvida apropriadamente, e previne-se que o programa termine abruptamente.\n"
   ]
  },
  {
   "cell_type": "markdown",
   "metadata": {
    "slideshow": {
     "slide_type": "subslide"
    }
   },
   "source": [
    "3. Se ocorrer uma exceção durante a execução da cláusula `try`, as instruções remanescentes na cláusula **são ignoradas**, já não sendo executadas.\n",
    "   \n",
    "1. Se o tipo da exceção ocorrida tiver sido previsto em algum `except`, então essa cláusula será executada.\n",
    "   * Depois disso, a execução continua para o código a seguir ao bloco `try`...`except`."
   ]
  },
  {
   "cell_type": "markdown",
   "metadata": {
    "slideshow": {
     "slide_type": "subslide"
    }
   },
   "source": [
    "5. Se a exceção levantada não corresponder a nenhuma exceção prevista, então é entregue a uma instrução `except` mais externa (se existir).\n",
    "   * Mas, se não existir, trata-se de uma *exceção não resolvida* e a execução do programa termina com uma mensagem de erro.\n",
    "\n",
    "6. Podemos ter quantos blocos de `except` quisermos, de forma a poder resolver diferentes tipos de exceções:\n",
    "   * No máximo uma única cláusula `except` *(exception handler)* será executada.\n",
    "   * Podemos resolver vários **tipos** de exceções dentro da mesma cláusula `except`, desde que na declaração os tipos sejam agrupados por uma tupla, e.g., `except (NameError, TypeError):`"
   ]
  },
  {
   "cell_type": "markdown",
   "metadata": {
    "slideshow": {
     "slide_type": "subslide"
    }
   },
   "source": [
    "## Argumentos da exceção\n",
    "\n",
    "Quando uma exceção ocorre, pode estar associada a *argumentos da exceção*. A presença e o tipo de argumento dependem do tipo de exceção.\n",
    "\n",
    "* A cláusula `except` pode especificar uma variável depois do nome (ou da tupla de nomes) da exceção, por exemplo: `e`.\n",
    "   * Esta variável é associada à instância de exceção capturada, com os argumentos armazenados em `e.args`.\n",
    "   * Por conveniência, a instância já tem definido o método `__str__()` para que os argumentos possam ser exibidos diretamente (sem necessidade de aceder a `.args`).\n",
    "* Pode-se também instanciar uma exceção antes de levantá-la e adicionar qualquer atributo (já veremos um exemplo)."
   ]
  },
  {
   "cell_type": "code",
   "execution_count": 8,
   "metadata": {
    "slideshow": {
     "slide_type": "subslide"
    }
   },
   "outputs": [
    {
     "name": "stdout",
     "output_type": "stream",
     "text": [
      "An error occurred: division by zero\n"
     ]
    }
   ],
   "source": [
    "try:\n",
    "    x = 5 / 0\n",
    "except ZeroDivisionError as e:\n",
    "    print(f\"An error occurred: {e}\")"
   ]
  },
  {
   "cell_type": "code",
   "execution_count": 9,
   "metadata": {
    "ExecuteTime": {
     "end_time": "2022-03-22T11:24:58.199489Z",
     "start_time": "2022-03-22T11:24:58.191407Z"
    },
    "slideshow": {
     "slide_type": "fragment"
    },
    "tags": [
     "raises-exception"
    ]
   },
   "outputs": [
    {
     "name": "stdout",
     "output_type": "stream",
     "text": [
      "<class 'Exception'>\n",
      "('bacon', 'eggs')\n",
      "('bacon', 'eggs')\n",
      "a = bacon\n",
      "b = eggs\n"
     ]
    }
   ],
   "source": [
    "try:\n",
    "    raise Exception(\"bacon\", \"eggs\")\n",
    "except Exception as e:\n",
    "    print(type(e))    # a instância da exceção\n",
    "    print(e.args)     # argumentos armazenados em \".args\"\n",
    "    print(e)          # __str__ está implementado...\n",
    "    \n",
    "    a, b = e.args     # unpack args\n",
    "    print(\"a =\", a)\n",
    "    print(\"b =\", b)"
   ]
  },
  {
   "cell_type": "markdown",
   "metadata": {
    "slideshow": {
     "slide_type": "subslide"
    }
   },
   "source": [
    "## Levantando exceções\n",
    "\n",
    "A instrução `raise` permite ao programador forçar a ocorrência de um determinado tipo de exceção. \n"
   ]
  },
  {
   "cell_type": "code",
   "execution_count": 10,
   "metadata": {
    "ExecuteTime": {
     "end_time": "2022-03-22T11:25:47.424066Z",
     "start_time": "2022-03-22T11:25:47.421565Z"
    },
    "slideshow": {
     "slide_type": "-"
    },
    "tags": [
     "raises-exception"
    ]
   },
   "outputs": [
    {
     "name": "stdout",
     "output_type": "stream",
     "text": [
      "Olá...! Passou por aqui uma exceção!\n"
     ]
    }
   ],
   "source": [
    "try:\n",
    "    raise NameError(\"Olá...!\")\n",
    "except NameError as e:\n",
    "    print(f\"{e} Passou por aqui uma exceção!\")"
   ]
  },
  {
   "cell_type": "markdown",
   "metadata": {
    "slideshow": {
     "slide_type": "slide"
    }
   },
   "source": [
    "## Exemplo\n",
    "\n",
    "O código que se segue não está protegido para a ocorrência de exceções:"
   ]
  },
  {
   "cell_type": "code",
   "execution_count": 11,
   "metadata": {
    "ExecuteTime": {
     "end_time": "2022-03-22T11:13:45.343486Z",
     "start_time": "2022-03-22T11:13:45.331119Z"
    },
    "slideshow": {
     "slide_type": "-"
    },
    "tags": [
     "raises-exception"
    ]
   },
   "outputs": [
    {
     "ename": "FileNotFoundError",
     "evalue": "[Errno 2] No such file or directory: 'myfile.txt'",
     "output_type": "error",
     "traceback": [
      "\u001b[1;31m---------------------------------------------------------------------------\u001b[0m",
      "\u001b[1;31mFileNotFoundError\u001b[0m                         Traceback (most recent call last)",
      "Cell \u001b[1;32mIn[11], line 1\u001b[0m\n\u001b[1;32m----> 1\u001b[0m f \u001b[38;5;241m=\u001b[39m \u001b[38;5;28;43mopen\u001b[39;49m\u001b[43m(\u001b[49m\u001b[38;5;124;43m\"\u001b[39;49m\u001b[38;5;124;43mmyfile.txt\u001b[39;49m\u001b[38;5;124;43m\"\u001b[39;49m\u001b[43m)\u001b[49m \u001b[38;5;66;03m# Ups! Deveria ser my_file.txt\u001b[39;00m\n\u001b[0;32m      2\u001b[0m s \u001b[38;5;241m=\u001b[39m f\u001b[38;5;241m.\u001b[39mreadline()\n\u001b[0;32m      3\u001b[0m i \u001b[38;5;241m=\u001b[39m \u001b[38;5;28mint\u001b[39m(s\u001b[38;5;241m.\u001b[39mstrip())\n",
      "File \u001b[1;32mc:\\Users\\jm\\miniforge3\\envs\\rise\\Lib\\site-packages\\IPython\\core\\interactiveshell.py:324\u001b[0m, in \u001b[0;36m_modified_open\u001b[1;34m(file, *args, **kwargs)\u001b[0m\n\u001b[0;32m    317\u001b[0m \u001b[38;5;28;01mif\u001b[39;00m file \u001b[38;5;129;01min\u001b[39;00m {\u001b[38;5;241m0\u001b[39m, \u001b[38;5;241m1\u001b[39m, \u001b[38;5;241m2\u001b[39m}:\n\u001b[0;32m    318\u001b[0m     \u001b[38;5;28;01mraise\u001b[39;00m \u001b[38;5;167;01mValueError\u001b[39;00m(\n\u001b[0;32m    319\u001b[0m         \u001b[38;5;124mf\u001b[39m\u001b[38;5;124m\"\u001b[39m\u001b[38;5;124mIPython won\u001b[39m\u001b[38;5;124m'\u001b[39m\u001b[38;5;124mt let you open fd=\u001b[39m\u001b[38;5;132;01m{\u001b[39;00mfile\u001b[38;5;132;01m}\u001b[39;00m\u001b[38;5;124m by default \u001b[39m\u001b[38;5;124m\"\u001b[39m\n\u001b[0;32m    320\u001b[0m         \u001b[38;5;124m\"\u001b[39m\u001b[38;5;124mas it is likely to crash IPython. If you know what you are doing, \u001b[39m\u001b[38;5;124m\"\u001b[39m\n\u001b[0;32m    321\u001b[0m         \u001b[38;5;124m\"\u001b[39m\u001b[38;5;124myou can use builtins\u001b[39m\u001b[38;5;124m'\u001b[39m\u001b[38;5;124m open.\u001b[39m\u001b[38;5;124m\"\u001b[39m\n\u001b[0;32m    322\u001b[0m     )\n\u001b[1;32m--> 324\u001b[0m \u001b[38;5;28;01mreturn\u001b[39;00m \u001b[43mio_open\u001b[49m\u001b[43m(\u001b[49m\u001b[43mfile\u001b[49m\u001b[43m,\u001b[49m\u001b[43m \u001b[49m\u001b[38;5;241;43m*\u001b[39;49m\u001b[43margs\u001b[49m\u001b[43m,\u001b[49m\u001b[43m \u001b[49m\u001b[38;5;241;43m*\u001b[39;49m\u001b[38;5;241;43m*\u001b[39;49m\u001b[43mkwargs\u001b[49m\u001b[43m)\u001b[49m\n",
      "\u001b[1;31mFileNotFoundError\u001b[0m: [Errno 2] No such file or directory: 'myfile.txt'"
     ]
    }
   ],
   "source": [
    "f = open(\"myfile.txt\") # Ups! Deveria ser my_file.txt\n",
    "s = f.readline()\n",
    "i = int(s.strip())"
   ]
  },
  {
   "cell_type": "markdown",
   "metadata": {
    "slideshow": {
     "slide_type": "subslide"
    }
   },
   "source": [
    "Neste caso podemos fazer o seguinte: \n",
    "\n",
    "*(sem criar o ficheiro myfile.txt!)*\n",
    "\n",
    "* Crie o ficheiro `my_file.txt` na mesma pasta deste notebook:\n",
    "   1. Preencha-o com a sua idade e corra a célula seguinte *(Ctrl+Enter)*.\n",
    "   1. Preencha-o com o seu nome e corra a célula.\n",
    "   1. Mude o nome do ficheiro para `my_file2.txt` e corra a célula."
   ]
  },
  {
   "cell_type": "code",
   "execution_count": 12,
   "metadata": {
    "ExecuteTime": {
     "end_time": "2022-03-22T11:20:12.365800Z",
     "start_time": "2022-03-22T11:20:12.362219Z"
    },
    "slideshow": {
     "slide_type": "subslide"
    },
    "tags": [
     "raises-exception"
    ]
   },
   "outputs": [
    {
     "name": "stdout",
     "output_type": "stream",
     "text": [
      "FileNotFoundError: [Errno 2] No such file or directory: 'my_file.txt'\n"
     ]
    }
   ],
   "source": [
    "try:\n",
    "    f = open(\"my_file.txt\")\n",
    "    s = f.readline()\n",
    "    i = int(s.strip())\n",
    "    print(\"Lido o número inteiro\", i)\n",
    "except FileNotFoundError as e:\n",
    "    print(f\"FileNotFoundError: {e}\")\n",
    "except ValueError as e:\n",
    "    print(f\"ValueError: Não consigo converter {s} para inteiro.\")\n",
    "except Exception as e:\n",
    "    print(\"Outro erro: Unexpected error:\", e)"
   ]
  },
  {
   "cell_type": "markdown",
   "metadata": {
    "slideshow": {
     "slide_type": "slide"
    }
   },
   "source": [
    "## Cláusula `else`"
   ]
  },
  {
   "cell_type": "markdown",
   "metadata": {
    "slideshow": {
     "slide_type": "-"
    }
   },
   "source": [
    "* A construção `try ... except` possui uma cláusula `else` opcional que, quando presente, deve ser colocada depois de todas as cláusulas `except`.\n",
    "* É útil para colocar código que precisa de ser executado se nenhuma exceção foi levantada. Por exemplo:"
   ]
  },
  {
   "cell_type": "code",
   "execution_count": 13,
   "metadata": {
    "ExecuteTime": {
     "end_time": "2022-03-22T11:24:57.123746Z",
     "start_time": "2022-03-22T11:24:57.117224Z"
    },
    "slideshow": {
     "slide_type": "fragment"
    },
    "tags": [
     "raises-exception"
    ]
   },
   "outputs": [
    {
     "name": "stdout",
     "output_type": "stream",
     "text": [
      "Result = 5.0\n"
     ]
    }
   ],
   "source": [
    "try:\n",
    "    result = divide(5, 1)\n",
    "except ZeroDivisionError:\n",
    "    print(\"Error: Cannot divide by zero\")\n",
    "    result = None  # em alternativa, float('NaN')\n",
    "else:  # Executa se não houver exceção\n",
    "    print(\"Result =\", result)"
   ]
  },
  {
   "cell_type": "markdown",
   "metadata": {
    "slideshow": {
     "slide_type": "slide"
    }
   },
   "source": [
    "## Finalmente o `finally`!\n",
    "\n",
    "A instrução `try` possui outra cláusula opcional, denominada `finally`, cuja finalidade é garantir que um determinado código seja executado **sempre**, quer ocorram ou não exceções (pode ser útil para implementar ações de limpeza ou destruição de objetos)."
   ]
  },
  {
   "cell_type": "code",
   "execution_count": 14,
   "metadata": {
    "ExecuteTime": {
     "end_time": "2022-03-22T11:26:19.904792Z",
     "start_time": "2022-03-22T11:26:19.901542Z"
    },
    "slideshow": {
     "slide_type": "-"
    },
    "tags": [
     "raises-exception"
    ]
   },
   "outputs": [],
   "source": [
    "def divide(x, y):\n",
    "    try:  # Vamos tentar...\n",
    "        result = x / y\n",
    "    except ZeroDivisionError:  # Divisão por zero\n",
    "        print(\"Erro: divisão por zero!\")\n",
    "        result = float(\"NaN\")\n",
    "    else:  # Se correr tudo bem no 'try'\n",
    "        print(\"O resultado é\", result)\n",
    "    finally:  # Executado sempre, no fim\n",
    "        print(\"... e agora, independentemente do que aconteça, cá estou eu finalmente!\")\n",
    "        return result"
   ]
  },
  {
   "cell_type": "code",
   "execution_count": 15,
   "metadata": {
    "ExecuteTime": {
     "end_time": "2022-03-22T11:26:20.955831Z",
     "start_time": "2022-03-22T11:26:20.946763Z"
    },
    "slideshow": {
     "slide_type": "subslide"
    },
    "tags": [
     "raises-exception"
    ]
   },
   "outputs": [
    {
     "name": "stdout",
     "output_type": "stream",
     "text": [
      "O resultado é 0.5\n",
      "... e agora, independentemente do que aconteça, cá estou eu finalmente!\n"
     ]
    },
    {
     "data": {
      "text/plain": [
       "0.5"
      ]
     },
     "execution_count": 15,
     "metadata": {},
     "output_type": "execute_result"
    }
   ],
   "source": [
    "x = divide(1, 2)\n",
    "x"
   ]
  },
  {
   "cell_type": "code",
   "execution_count": 16,
   "metadata": {
    "ExecuteTime": {
     "end_time": "2022-03-22T11:26:25.808392Z",
     "start_time": "2022-03-22T11:26:25.805222Z"
    },
    "slideshow": {
     "slide_type": "fragment"
    },
    "tags": [
     "raises-exception"
    ]
   },
   "outputs": [
    {
     "name": "stdout",
     "output_type": "stream",
     "text": [
      "Erro: divisão por zero!\n",
      "... e agora, independentemente do que aconteça, cá estou eu finalmente!\n"
     ]
    },
    {
     "data": {
      "text/plain": [
       "nan"
      ]
     },
     "execution_count": 16,
     "metadata": {},
     "output_type": "execute_result"
    }
   ],
   "source": [
    "divide(1, 0)"
   ]
  },
  {
   "cell_type": "markdown",
   "metadata": {
    "slideshow": {
     "slide_type": "subslide"
    }
   },
   "source": [
    "### O exemplo dos ficheiros\n",
    "\n",
    "Não nos devemos esquecer de fechar os `open` que vamos fazendo, logo podemos/devemos colocar o `close` no bloco `finally`"
   ]
  },
  {
   "cell_type": "code",
   "execution_count": 17,
   "metadata": {
    "ExecuteTime": {
     "end_time": "2022-03-22T11:27:23.136873Z",
     "start_time": "2022-03-22T11:27:23.132123Z"
    },
    "slideshow": {
     "slide_type": "-"
    },
    "tags": [
     "raises-exception"
    ]
   },
   "outputs": [
    {
     "name": "stdout",
     "output_type": "stream",
     "text": [
      "Erro!: [Errno 2] No such file or directory: 'my_file.txt'\n"
     ]
    },
    {
     "ename": "NameError",
     "evalue": "name 'f' is not defined",
     "output_type": "error",
     "traceback": [
      "\u001b[1;31m---------------------------------------------------------------------------\u001b[0m",
      "\u001b[1;31mNameError\u001b[0m                                 Traceback (most recent call last)",
      "Cell \u001b[1;32mIn[17], line 11\u001b[0m\n\u001b[0;32m      8\u001b[0m     \u001b[38;5;28mprint\u001b[39m(\u001b[38;5;124mf\u001b[39m\u001b[38;5;124m\"\u001b[39m\u001b[38;5;124mNão consigo converter \u001b[39m\u001b[38;5;132;01m{\u001b[39;00ms\u001b[38;5;132;01m}\u001b[39;00m\u001b[38;5;124m para inteiro.\u001b[39m\u001b[38;5;124m\"\u001b[39m)\n\u001b[0;32m      9\u001b[0m \u001b[38;5;28;01mfinally\u001b[39;00m:\n\u001b[0;32m     10\u001b[0m     \u001b[38;5;66;03m# fecha o ficheiro, independentemente do que aconteça\u001b[39;00m\n\u001b[1;32m---> 11\u001b[0m     \u001b[38;5;28mprint\u001b[39m(\u001b[38;5;124m\"\u001b[39m\u001b[38;5;124mf está fechado?:\u001b[39m\u001b[38;5;124m\"\u001b[39m, \u001b[43mf\u001b[49m\u001b[38;5;241m.\u001b[39mclosed)\n\u001b[0;32m     12\u001b[0m     f\u001b[38;5;241m.\u001b[39mclose()\n\u001b[0;32m     14\u001b[0m \u001b[38;5;28mprint\u001b[39m(\u001b[38;5;124m\"\u001b[39m\u001b[38;5;124mf está fechado?:\u001b[39m\u001b[38;5;124m\"\u001b[39m, f\u001b[38;5;241m.\u001b[39mclosed)\n",
      "\u001b[1;31mNameError\u001b[0m: name 'f' is not defined"
     ]
    }
   ],
   "source": [
    "try:\n",
    "    f = open(\"my_file.txt\")\n",
    "    s = f.readline()\n",
    "    i = int(s.strip())\n",
    "except OSError as e:\n",
    "    print(f\"Erro!: {e}\")\n",
    "except Exception:\n",
    "    print(f\"Não consigo converter {s} para inteiro.\")\n",
    "finally:\n",
    "    # fecha o ficheiro, independentemente do que aconteça\n",
    "    print(\"f está fechado?:\", f.closed)\n",
    "    f.close()\n",
    "\n",
    "print(\"f está fechado?:\", f.closed)"
   ]
  },
  {
   "cell_type": "markdown",
   "metadata": {
    "slideshow": {
     "slide_type": "subslide"
    }
   },
   "source": [
    "No caso dos ficheiros, a forma correta é garantir que o ficheiro irá ser sempre fechado, usando o `with`"
   ]
  },
  {
   "cell_type": "code",
   "execution_count": 18,
   "metadata": {
    "ExecuteTime": {
     "end_time": "2022-03-22T11:56:08.880674Z",
     "start_time": "2022-03-22T11:56:08.876314Z"
    },
    "slideshow": {
     "slide_type": "-"
    },
    "tags": [
     "raises-exception"
    ]
   },
   "outputs": [
    {
     "name": "stdout",
     "output_type": "stream",
     "text": [
      "Erro: [Errno 2] No such file or directory: 'my_file2.txt'\n"
     ]
    },
    {
     "ename": "NameError",
     "evalue": "name 'f' is not defined",
     "output_type": "error",
     "traceback": [
      "\u001b[1;31m---------------------------------------------------------------------------\u001b[0m",
      "\u001b[1;31mNameError\u001b[0m                                 Traceback (most recent call last)",
      "Cell \u001b[1;32mIn[18], line 10\u001b[0m\n\u001b[0;32m      7\u001b[0m \u001b[38;5;28;01mexcept\u001b[39;00m \u001b[38;5;167;01mException\u001b[39;00m \u001b[38;5;28;01mas\u001b[39;00m e:  \u001b[38;5;66;03m# Não é boa política, mas é melhor que nada!\u001b[39;00m\n\u001b[0;32m      8\u001b[0m     \u001b[38;5;28mprint\u001b[39m(\u001b[38;5;124mf\u001b[39m\u001b[38;5;124m\"\u001b[39m\u001b[38;5;124mAlgo correu mal: \u001b[39m\u001b[38;5;132;01m{\u001b[39;00me\u001b[38;5;132;01m}\u001b[39;00m\u001b[38;5;124m\"\u001b[39m)\n\u001b[1;32m---> 10\u001b[0m \u001b[38;5;28mprint\u001b[39m(\u001b[38;5;124m\"\u001b[39m\u001b[38;5;124mf está fechado?:\u001b[39m\u001b[38;5;124m\"\u001b[39m, \u001b[43mf\u001b[49m\u001b[38;5;241m.\u001b[39mclosed)\n",
      "\u001b[1;31mNameError\u001b[0m: name 'f' is not defined"
     ]
    }
   ],
   "source": [
    "try:\n",
    "    with open(\"my_file2.txt\") as f:\n",
    "        s = f.readline()\n",
    "        i = int(s.strip())\n",
    "except OSError as e:\n",
    "    print(f\"Erro: {e}\")\n",
    "except Exception as e:  # Não é boa política, mas é melhor que nada!\n",
    "    print(f\"Algo correu mal: {e}\")\n",
    "\n",
    "print(\"f está fechado?:\", f.closed)"
   ]
  },
  {
   "cell_type": "markdown",
   "metadata": {
    "slideshow": {
     "slide_type": "slide"
    }
   },
   "source": [
    "## Exceções definidas pelo programador\n",
    "\n",
    "* Cada programa pode definir novos tipos de exceções, através da criação de uma nova classe.\n",
    "   * As exceções devem ser derivadas da classe `Exception`, direta ou indiretamente (todas as exceções devem ser instâncias de uma classe derivada de `BaseException`). \n",
    "\n",
    "* As classes de exceções podem ser definidas para fazer qualquer coisa que uma classe normal faz, mas em geral são simples, frequentemente oferecendo apenas alguns atributos com informações sobre o erro que ocorreu.\n",
    "\n",
    "* Ao criar um módulo que possa gerar diversos erros, uma prática comum é criar uma classe base para as exceções definidas por esse módulo, e as classes específicas para cada condição de erro como subclasses dela.\n"
   ]
  },
  {
   "cell_type": "code",
   "execution_count": 19,
   "metadata": {
    "ExecuteTime": {
     "end_time": "2022-03-22T12:36:42.301284Z",
     "start_time": "2022-03-22T12:36:42.295222Z"
    },
    "slideshow": {
     "slide_type": "subslide"
    },
    "tags": [
     "raises-exception"
    ]
   },
   "outputs": [
    {
     "name": "stdout",
     "output_type": "stream",
     "text": [
      "Caught an exception: This is a custom exception\n",
      "Error code: 1001\n",
      "Additional info: Some additional information\n"
     ]
    }
   ],
   "source": [
    "class Error(Exception):\n",
    "    \"\"\"Base class for exceptions of this module.\"\"\"\n",
    "\n",
    "    pass\n",
    "\n",
    "\n",
    "class MethodInputError(Error):\n",
    "    \"\"\"Exception raised for method input errors.\n",
    "\n",
    "    Attributes:\n",
    "        message -- Explanation of the error\n",
    "        error_code -- Error code\n",
    "        additional_info -- Additional information\n",
    "    \"\"\"\n",
    "\n",
    "    def __init__(self, message, error_code, additional_info=None):\n",
    "        super().__init__(message)\n",
    "        self.error_code = error_code\n",
    "        self.additional_info = additional_info\n",
    "\n",
    "\n",
    "class TransitionError(Error):\n",
    "    \"\"\"Raised when an operation attempts a state transition that's not\n",
    "    allowed.\n",
    "\n",
    "    Attributes:\n",
    "        message -- explanation of why the specific transition is not allowed\n",
    "        prev_state -- state at beginning of transition\n",
    "        next_state -- attempted new state\n",
    "    \"\"\"\n",
    "\n",
    "    def __init__(self, message, prev_state, next_state):\n",
    "        super().__init__(message)\n",
    "        self.prev_state = prev_state\n",
    "        self.next_state = next_state\n",
    "\n",
    "\n",
    "# Now you can use this exception in your code\n",
    "try:\n",
    "    raise MethodInputError(\n",
    "        \"This is a custom exception\", 1001, \"Some additional information\"\n",
    "    )\n",
    "except MethodInputError as e:\n",
    "    print(f\"Caught an exception: {e}\")\n",
    "    print(f\"Error code: {e.error_code}\")\n",
    "    print(f\"Additional info: {e.additional_info}\")"
   ]
  },
  {
   "cell_type": "markdown",
   "metadata": {
    "slideshow": {
     "slide_type": "subslide"
    }
   },
   "source": [
    "Podemos também derivar de uma classe de exceção mais específica (como o `ValueError`, `TypeError`, etc), para criar uma nova classe de erros dessa categoria:"
   ]
  },
  {
   "cell_type": "code",
   "execution_count": 20,
   "metadata": {},
   "outputs": [
    {
     "name": "stdout",
     "output_type": "stream",
     "text": [
      "Caught a value error: Value should be non-negative\n"
     ]
    }
   ],
   "source": [
    "class MyCustomValueError(ValueError):\n",
    "    def __init__(self, message):\n",
    "        super().__init__(message)\n",
    "\n",
    "\n",
    "try:\n",
    "    some_input = -5\n",
    "    if some_input < 0:\n",
    "        raise MyCustomValueError(\"Value should be non-negative\")\n",
    "except ValueError as e:  # This will catch MyCustomValueError as well\n",
    "    print(f\"Caught a value error: {e}\")"
   ]
  },
  {
   "cell_type": "markdown",
   "metadata": {
    "slideshow": {
     "slide_type": "slide"
    }
   },
   "source": [
    "## Conjunto do exceções pre-definidas (_builtin_)\n",
    "\n",
    "EN:\n",
    "https://docs.python.org/3/library/exceptions.html#bltin-exceptions\n",
    "\n",
    "PT-BR:\n",
    "https://docs.python.org/pt-br/3/library/exceptions.html#bltin-exceptions\n"
   ]
  },
  {
   "cell_type": "markdown",
   "metadata": {
    "slideshow": {
     "slide_type": "slide"
    }
   },
   "source": [
    "## A cláusula `assert` \n",
    "Em computação, uma \"asserção\" *(assertion)* é um predicado que é inserido num programa para verificar uma condição que o programador supõe que seja verdadeira num determinado instante, e da qual depende o código que irá ser executado posteriormente.\n",
    "\n",
    "É conveniente que as asserções sejam acompanhadas com mensagens de erro elucidativas."
   ]
  },
  {
   "cell_type": "code",
   "execution_count": 24,
   "metadata": {
    "ExecuteTime": {
     "end_time": "2022-03-22T12:41:27.422178Z",
     "start_time": "2022-03-22T12:41:27.419726Z"
    },
    "slideshow": {
     "slide_type": "-"
    },
    "tags": [
     "raises-exception"
    ]
   },
   "outputs": [
    {
     "name": "stdout",
     "output_type": "stream",
     "text": [
      "Ok\n"
     ]
    }
   ],
   "source": [
    "a = 1\n",
    "\n",
    "# O objeto 'a' é uma instância da classe inteiro?\n",
    "assert isinstance(a, int), \"O valor não é inteiro.\"\n",
    "\n",
    "print(\"Ok\")"
   ]
  },
  {
   "cell_type": "code",
   "execution_count": 25,
   "metadata": {
    "ExecuteTime": {
     "end_time": "2022-03-22T12:41:28.726242Z",
     "start_time": "2022-03-22T12:41:28.714970Z"
    },
    "slideshow": {
     "slide_type": "subslide"
    },
    "tags": [
     "raises-exception"
    ]
   },
   "outputs": [
    {
     "ename": "AssertionError",
     "evalue": "O valor não é inteiro.",
     "output_type": "error",
     "traceback": [
      "\u001b[1;31m---------------------------------------------------------------------------\u001b[0m",
      "\u001b[1;31mAssertionError\u001b[0m                            Traceback (most recent call last)",
      "Cell \u001b[1;32mIn[25], line 3\u001b[0m\n\u001b[0;32m      1\u001b[0m a \u001b[38;5;241m=\u001b[39m \u001b[38;5;241m1.0\u001b[39m\n\u001b[1;32m----> 3\u001b[0m \u001b[38;5;28;01massert\u001b[39;00m \u001b[38;5;28misinstance\u001b[39m(a, \u001b[38;5;28mint\u001b[39m), \u001b[38;5;124m\"\u001b[39m\u001b[38;5;124mO valor não é inteiro.\u001b[39m\u001b[38;5;124m\"\u001b[39m\n\u001b[0;32m      5\u001b[0m \u001b[38;5;28mprint\u001b[39m(\u001b[38;5;124m\"\u001b[39m\u001b[38;5;124mOk\u001b[39m\u001b[38;5;124m\"\u001b[39m)\n",
      "\u001b[1;31mAssertionError\u001b[0m: O valor não é inteiro."
     ]
    }
   ],
   "source": [
    "a = 1.0\n",
    "\n",
    "assert isinstance(a, int), \"O valor não é inteiro.\"\n",
    "\n",
    "print(\"Ok\")"
   ]
  },
  {
   "cell_type": "code",
   "execution_count": 26,
   "metadata": {
    "ExecuteTime": {
     "end_time": "2022-03-22T12:41:36.592977Z",
     "start_time": "2022-03-22T12:41:36.587050Z"
    },
    "scrolled": true,
    "slideshow": {
     "slide_type": "subslide"
    },
    "tags": [
     "raises-exception"
    ]
   },
   "outputs": [
    {
     "ename": "AssertionError",
     "evalue": "A idade da mãe é menor que a do filho.",
     "output_type": "error",
     "traceback": [
      "\u001b[1;31m---------------------------------------------------------------------------\u001b[0m",
      "\u001b[1;31mAssertionError\u001b[0m                            Traceback (most recent call last)",
      "Cell \u001b[1;32mIn[26], line 4\u001b[0m\n\u001b[0;32m      1\u001b[0m idade_filho \u001b[38;5;241m=\u001b[39m \u001b[38;5;241m18\u001b[39m\n\u001b[0;32m      2\u001b[0m idade_mae \u001b[38;5;241m=\u001b[39m \u001b[38;5;241m4\u001b[39m\n\u001b[1;32m----> 4\u001b[0m \u001b[38;5;28;01massert\u001b[39;00m idade_filho \u001b[38;5;241m<\u001b[39m idade_mae, \u001b[38;5;124m\"\u001b[39m\u001b[38;5;124mA idade da mãe é menor que a do filho.\u001b[39m\u001b[38;5;124m\"\u001b[39m\n",
      "\u001b[1;31mAssertionError\u001b[0m: A idade da mãe é menor que a do filho."
     ]
    }
   ],
   "source": [
    "idade_filho = 18\n",
    "idade_mae = 4\n",
    "\n",
    "assert idade_filho < idade_mae, \"A idade da mãe é menor que a do filho.\""
   ]
  },
  {
   "cell_type": "code",
   "execution_count": 27,
   "metadata": {
    "ExecuteTime": {
     "end_time": "2022-03-22T12:41:44.086212Z",
     "start_time": "2022-03-22T12:41:44.082646Z"
    },
    "slideshow": {
     "slide_type": "subslide"
    },
    "tags": [
     "raises-exception"
    ]
   },
   "outputs": [
    {
     "name": "stdout",
     "output_type": "stream",
     "text": [
      "Erro: A idade da mãe é menor que a do filho.\n"
     ]
    }
   ],
   "source": [
    "try:\n",
    "    idade_filho = 18\n",
    "    idade_mae = 4\n",
    "\n",
    "    assert idade_filho < idade_mae, \"A idade da mãe é menor que a do filho.\"\n",
    "except AssertionError as e:\n",
    "    print(\"Erro:\", e)"
   ]
  },
  {
   "cell_type": "markdown",
   "metadata": {
    "slideshow": {
     "slide_type": "slide"
    }
   },
   "source": [
    "# FIM\n",
    "## Obrigado pela vossa atenção!"
   ]
  }
 ],
 "metadata": {
  "celltoolbar": "Slideshow",
  "finalized": {
   "timestamp": 1647952932217,
   "trusted": true
  },
  "kernelspec": {
   "display_name": "Python 3 (ipykernel)",
   "language": "python",
   "name": "python3"
  },
  "language_info": {
   "codemirror_mode": {
    "name": "ipython",
    "version": 3
   },
   "file_extension": ".py",
   "mimetype": "text/x-python",
   "name": "python",
   "nbconvert_exporter": "python",
   "pygments_lexer": "ipython3",
   "version": "3.11.8"
  },
  "latex_envs": {
   "LaTeX_envs_menu_present": true,
   "autoclose": true,
   "autocomplete": true,
   "bibliofile": "references.bib",
   "cite_by": "apalike",
   "current_citInitial": 1,
   "eqLabelWithNumbers": false,
   "eqNumInitial": 1,
   "hotkeys": {
    "equation": "Ctrl-E",
    "itemize": "Ctrl-I"
   },
   "labels_anchors": false,
   "latex_user_defs": false,
   "report_style_numbering": true,
   "user_envs_cfg": false
  },
  "nbTranslate": {
   "displayLangs": [
    "*"
   ],
   "hotkey": "alt-t",
   "langInMainMenu": true,
   "sourceLang": "en",
   "targetLang": "fr",
   "useGoogleTranslate": true
  },
  "toc": {
   "base_numbering": 1,
   "nav_menu": {},
   "number_sections": true,
   "sideBar": true,
   "skip_h1_title": false,
   "title_cell": "Table of Contents",
   "title_sidebar": "Contents",
   "toc_cell": false,
   "toc_position": {},
   "toc_section_display": true,
   "toc_window_display": false
  },
  "varInspector": {
   "cols": {
    "lenName": 16,
    "lenType": 16,
    "lenVar": 40
   },
   "kernels_config": {
    "python": {
     "delete_cmd_postfix": "",
     "delete_cmd_prefix": "del ",
     "library": "var_list.py",
     "varRefreshCmd": "print(var_dic_list())"
    },
    "r": {
     "delete_cmd_postfix": ") ",
     "delete_cmd_prefix": "rm(",
     "library": "var_list.r",
     "varRefreshCmd": "cat(var_dic_list()) "
    }
   },
   "types_to_exclude": [
    "module",
    "function",
    "builtin_function_or_method",
    "instance",
    "_Feature"
   ],
   "window_display": false
  },
  "vscode": {
   "interpreter": {
    "hash": "514c66916f79f2e119b1c85bbea303f4e82df27fa4f8b079b28152a352dfbb6c"
   }
  }
 },
 "nbformat": 4,
 "nbformat_minor": 2
}
