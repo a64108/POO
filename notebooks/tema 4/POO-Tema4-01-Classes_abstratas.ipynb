{
 "cells": [
  {
   "cell_type": "markdown",
   "metadata": {
    "slideshow": {
     "slide_type": "slide"
    }
   },
   "source": [
    "# Programação Orientada a Objetos (POO)\n",
    "## Tema 4\n",
    "### Parte I – Classes Abstratas\n",
    "Jaime A. Martins\n",
    "\n",
    "(CEOT/ISE/UAlg - jamartins@ualg.pt)"
   ]
  },
  {
   "cell_type": "markdown",
   "metadata": {
    "slideshow": {
     "slide_type": "skip"
    }
   },
   "source": [
    "###### Autores: Jaime Martins [v2]; Pedro Cardoso [v1]"
   ]
  },
  {
   "cell_type": "markdown",
   "metadata": {
    "slideshow": {
     "slide_type": "slide"
    }
   },
   "source": [
    "## Classes abstratas\n",
    "\n",
    "* Uma classe define as características e o comportamento de um conjunto de objetos.\n",
    "* No entanto, **nem todas as classes são projetadas para serem instanciadas (permitir a criação de objetos)**\n",
    "   * Ou seja, algumas classes são usadas apenas para definir um modelo de características comuns e, depois, serem herdadas por outras classes. "
   ]
  },
  {
   "cell_type": "markdown",
   "metadata": {
    "slideshow": {
     "slide_type": "subslide"
    }
   },
   "source": [
    " * As classes que não podem ser instanciadas chamam-se **classes abstratas**:\n",
    "    * Uma **classe abstrata** corresponde à declaração de uma classe para a qual nunca pretendemos criar objetos/instanciar. \n",
    "    * As **classes abstratas** são apenas usadas como **superclasses** em hierarquias de herança. \n",
    "    * As **classe abstratas** não podem ser usadas para instanciar objetos, porque são incompletas."
   ]
  },
  {
   "cell_type": "markdown",
   "metadata": {
    "slideshow": {
     "slide_type": "subslide"
    }
   },
   "source": [
    " * As classes que não são abstratas e que podem ser instanciadas, são conhecidas como **classes concretas**:\n",
    "    * As subclasses devem __implementar as partes ausentes__ para se tornarem classes concretas"
   ]
  },
  {
   "cell_type": "markdown",
   "metadata": {
    "slideshow": {
     "slide_type": "subslide"
    }
   },
   "source": [
    "As classes abstratas são utilizadas para definir métodos que __têm__ de ser implementados em todas as suas subclasses, sem apresentar uma implementação para os mesmos.\n",
    "- Esses métodos são chamados de **métodos abstratos**.\n",
    "- Qualquer classe que possua pelo menos um **método abstrato** é uma **classe abstrata**, mas uma classe pode ser abstrata sem possuir nenhum método abstrato.\n",
    "- Em algumas linguagens, um **método abstrato** \"não tem corpo\", ou seja, apresenta-se apenas uma \"assinatura\"."
   ]
  },
  {
   "cell_type": "markdown",
   "metadata": {
    "slideshow": {
     "slide_type": "slide"
    }
   },
   "source": [
    "### Solução 1 (rudimentar)\n",
    "\n",
    "Declaram-se os métodos e depois levanta-se uma exceção de método não implementado."
   ]
  },
  {
   "cell_type": "code",
   "execution_count": 1,
   "metadata": {
    "ExecuteTime": {
     "end_time": "2022-03-15T11:26:41.020520Z",
     "start_time": "2022-03-15T11:26:41.015648Z"
    },
    "slideshow": {
     "slide_type": "subslide"
    }
   },
   "outputs": [],
   "source": [
    "class Vehicle:\n",
    "    def __init__(self, owner, brand):\n",
    "        self.owner = owner\n",
    "        self.brand = brand\n",
    "\n",
    "    def vehicle_info(self):\n",
    "        raise NotImplementedError(\"vehicle_info: não implementado\")\n",
    "\n",
    "    @property\n",
    "    def owner(self):\n",
    "        return self.__owner\n",
    "\n",
    "    @owner.setter\n",
    "    def owner(self, owner):\n",
    "        self.__owner = owner\n",
    "\n",
    "    @property\n",
    "    def brand(self):\n",
    "        return self.__brand\n",
    "\n",
    "    @brand.setter\n",
    "    def brand(self, brand):\n",
    "        self.__brand = brand"
   ]
  },
  {
   "cell_type": "markdown",
   "metadata": {
    "ExecuteTime": {
     "end_time": "2019-11-20T17:12:32.161578Z",
     "start_time": "2019-11-20T17:12:32.156584Z"
    },
    "slideshow": {
     "slide_type": "subslide"
    }
   },
   "source": [
    "No entanto, a criação de um objeto é valida"
   ]
  },
  {
   "cell_type": "code",
   "execution_count": 2,
   "metadata": {
    "ExecuteTime": {
     "end_time": "2022-03-15T11:26:42.602623Z",
     "start_time": "2022-03-15T11:26:42.598598Z"
    },
    "slideshow": {
     "slide_type": "-"
    }
   },
   "outputs": [],
   "source": [
    "carro = Vehicle(\"Fiat\", \"Margarida\")"
   ]
  },
  {
   "cell_type": "markdown",
   "metadata": {
    "slideshow": {
     "slide_type": "subslide"
    }
   },
   "source": [
    "Será levantada uma exceção quando se chama o método `vehicle_info()`"
   ]
  },
  {
   "cell_type": "code",
   "execution_count": 3,
   "metadata": {
    "ExecuteTime": {
     "end_time": "2022-03-15T11:26:43.774252Z",
     "start_time": "2022-03-15T11:26:43.763148Z"
    },
    "slideshow": {
     "slide_type": "-"
    },
    "tags": [
     "raises-exception"
    ]
   },
   "outputs": [
    {
     "ename": "NotImplementedError",
     "evalue": "vehicle_info: não implementado",
     "output_type": "error",
     "traceback": [
      "\u001b[1;31m---------------------------------------------------------------------------\u001b[0m",
      "\u001b[1;31mNotImplementedError\u001b[0m                       Traceback (most recent call last)",
      "Cell \u001b[1;32mIn[3], line 1\u001b[0m\n\u001b[1;32m----> 1\u001b[0m \u001b[43mcarro\u001b[49m\u001b[38;5;241;43m.\u001b[39;49m\u001b[43mvehicle_info\u001b[49m\u001b[43m(\u001b[49m\u001b[43m)\u001b[49m\n",
      "Cell \u001b[1;32mIn[1], line 7\u001b[0m, in \u001b[0;36mVehicle.vehicle_info\u001b[1;34m(self)\u001b[0m\n\u001b[0;32m      6\u001b[0m \u001b[38;5;28;01mdef\u001b[39;00m \u001b[38;5;21mvehicle_info\u001b[39m(\u001b[38;5;28mself\u001b[39m):\n\u001b[1;32m----> 7\u001b[0m     \u001b[38;5;28;01mraise\u001b[39;00m \u001b[38;5;167;01mNotImplementedError\u001b[39;00m(\u001b[38;5;124m\"\u001b[39m\u001b[38;5;124mvehicle_info: não implementado\u001b[39m\u001b[38;5;124m\"\u001b[39m)\n",
      "\u001b[1;31mNotImplementedError\u001b[0m: vehicle_info: não implementado"
     ]
    }
   ],
   "source": [
    "carro.vehicle_info()"
   ]
  },
  {
   "cell_type": "markdown",
   "metadata": {
    "slideshow": {
     "slide_type": "slide"
    }
   },
   "source": [
    "### Solução 2 (a mais correta!)\n",
    "\n",
    "Como 2ª solução podemos usar o módulo `abc` (_Abstract Base Classes_), prevenindo que a classe possa ser instanciada."
   ]
  },
  {
   "cell_type": "code",
   "execution_count": 4,
   "metadata": {
    "ExecuteTime": {
     "end_time": "2022-03-15T11:28:51.919609Z",
     "start_time": "2022-03-15T11:28:51.909716Z"
    },
    "slideshow": {
     "slide_type": "subslide"
    }
   },
   "outputs": [],
   "source": [
    "from abc import ABC, abstractmethod\n",
    "\n",
    "\n",
    "class Vehicle(ABC):  # Herança de ABC\n",
    "    def __init__(self, owner, brand):\n",
    "        self.owner = owner\n",
    "        self.brand = brand\n",
    "\n",
    "    @abstractmethod\n",
    "    def vehicle_info(self):\n",
    "        pass\n",
    "\n",
    "    @property\n",
    "    def owner(self):\n",
    "        return self.__owner\n",
    "\n",
    "    @owner.setter\n",
    "    def owner(self, owner):\n",
    "        self.__owner = owner\n",
    "\n",
    "    @property\n",
    "    def brand(self):\n",
    "        return self.__brand\n",
    "\n",
    "    @brand.setter\n",
    "    def brand(self, brand):\n",
    "        self.__brand = brand"
   ]
  },
  {
   "cell_type": "markdown",
   "metadata": {
    "slideshow": {
     "slide_type": "subslide"
    }
   },
   "source": [
    "Ou seja, se tentarmos instanciar a classe, será imediatamente levantada uma exceção:"
   ]
  },
  {
   "cell_type": "code",
   "execution_count": 5,
   "metadata": {
    "ExecuteTime": {
     "end_time": "2022-03-15T11:29:14.236048Z",
     "start_time": "2022-03-15T11:29:14.229669Z"
    },
    "slideshow": {
     "slide_type": "-"
    },
    "tags": [
     "raises-exception"
    ]
   },
   "outputs": [
    {
     "ename": "TypeError",
     "evalue": "Can't instantiate abstract class Vehicle with abstract method vehicle_info",
     "output_type": "error",
     "traceback": [
      "\u001b[1;31m---------------------------------------------------------------------------\u001b[0m",
      "\u001b[1;31mTypeError\u001b[0m                                 Traceback (most recent call last)",
      "Cell \u001b[1;32mIn[5], line 1\u001b[0m\n\u001b[1;32m----> 1\u001b[0m carro \u001b[38;5;241m=\u001b[39m \u001b[43mVehicle\u001b[49m\u001b[43m(\u001b[49m\u001b[38;5;124;43m\"\u001b[39;49m\u001b[38;5;124;43mFiat\u001b[39;49m\u001b[38;5;124;43m\"\u001b[39;49m\u001b[43m,\u001b[49m\u001b[43m \u001b[49m\u001b[38;5;124;43m\"\u001b[39;49m\u001b[38;5;124;43mMargarida\u001b[39;49m\u001b[38;5;124;43m\"\u001b[39;49m\u001b[43m)\u001b[49m\n",
      "\u001b[1;31mTypeError\u001b[0m: Can't instantiate abstract class Vehicle with abstract method vehicle_info"
     ]
    }
   ],
   "source": [
    "carro = Vehicle(\"Fiat\", \"Margarida\")"
   ]
  },
  {
   "cell_type": "markdown",
   "metadata": {
    "slideshow": {
     "slide_type": "subslide"
    }
   },
   "source": [
    "Começemos então por estender a classe `Vehicle` com a classe `Car`"
   ]
  },
  {
   "cell_type": "code",
   "execution_count": 6,
   "metadata": {
    "ExecuteTime": {
     "end_time": "2022-03-15T11:29:22.317380Z",
     "start_time": "2022-03-15T11:29:22.311782Z"
    },
    "slideshow": {
     "slide_type": "-"
    }
   },
   "outputs": [],
   "source": [
    "class Car(Vehicle):\n",
    "    def __init__(self, owner, brand, engine):\n",
    "        super().__init__(owner, brand)\n",
    "        self.engine = engine\n",
    "\n",
    "    @property\n",
    "    def engine(self):\n",
    "        return self.__engine\n",
    "\n",
    "    @engine.setter\n",
    "    def engine(self, e):\n",
    "        self.__engine = e"
   ]
  },
  {
   "cell_type": "markdown",
   "metadata": {
    "slideshow": {
     "slide_type": "subslide"
    }
   },
   "source": [
    "Mas não basta derivar da super classe"
   ]
  },
  {
   "cell_type": "code",
   "execution_count": 7,
   "metadata": {
    "ExecuteTime": {
     "end_time": "2022-03-15T11:29:23.209011Z",
     "start_time": "2022-03-15T11:29:23.201773Z"
    },
    "slideshow": {
     "slide_type": "-"
    },
    "tags": [
     "raises-exception"
    ]
   },
   "outputs": [
    {
     "ename": "TypeError",
     "evalue": "Can't instantiate abstract class Car with abstract method vehicle_info",
     "output_type": "error",
     "traceback": [
      "\u001b[1;31m---------------------------------------------------------------------------\u001b[0m",
      "\u001b[1;31mTypeError\u001b[0m                                 Traceback (most recent call last)",
      "Cell \u001b[1;32mIn[7], line 1\u001b[0m\n\u001b[1;32m----> 1\u001b[0m carro \u001b[38;5;241m=\u001b[39m \u001b[43mCar\u001b[49m\u001b[43m(\u001b[49m\u001b[38;5;124;43m\"\u001b[39;49m\u001b[38;5;124;43mMargarida\u001b[39;49m\u001b[38;5;124;43m\"\u001b[39;49m\u001b[43m,\u001b[49m\u001b[43m \u001b[49m\u001b[38;5;124;43m\"\u001b[39;49m\u001b[38;5;124;43mFiat\u001b[39;49m\u001b[38;5;124;43m\"\u001b[39;49m\u001b[43m,\u001b[49m\u001b[43m \u001b[49m\u001b[38;5;124;43m\"\u001b[39;49m\u001b[38;5;124;43m1500 turbo\u001b[39;49m\u001b[38;5;124;43m\"\u001b[39;49m\u001b[43m)\u001b[49m\n",
      "\u001b[1;31mTypeError\u001b[0m: Can't instantiate abstract class Car with abstract method vehicle_info"
     ]
    }
   ],
   "source": [
    "carro = Car(\"Margarida\", \"Fiat\", \"1500 turbo\")"
   ]
  },
  {
   "cell_type": "markdown",
   "metadata": {
    "ExecuteTime": {
     "end_time": "2019-11-20T17:31:55.162537Z",
     "start_time": "2019-11-20T17:31:55.157544Z"
    },
    "slideshow": {
     "slide_type": "subslide"
    }
   },
   "source": [
    "Temos de implementar os métodos que foram decorados como `@abstractmethod`"
   ]
  },
  {
   "cell_type": "code",
   "execution_count": 8,
   "metadata": {
    "ExecuteTime": {
     "end_time": "2022-03-15T11:29:36.244723Z",
     "start_time": "2022-03-15T11:29:36.238707Z"
    },
    "slideshow": {
     "slide_type": "-"
    }
   },
   "outputs": [],
   "source": [
    "class Car(Vehicle):\n",
    "    def __init__(self, owner, brand, engine):\n",
    "        super().__init__(owner, brand)\n",
    "        self.engine = engine\n",
    "\n",
    "    def vehicle_info(self):  # implementação do método abstrato\n",
    "        print(self.__dict__)\n",
    "\n",
    "    @property\n",
    "    def engine(self):\n",
    "        return self.__engine\n",
    "\n",
    "    @engine.setter\n",
    "    def engine(self, e):\n",
    "        self.__engine = e"
   ]
  },
  {
   "cell_type": "code",
   "execution_count": 9,
   "metadata": {
    "ExecuteTime": {
     "end_time": "2022-03-15T11:29:36.879149Z",
     "start_time": "2022-03-15T11:29:36.876730Z"
    },
    "slideshow": {
     "slide_type": "subslide"
    }
   },
   "outputs": [],
   "source": [
    "carro = Car(\"Margarida\", \"Fiat\", \"1500 turbo\")"
   ]
  },
  {
   "cell_type": "code",
   "execution_count": 10,
   "metadata": {
    "ExecuteTime": {
     "end_time": "2022-03-15T11:29:37.633179Z",
     "start_time": "2022-03-15T11:29:37.628891Z"
    },
    "slideshow": {
     "slide_type": "-"
    }
   },
   "outputs": [
    {
     "name": "stdout",
     "output_type": "stream",
     "text": [
      "{'_Vehicle__owner': 'Margarida', '_Vehicle__brand': 'Fiat', '_Car__engine': '1500 turbo'}\n"
     ]
    }
   ],
   "source": [
    "carro.vehicle_info()"
   ]
  },
  {
   "cell_type": "markdown",
   "metadata": {
    "slideshow": {
     "slide_type": "slide"
    }
   },
   "source": [
    "## Exemplo\n",
    "\n",
    "Comecemos por definir uma classe abstrata para jogos de tabuleiro com 2 jogadores que jogam alternadamente\n",
    "\n",
    "![img-algoritmo_jogo_tabuleiro.png](img/img-algoritmo_jogo_tabuleiro.png)\n"
   ]
  },
  {
   "cell_type": "code",
   "execution_count": 11,
   "metadata": {
    "ExecuteTime": {
     "end_time": "2022-03-15T12:55:02.753243Z",
     "start_time": "2022-03-15T12:55:02.745901Z"
    },
    "slideshow": {
     "slide_type": "slide"
    }
   },
   "outputs": [],
   "source": [
    "from abc import ABC, abstractmethod\n",
    "import random\n",
    "\n",
    "\n",
    "class Jogo(ABC):\n",
    "    \"\"\"\n",
    "    Classe abstrata que define a interface de um jogo para\n",
    "    2 jogadores.\n",
    "    \"\"\"\n",
    "\n",
    "    def __init__(self) -> None:\n",
    "        \"\"\"\n",
    "        Inicializar o jogo.\n",
    "        \"\"\"\n",
    "        print(\"Bom jogo...\")\n",
    "        self.inicializa_tabuleiro()\n",
    "\n",
    "    @abstractmethod\n",
    "    def inicializa_tabuleiro(self) -> None:\n",
    "        \"\"\"\n",
    "        Inicializar o tabuleiro do jogo.\n",
    "        \"\"\"\n",
    "        pass\n",
    "\n",
    "    @abstractmethod\n",
    "    def mostra_tabuleiro(self) -> None:\n",
    "        \"\"\"\n",
    "        Desenhar o tabuleiro do jogo.\n",
    "        \"\"\"\n",
    "        pass\n",
    "\n",
    "    @abstractmethod\n",
    "    def joga_humano(self, jogador: int) -> None:\n",
    "        \"\"\"\n",
    "        Solicitar ao humano :jogador: a próxima jogada\n",
    "        e colocá-la no tabuleiro.\n",
    "        :param jogador: número do jogador (0 ou 1).\n",
    "        \"\"\"\n",
    "        pass\n",
    "\n",
    "    @abstractmethod\n",
    "    def ha_jogadas_possiveis(self) -> bool:\n",
    "        \"\"\"\n",
    "        Verifica se ainda há jogadas possíveis ou se o jogo\n",
    "        está empatado.\n",
    "        :return: `True` se ainda há jogadas possíveis,\n",
    "        `False` caso contrário.\n",
    "        \"\"\"\n",
    "        pass\n",
    "\n",
    "    @abstractmethod\n",
    "    def terminou(self) -> bool:\n",
    "        \"\"\"\n",
    "        Verifica se foi verificada a condição de paragem,\n",
    "        i.e., um jogador ganhou.\n",
    "        :return: `True` se o jogo terminou,\n",
    "        `False` caso contrário.\n",
    "        \"\"\"\n",
    "        pass\n",
    "\n",
    "    def jogar(self) -> None:\n",
    "        \"\"\"\n",
    "        Corre o jogo.\n",
    "        \"\"\"\n",
    "        # Escolher quem joga em primeiro\n",
    "        jogador = random.randint(0, 1)\n",
    "\n",
    "        while True:\n",
    "            self.mostra_tabuleiro()\n",
    "            self.joga_humano(jogador)\n",
    "            if self.terminou():\n",
    "                self.mostra_tabuleiro()\n",
    "                print(f\"\\nO jogador {jogador} ganhou!\")\n",
    "                return\n",
    "            elif not self.ha_jogadas_possiveis():\n",
    "                self.mostra_tabuleiro()\n",
    "                print(\"\\nEmpataram...\")\n",
    "                return\n",
    "            # Passar a vez ao outro jogador\n",
    "            jogador = (jogador + 1) % 2  # 0->1 ou 1->0"
   ]
  },
  {
   "cell_type": "markdown",
   "metadata": {
    "slideshow": {
     "slide_type": "subslide"
    }
   },
   "source": [
    "Agora podemos criar uma classe concreta, definindo somente os métodos abstratos"
   ]
  },
  {
   "cell_type": "code",
   "execution_count": 12,
   "metadata": {
    "ExecuteTime": {
     "end_time": "2022-03-15T12:55:03.483455Z",
     "start_time": "2022-03-15T12:55:03.475238Z"
    },
    "slideshow": {
     "slide_type": "subslide"
    }
   },
   "outputs": [],
   "source": [
    "class Galo(Jogo):\n",
    "    \"\"\"\n",
    "    Classe concreta que herda da classe Jogo e implementa\n",
    "    o jogo do Galo.\n",
    "    \"\"\"\n",
    "\n",
    "    def inicializa_tabuleiro(self) -> None:\n",
    "        \"\"\"\n",
    "        Inicializa o tabuleiro do jogo do Galo.\n",
    "        \"\"\"\n",
    "        # Conta as jogadas, serve para saber se ainda ha jogadas validas\n",
    "        self.numero_de_jogadas_realizadas = 0\n",
    "        # Dicionário que representa o tabuleiro\n",
    "        self.tabuleiro = {(lin, col): \" \" for lin in range(3) for col in range(3)}\n",
    "\n",
    "    def mostra_tabuleiro(self) -> None:\n",
    "        \"\"\"\n",
    "        Desenha o tabuleiro do jogo do Galo.\n",
    "        \"\"\"\n",
    "        print(13 * \"-\")\n",
    "        for lin in range(3):\n",
    "            for col in range(3):\n",
    "                print(f\"| {self.tabuleiro[(lin, col)]} \", end=\"\")\n",
    "            print(\"|\\n\" + 13 * \"-\")\n",
    "\n",
    "    def _le_linha_coluna_valida(self, msg) -> int:\n",
    "        \"\"\"\n",
    "        Método auxiliar para ler uma posição que seja 1, 2 ou 3.\n",
    "        :param s: mensagem para o utilizador\n",
    "        :return: posição válida lida a partir do input do utilizador\n",
    "        \"\"\"\n",
    "        inputs_validos = {\"1\", \"2\", \"3\"}\n",
    "        while True:\n",
    "            pos = input(msg)\n",
    "            # Verifica se a posição é válida\n",
    "            if pos in inputs_validos:\n",
    "                # Devolve int(posição)-1, para ficar entre 0 e 2\n",
    "                return int(pos) - 1\n",
    "\n",
    "    def joga_humano(self, jogador) -> None:\n",
    "        \"\"\"\n",
    "        Método que solicita a jogada ao jogador humano\n",
    "        e a coloca no tabuleiro do jogo do galo.\n",
    "        :param jogador: número do jogador humano\n",
    "        \"\"\"\n",
    "        print(f\"\\nJogador {jogador}, insira a sua jogada\")\n",
    "        while True:\n",
    "            linha = self._le_linha_coluna_valida(\"Linha? \")\n",
    "            coluna = self._le_linha_coluna_valida(\"Coluna? \")\n",
    "\n",
    "            # Verifica se a posição não esta preenchida, i.e., é valida\n",
    "            if self.tabuleiro[(linha, coluna)] == \" \":\n",
    "                self.tabuleiro[(linha, coluna)] = [\"O\", \"X\"][jogador]\n",
    "                self.numero_de_jogadas_realizadas += 1\n",
    "                return\n",
    "            else:\n",
    "                print(\"Jogada inválida. Tente de novo!\")\n",
    "\n",
    "    def terminou(self) -> bool:\n",
    "        \"\"\"\n",
    "        Verifica a condição de paragem, i.e., um jogador ganhou.\n",
    "        :return: `True` se o jogo terminou, `False` caso contrário.\n",
    "        \"\"\"\n",
    "        posicoes_ganhadoras = (\n",
    "            ((0, 0), (0, 1), (0, 2)),  # Linha 0\n",
    "            ((1, 0), (1, 1), (1, 2)),  # Linha 1\n",
    "            ((2, 0), (2, 1), (2, 2)),  # Linha 2\n",
    "            ((0, 0), (1, 0), (2, 0)),  # Coluna 0\n",
    "            ((0, 1), (1, 1), (2, 1)),  # Coluna 1\n",
    "            ((0, 2), (1, 2), (2, 2)),  # Coluna 2\n",
    "            ((0, 0), (1, 1), (2, 2)),  # Diagonal\n",
    "            ((0, 2), (1, 1), (2, 0)),  # Anti-diagonal\n",
    "        )\n",
    "\n",
    "        # Devolve True se encontrou posição ganhadora\n",
    "        return any(\n",
    "            self.tabuleiro[pos[0]] == self.tabuleiro[pos[1]] == self.tabuleiro[pos[2]]\n",
    "            and self.tabuleiro[pos[0]] != \" \"\n",
    "            for pos in posicoes_ganhadoras\n",
    "        )\n",
    "\n",
    "    def ha_jogadas_possiveis(self):\n",
    "        \"\"\"\n",
    "        Verifica se ainda há jogadas possíveis ou se o jogo está\n",
    "        empatado.\n",
    "        :return: `True` se ainda há jogadas possíveis,\n",
    "        `False` caso contrário.\n",
    "        \"\"\"\n",
    "        return self.numero_de_jogadas_realizadas < 9"
   ]
  },
  {
   "cell_type": "code",
   "execution_count": null,
   "metadata": {
    "slideshow": {
     "slide_type": "subslide"
    }
   },
   "outputs": [
    {
     "name": "stdout",
     "output_type": "stream",
     "text": [
      "Bom jogo...\n",
      "-------------\n",
      "|   |   |   |\n",
      "-------------\n",
      "|   |   |   |\n",
      "-------------\n",
      "|   |   |   |\n",
      "-------------\n",
      "\n",
      "Jogador 0, insira a sua jogada\n"
     ]
    }
   ],
   "source": [
    "jogo = Galo()\n",
    "jogo.jogar()"
   ]
  }
 ],
 "metadata": {
  "celltoolbar": "Slideshow",
  "kernelspec": {
   "display_name": "Python 3 (ipykernel)",
   "language": "python",
   "name": "python3"
  },
  "language_info": {
   "codemirror_mode": {
    "name": "ipython",
    "version": 3
   },
   "file_extension": ".py",
   "mimetype": "text/x-python",
   "name": "python",
   "nbconvert_exporter": "python",
   "pygments_lexer": "ipython3",
   "version": "3.11.8"
  },
  "latex_envs": {
   "LaTeX_envs_menu_present": true,
   "autoclose": true,
   "autocomplete": true,
   "bibliofile": "references.bib",
   "cite_by": "apalike",
   "current_citInitial": 1,
   "eqLabelWithNumbers": false,
   "eqNumInitial": 1,
   "hotkeys": {
    "equation": "Ctrl-E",
    "itemize": "Ctrl-I"
   },
   "labels_anchors": false,
   "latex_user_defs": false,
   "report_style_numbering": true,
   "user_envs_cfg": false
  },
  "toc": {
   "base_numbering": 1,
   "nav_menu": {},
   "number_sections": true,
   "sideBar": true,
   "skip_h1_title": false,
   "title_cell": "Table of Contents",
   "title_sidebar": "Contents",
   "toc_cell": false,
   "toc_position": {},
   "toc_section_display": true,
   "toc_window_display": false
  },
  "varInspector": {
   "cols": {
    "lenName": 16,
    "lenType": 16,
    "lenVar": 40
   },
   "kernels_config": {
    "python": {
     "delete_cmd_postfix": "",
     "delete_cmd_prefix": "del ",
     "library": "var_list.py",
     "varRefreshCmd": "print(var_dic_list())"
    },
    "r": {
     "delete_cmd_postfix": ") ",
     "delete_cmd_prefix": "rm(",
     "library": "var_list.r",
     "varRefreshCmd": "cat(var_dic_list()) "
    }
   },
   "types_to_exclude": [
    "module",
    "function",
    "builtin_function_or_method",
    "instance",
    "_Feature"
   ],
   "window_display": false
  },
  "vscode": {
   "interpreter": {
    "hash": "1a5c2acd6c908f8ed8bed28682f341c5289030a6eeb597e27b96425e47eef291"
   }
  }
 },
 "nbformat": 4,
 "nbformat_minor": 2
}
