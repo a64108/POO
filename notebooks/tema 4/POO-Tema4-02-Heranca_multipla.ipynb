{
 "cells": [
  {
   "cell_type": "markdown",
   "metadata": {
    "ExecuteTime": {
     "end_time": "2019-11-20T17:37:14.117271Z",
     "start_time": "2019-11-20T17:37:14.112275Z"
    },
    "slideshow": {
     "slide_type": "slide"
    }
   },
   "source": [
    "# Programação Orientada a Objetos (POO)\n",
    "## Tema 4\n",
    "### Parte II – Herança Múltipla\n",
    "Jaime A. Martins\n",
    "\n",
    "(CEOT/ISE/UAlg - jamartins@ualg.pt)"
   ]
  },
  {
   "cell_type": "markdown",
   "metadata": {
    "slideshow": {
     "slide_type": "skip"
    }
   },
   "source": [
    "###### Autores: Jaime Martins [v2]; Pedro Cardoso [v1]"
   ]
  },
  {
   "cell_type": "markdown",
   "metadata": {
    "slideshow": {
     "slide_type": "slide"
    }
   },
   "source": [
    "A herança múltipla ocorre sempre que uma subclasse herda de duas ou mais superclasses imediatas, ou seja, é \"filha\" de mais de uma classe.\n",
    "\n",
    "![alt text](img/img-hm.png \"Classe\")\n",
    "\n",
    "Neste exemplo:\n",
    "* `AmphibiousVehicle` herda simultaneamente de `LandVehicle` e de `WaterVehicle`\n",
    "* Por sua vez, `LandVehicle` e `WaterVehicle` herdam de `Vehicle`"
   ]
  },
  {
   "cell_type": "markdown",
   "metadata": {
    "slideshow": {
     "slide_type": "subslide"
    }
   },
   "source": [
    "Antes de vermos o código, vamos utilizar uma livraria muito útil para debug:\n",
    "* O módulo ``icecream`` – https://github.com/gruns/icecream."
   ]
  },
  {
   "cell_type": "code",
   "execution_count": null,
   "metadata": {
    "slideshow": {
     "slide_type": "-"
    }
   },
   "outputs": [],
   "source": [
    "%pip install icecream"
   ]
  },
  {
   "cell_type": "code",
   "execution_count": 2,
   "metadata": {
    "ExecuteTime": {
     "end_time": "2022-03-15T11:24:59.336208Z",
     "start_time": "2022-03-15T11:24:59.330124Z"
    },
    "slideshow": {
     "slide_type": "subslide"
    }
   },
   "outputs": [],
   "source": [
    "from abc import ABC, abstractmethod\n",
    "\n",
    "from icecream import ic\n",
    "\n",
    "class Vehicle(ABC):\n",
    "    def __init__(self, owner, brand):\n",
    "        ic(Vehicle)\n",
    "        # print(\"Init: Vehicle\")  # para debug\n",
    "        self.owner = owner\n",
    "        self.brand = brand\n",
    "\n",
    "    @abstractmethod\n",
    "    def vehicle_info(self):\n",
    "        pass\n",
    "\n",
    "    @property\n",
    "    def owner(self):\n",
    "        return self.__owner\n",
    "\n",
    "    @owner.setter\n",
    "    def owner(self, owner):\n",
    "        self.__owner = owner\n",
    "\n",
    "    @property\n",
    "    def brand(self):\n",
    "        return self.__brand\n",
    "\n",
    "    @brand.setter\n",
    "    def brand(self, brand):\n",
    "        self.__brand = brand"
   ]
  },
  {
   "cell_type": "code",
   "execution_count": 3,
   "metadata": {
    "ExecuteTime": {
     "end_time": "2022-03-15T11:25:00.196592Z",
     "start_time": "2022-03-15T11:25:00.192506Z"
    },
    "slideshow": {
     "slide_type": "subslide"
    }
   },
   "outputs": [],
   "source": [
    "class LandVehicle(Vehicle):\n",
    "    def __init__(self, owner, brand, land_velocity, **kwargs):\n",
    "        ic(LandVehicle)\n",
    "        # print(\"Init: LandVehicle\")  # para debug\n",
    "        self.land_velocity = land_velocity\n",
    "        super().__init__(owner, brand, **kwargs)\n",
    "\n",
    "    @property\n",
    "    def land_velocity(self):\n",
    "        return self.__land_velocity\n",
    "\n",
    "    @land_velocity.setter\n",
    "    def land_velocity(self, lv):\n",
    "        self.__land_velocity = lv"
   ]
  },
  {
   "cell_type": "code",
   "execution_count": 4,
   "metadata": {
    "ExecuteTime": {
     "end_time": "2022-03-15T11:25:00.901867Z",
     "start_time": "2022-03-15T11:25:00.897258Z"
    },
    "slideshow": {
     "slide_type": "subslide"
    }
   },
   "outputs": [],
   "source": [
    "class WaterVehicle(Vehicle):\n",
    "    def __init__(self, owner, brand, water_velocity, **kwargs):\n",
    "        ic(WaterVehicle)\n",
    "        # print(\"Init: WaterVehicle\")  # para debug\n",
    "        self.water_velocity = water_velocity\n",
    "        super().__init__(owner, brand, **kwargs)\n",
    "\n",
    "    @property\n",
    "    def water_velocity(self):\n",
    "        return self.__water_velocity\n",
    "\n",
    "    @water_velocity.setter\n",
    "    def water_velocity(self, wv):\n",
    "        self.__water_velocity = wv"
   ]
  },
  {
   "cell_type": "markdown",
   "metadata": {
    "slideshow": {
     "slide_type": "subslide"
    }
   },
   "source": [
    "e a classe `AmphibiousVehicle` deriva das anteriores "
   ]
  },
  {
   "cell_type": "code",
   "execution_count": 5,
   "metadata": {
    "ExecuteTime": {
     "end_time": "2022-03-15T11:25:02.073599Z",
     "start_time": "2022-03-15T11:25:02.069479Z"
    },
    "slideshow": {
     "slide_type": "-"
    }
   },
   "outputs": [],
   "source": [
    "class AmphibiousVehicle(LandVehicle, WaterVehicle):\n",
    "    def __init__(self, *args, **kwargs):\n",
    "        ic(AmphibiousVehicle)\n",
    "        super().__init__(*args, **kwargs)\n",
    "\n",
    "    def vehicle_info(self):\n",
    "        print(\n",
    "            f\"\"\"Isto é um veiculo anfíbio cujo dono é o/a {self.owner}, da marca {self.brand}.\n",
    "Tem uma velocidade de {self.land_velocity} Km/h em terra e {self.water_velocity} nós na água.\"\"\"\n",
    "        )"
   ]
  },
  {
   "cell_type": "code",
   "execution_count": 6,
   "metadata": {
    "ExecuteTime": {
     "end_time": "2022-03-15T11:25:02.805945Z",
     "start_time": "2022-03-15T11:25:02.800085Z"
    },
    "scrolled": true,
    "slideshow": {
     "slide_type": "subslide"
    }
   },
   "outputs": [
    {
     "name": "stderr",
     "output_type": "stream",
     "text": [
      "ic| AmphibiousVehicle: <class '__main__.AmphibiousVehicle'>\n",
      "ic| LandVehicle: <class '__main__.LandVehicle'>\n",
      "ic| WaterVehicle: <class '__main__.WaterVehicle'>\n",
      "ic| Vehicle: <class '__main__.Vehicle'>\n"
     ]
    },
    {
     "name": "stdout",
     "output_type": "stream",
     "text": [
      "Isto é um veiculo anfíbio cujo dono é o/a Margarida, da marca Rinspeed Splash.\n",
      "Tem uma velocidade de 120 Km/h em terra e 38 nós na água.\n"
     ]
    }
   ],
   "source": [
    "amph = AmphibiousVehicle(\n",
    "    'Margarida',\n",
    "    'Rinspeed Splash',\n",
    "    land_velocity=120,\n",
    "    water_velocity=38)\n",
    "\n",
    "amph.vehicle_info()"
   ]
  },
  {
   "cell_type": "code",
   "execution_count": 7,
   "metadata": {
    "ExecuteTime": {
     "end_time": "2022-03-15T11:25:04.624227Z",
     "start_time": "2022-03-15T11:25:04.621423Z"
    },
    "slideshow": {
     "slide_type": "subslide"
    }
   },
   "outputs": [
    {
     "name": "stdout",
     "output_type": "stream",
     "text": [
      "Isto é um veiculo anfíbio cujo dono é o/a Zé, da marca Rinspeed Splash.\n",
      "Tem uma velocidade de 120 Km/h em terra e 38 nós na água.\n"
     ]
    }
   ],
   "source": [
    "amph.owner = \"Zé\"\n",
    "\n",
    "amph.vehicle_info()"
   ]
  },
  {
   "cell_type": "markdown",
   "metadata": {
    "slideshow": {
     "slide_type": "subslide"
    }
   },
   "source": [
    "A ordem de resolução dos métodos (**method resolution order – MRO**) herdados pode ser vista no atributo `__mro__`"
   ]
  },
  {
   "cell_type": "code",
   "execution_count": 8,
   "metadata": {
    "ExecuteTime": {
     "end_time": "2022-03-15T11:25:06.214684Z",
     "start_time": "2022-03-15T11:25:06.206499Z"
    },
    "slideshow": {
     "slide_type": "-"
    }
   },
   "outputs": [
    {
     "data": {
      "text/plain": [
       "(__main__.AmphibiousVehicle,\n",
       " __main__.LandVehicle,\n",
       " __main__.WaterVehicle,\n",
       " __main__.Vehicle,\n",
       " abc.ABC,\n",
       " object)"
      ]
     },
     "execution_count": 8,
     "metadata": {},
     "output_type": "execute_result"
    }
   ],
   "source": [
    "AmphibiousVehicle.__mro__"
   ]
  }
 ],
 "metadata": {
  "celltoolbar": "Slideshow",
  "kernelspec": {
   "display_name": "Python 3 (ipykernel)",
   "language": "python",
   "name": "python3"
  },
  "language_info": {
   "codemirror_mode": {
    "name": "ipython",
    "version": 3
   },
   "file_extension": ".py",
   "mimetype": "text/x-python",
   "name": "python",
   "nbconvert_exporter": "python",
   "pygments_lexer": "ipython3",
   "version": "3.11.8"
  },
  "latex_envs": {
   "LaTeX_envs_menu_present": true,
   "autoclose": true,
   "autocomplete": true,
   "bibliofile": "references.bib",
   "cite_by": "apalike",
   "current_citInitial": 1,
   "eqLabelWithNumbers": false,
   "eqNumInitial": 1,
   "hotkeys": {
    "equation": "Ctrl-E",
    "itemize": "Ctrl-I"
   },
   "labels_anchors": false,
   "latex_user_defs": false,
   "report_style_numbering": true,
   "user_envs_cfg": false
  },
  "toc": {
   "base_numbering": 1,
   "nav_menu": {},
   "number_sections": true,
   "sideBar": true,
   "skip_h1_title": false,
   "title_cell": "Table of Contents",
   "title_sidebar": "Contents",
   "toc_cell": false,
   "toc_position": {},
   "toc_section_display": true,
   "toc_window_display": false
  },
  "varInspector": {
   "cols": {
    "lenName": 16,
    "lenType": 16,
    "lenVar": 40
   },
   "kernels_config": {
    "python": {
     "delete_cmd_postfix": "",
     "delete_cmd_prefix": "del ",
     "library": "var_list.py",
     "varRefreshCmd": "print(var_dic_list())"
    },
    "r": {
     "delete_cmd_postfix": ") ",
     "delete_cmd_prefix": "rm(",
     "library": "var_list.r",
     "varRefreshCmd": "cat(var_dic_list()) "
    }
   },
   "types_to_exclude": [
    "module",
    "function",
    "builtin_function_or_method",
    "instance",
    "_Feature"
   ],
   "window_display": false
  },
  "vscode": {
   "interpreter": {
    "hash": "514c66916f79f2e119b1c85bbea303f4e82df27fa4f8b079b28152a352dfbb6c"
   }
  }
 },
 "nbformat": 4,
 "nbformat_minor": 2
}
